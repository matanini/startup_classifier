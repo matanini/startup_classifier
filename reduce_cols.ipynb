{
 "cells": [
  {
   "cell_type": "code",
   "execution_count": 1,
   "metadata": {},
   "outputs": [],
   "source": [
    "import pandas as pd\n",
    "import numpy as np\n"
   ]
  },
  {
   "cell_type": "code",
   "execution_count": 2,
   "metadata": {},
   "outputs": [
    {
     "data": {
      "text/plain": [
       "(10070, 2864)"
      ]
     },
     "execution_count": 2,
     "metadata": {},
     "output_type": "execute_result"
    }
   ],
   "source": [
    "df = pd.read_csv('final_cleaned.csv')\n",
    "df.shape\n"
   ]
  },
  {
   "cell_type": "code",
   "execution_count": 3,
   "metadata": {},
   "outputs": [],
   "source": [
    "cat_cols = ['company_name','company_about', 'founded', 'business model','employees','product stage','status','fund_stage', 'succeeded']\n",
    "num_cols = ['total_raised','total_rounds', 'investors','ipo_price', 'geo_market_per']\n",
    "tag_cols = [col for col in df.columns if col.startswith('tag_')]\n",
    "targetmarket_cols = [col for col in df.columns if col.startswith('targetmarket_')]\n",
    "sector_list = [col for col in df.columns if col.startswith(\"sector_\")]\n",
    "target_ind_list = [col  for col in df.columns if col.startswith(\"target_industry_\")]\n",
    "technology_list = [col  for col in df.columns if col.startswith(\"core_technology_\")]\n",
    "bin_cols = tag_cols + targetmarket_cols + sector_list + target_ind_list + technology_list"
   ]
  },
  {
   "cell_type": "code",
   "execution_count": null,
   "metadata": {},
   "outputs": [],
   "source": [
    "for i, col in enumerate(bin_cols):\n",
    "    name = col.split('_')\n",
    "    property = name[0]\n",
    "    df[col]"
   ]
  },
  {
   "cell_type": "code",
   "execution_count": 44,
   "metadata": {},
   "outputs": [],
   "source": [
    "# count how many 1 for each row\n",
    "l = []\n",
    "for i, col in enumerate(df.index):\n",
    "    l.append(df[sector_list].iloc[i,:].sum())\n",
    "\n",
    "l.sort()"
   ]
  },
  {
   "cell_type": "code",
   "execution_count": 46,
   "metadata": {},
   "outputs": [
    {
     "data": {
      "text/plain": [
       "12.0"
      ]
     },
     "execution_count": 46,
     "metadata": {},
     "output_type": "execute_result"
    }
   ],
   "source": []
  },
  {
   "cell_type": "code",
   "execution_count": 24,
   "metadata": {},
   "outputs": [
    {
     "name": "stdout",
     "output_type": "stream",
     "text": [
      "0\n"
     ]
    },
    {
     "data": {
      "text/plain": [
       "[('sector_Energy-tech_Nonrenewable Energy Sources', 11.0),\n",
       " ('sector_Aerospace & Aviation_Satellites & Space Exploration', 32.0),\n",
       " ('sector_Retail & Marketing_Procurement Management', 33.0),\n",
       " ('sector_Smart Mobility_Materials & Hardware', 33.0),\n",
       " ('sector_Smart Mobility_Maritime', 44.0),\n",
       " ('sector_Energy-tech_Energy Transmission & Distribution', 46.0),\n",
       " ('sector_Security Technologies_Defense Tech', 49.0),\n",
       " ('sector_Energy-tech_Energy Storage', 63.0),\n",
       " ('sector_AgriFood-tech & Water_Produce Preservation & Trade', 64.0),\n",
       " ('sector_AgriFood-tech & Water_Agricultural Inputs', 75.0),\n",
       " ('sector_Smart Mobility_Electrification & Energy', 75.0),\n",
       " ('sector_Enterprise, IT & Data Infrastructure_Legal Operations', 82.0),\n",
       " ('sector_AgriFood-tech & Water_Pathogens & Pests', 83.0),\n",
       " ('sector_Energy-tech_Energy Usage', 86.0),\n",
       " ('sector_Security Technologies_Physical Security', 88.0),\n",
       " ('sector_AgriFood-tech & Water_Food Processing', 90.0),\n",
       " ('sector_Aerospace & Aviation_UAV & Aircrafts', 95.0),\n",
       " ('sector_Industrial Technologies_Construction Tech', 95.0),\n",
       " ('sector_FinTech_Real Estate Tech', 95.0),\n",
       " ('sector_FinTech_Insurtech', 99.0),\n",
       " ('sector_AgriFood-tech & Water_Alternative Food Sources', 109.0),\n",
       " ('sector_FinTech_Personal Finance Management', 112.0),\n",
       " ('sector_FinTech_Lending & Financing', 112.0),\n",
       " ('sector_Retail & Marketing_Retail Digitalization', 115.0),\n",
       " ('sector_Security Technologies_Emergency Response', 120.0),\n",
       " ('sector_Energy-tech_Renewable Energy Sources', 128.0),\n",
       " ('sector_Aerospace & Aviation', 129.0),\n",
       " ('sector_Security Technologies_Detection Systems', 179.0),\n",
       " ('sector_Smart Mobility_Autonomous & Connected', 184.0),\n",
       " ('sector_AgriFood-tech & Water_Yield Optimization & Harvest', 214.0),\n",
       " ('sector_FinTech_Trading & Investing', 227.0),\n",
       " ('sector_AgriFood-tech & Water_Water & Irrigation', 235.0),\n",
       " ('sector_Enterprise, IT & Data Infrastructure_HR-tech', 241.0),\n",
       " ('sector_Industrial Technologies_Materials', 244.0),\n",
       " ('sector_FinTech_Payment & Money Transfer', 244.0),\n",
       " ('sector_Enterprise, IT & Data Infrastructure_Data Architecture', 259.0),\n",
       " ('sector_Industrial Technologies_Industry 4.0', 292.0),\n",
       " ('sector_Smart Mobility_Mobility Services', 314.0),\n",
       " ('sector_Energy-tech', 321.0),\n",
       " ('sector_Retail & Marketing_Social Commerce', 347.0),\n",
       " ('sector_Industrial Technologies_Electronic Manufacturing & Semiconductors',\n",
       "  371.0),\n",
       " ('sector_Content & Media_EdTech', 396.0),\n",
       " ('sector_Smart Mobility', 588.0),\n",
       " ('sector_Life Sciences & HealthTech_Pharma & Biomedicine', 606.0),\n",
       " ('sector_Enterprise, IT & Data Infrastructure_Data Analysis & Decision Support',\n",
       "  654.0),\n",
       " ('sector_Security Technologies_Cyber Security', 685.0),\n",
       " ('sector_Life Sciences & HealthTech_Digital Health', 688.0),\n",
       " ('sector_FinTech', 765.0),\n",
       " ('sector_Retail & Marketing_Advertising Tech', 792.0),\n",
       " ('sector_AgriFood-tech & Water', 826.0),\n",
       " ('sector_Life Sciences & HealthTech_Medical Devices', 869.0),\n",
       " ('sector_Industrial Technologies', 982.0),\n",
       " ('sector_Enterprise, IT & Data Infrastructure_Business Process Management',\n",
       "  1022.0),\n",
       " ('sector_Security Technologies', 1029.0),\n",
       " ('sector_Retail & Marketing_eCommerce & Sales', 1060.0),\n",
       " ('sector_Content & Media_Media & Entertainment Tech', 1341.0),\n",
       " ('sector_Content & Media', 1635.0),\n",
       " ('sector_Retail & Marketing', 1829.0),\n",
       " ('sector_Enterprise, IT & Data Infrastructure', 1873.0),\n",
       " ('sector_Life Sciences & HealthTech', 1931.0)]"
      ]
     },
     "execution_count": 24,
     "metadata": {},
     "output_type": "execute_result"
    }
   ],
   "source": [
    "# sum of each column in dataframe\n",
    "list_target_industry_dict = {}\n",
    "list_target_industry = []\n",
    "count = 0\n",
    "for col in sector_list:\n",
    "    list_target_industry_dict[col] = df[col].sum()\n",
    "    list_target_industry.append(list_target_industry_dict[col])\n",
    "    if list_target_industry_dict[col] == 1 :\n",
    "        count += 1\n",
    "    # print(f'{col}: {df[col].sum()}')\n",
    "print(count)\n",
    "# sort dict values in descending order\n",
    "list_target_industry2 = sorted(list_target_industry_dict.items(), key=lambda x: x[1])\n",
    "list_target_industry2"
   ]
  },
  {
   "cell_type": "code",
   "execution_count": 41,
   "metadata": {},
   "outputs": [
    {
     "name": "stdout",
     "output_type": "stream",
     "text": [
      "avg: 423.43333333333334\n",
      "median: 90.0\n"
     ]
    }
   ],
   "source": [
    "print(f\"avg: {sum(list_target_industry_dict.values()) / len(list_target_industry_dict)}\")\n",
    "print(f\"median: {sorted(list_target_industry_dict.values())[int(len(list_target_industry_dict)/4)]}\")"
   ]
  },
  {
   "cell_type": "code",
   "execution_count": 30,
   "metadata": {},
   "outputs": [
    {
     "data": {
      "text/plain": [
       "<BarContainer object of 60 artists>"
      ]
     },
     "execution_count": 30,
     "metadata": {},
     "output_type": "execute_result"
    },
    {
     "data": {
      "image/png": "[encoded data removed]",
      "text/plain": [
       "<Figure size 720x720 with 1 Axes>"
      ]
     },
     "metadata": {
      "needs_background": "light"
     },
     "output_type": "display_data"
    }
   ],
   "source": [
    "#  plot the values of list\n",
    "\n",
    "\n",
    "\n",
    "import matplotlib.pyplot as plt\n",
    "fig = plt.figure(figsize=(10,10))\n",
    "\n",
    "\n",
    "plt.bar(list_target_industry_dict.keys(), list_target_industry_dict.values())"
   ]
  },
  {
   "cell_type": "code",
   "execution_count": null,
   "metadata": {},
   "outputs": [],
   "source": []
  }
 ],
 "metadata": {
  "kernelspec": {
   "display_name": "Python 3.10.0 64-bit",
   "language": "python",
   "name": "python3"
  },
  "language_info": {
   "codemirror_mode": {
    "name": "ipython",
    "version": 3
   },
   "file_extension": ".py",
   "mimetype": "text/x-python",
   "name": "python",
   "nbconvert_exporter": "python",
   "pygments_lexer": "ipython3",
   "version": "3.10.0"
  },
  "orig_nbformat": 4,
  "vscode": {
   "interpreter": {
    "hash": "8d8353be1dd092e57b3f2779bafc40fd4a1c87861698b48ff47a5f1df7325f59"
   }
  }
 },
 "nbformat": 4,
 "nbformat_minor": 2
}
