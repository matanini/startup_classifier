{
 "cells": [
  {
   "cell_type": "code",
   "execution_count": null,
   "metadata": {},
   "outputs": [],
   "source": [
    "import pandas as pd\n",
    "import numpy as np"
   ]
  },
  {
   "cell_type": "code",
   "execution_count": null,
   "metadata": {},
   "outputs": [],
   "source": [
    "def count_duplicatives(df, col_name=None):\n",
    "    return df.duplicated(subset=col_name).sum()\n",
    "\n",
    "\n",
    "def remove_duplicatives(df, col_name=None):\n",
    "    return df.drop_duplicates(subset=col_name).copy()\n",
    "\n",
    "\n",
    "def remove_corrupt_rows(df, num_max_missing_cols):\n",
    "    return df.dropna(thresh=(len(df.columns)-num_max_missing_cols)).copy()\n"
   ]
  },
  {
   "cell_type": "code",
   "execution_count": null,
   "metadata": {},
   "outputs": [],
   "source": [
    "def treat_numeric(df):\n",
    "    numbers = df.select_dtypes(include='number')\n",
    "    values={}\n",
    "    for col in numbers.columns:\n",
    "        median = numbers[col].median()\n",
    "        values[col] = median\n",
    "    df = df.fillna(values)\n",
    "    return df.copy()\n",
    "        \n",
    "def treat_categorical(df, col_to_def_val_dict):\n",
    "    categoricals = df.select_dtypes(exclude='number')\n",
    "    values={}\n",
    "    for col in categoricals.columns:\n",
    "        if col not in col_to_def_val_dict.keys():\n",
    "            freq = categoricals[col].mode()[0]\n",
    "            values[col] = freq\n",
    "    df = df.fillna(values)\n",
    "    return df.copy()\n",
    "\n",
    "def treat_predefined(df, col_to_def_val_dict):\n",
    "    df = df.fillna(col_to_def_val_dict)\n",
    "    return df.copy()\n",
    "\n",
    "def replace_missing_values(df, col_to_def_val_dict):\n",
    "    df = treat_numeric(df)\n",
    "    df = treat_categorical(df, col_to_def_val_dict)\n",
    "    df = treat_predefined(df, col_to_def_val_dict)\n",
    "    return df.copy()"
   ]
  },
  {
   "cell_type": "code",
   "execution_count": null,
   "metadata": {},
   "outputs": [],
   "source": [
    "def outlier_detection_iqr(df):\n",
    "    numbers = df.select_dtypes(include='number').columns\n",
    "    df = df.copy()\n",
    "    for col in numbers:\n",
    "        Q1 = np.percentile(df[col], 25)\n",
    "        Q3 = np.percentile(df[col], 75)\n",
    "        IQR = Q3 - Q1\n",
    "        lower_range = Q1 - 1.5*IQR\n",
    "        upper_range = Q3 + 1.5*IQR\n",
    "        df[col] = np.where((df[col] < lower_range) | (df[col] > upper_range), np.nan, df[col])\n",
    "    return df.copy()"
   ]
  },
  {
   "cell_type": "code",
   "execution_count": null,
   "metadata": {},
   "outputs": [],
   "source": [
    "def outlier_detection_zscore_dist(df):\n",
    "    df = df.copy()\n",
    "    numbers = df.select_dtypes(include='number').columns\n",
    "    for col in numbers:\n",
    "        z_score = (df[col] - df[col].mean()) / df[col].std()\n",
    "        df[col] = np.where((abs(z_score) > 3), np.nan, df[col])\n",
    "    return df.copy()\n"
   ]
  },
  {
   "cell_type": "code",
   "execution_count": null,
   "metadata": {},
   "outputs": [],
   "source": [
    "def transfer_to_categorical(df, numeric_to_bin_value_dict, categorical_col_names):  \n",
    "    df = df.copy()\n",
    "    for col in numeric_to_bin_value_dict.keys():\n",
    "        labels = [1,2,3,4,5]\n",
    "        df[f\"{col}_categotial\"] = pd.cut(df[col], numeric_to_bin_value_dict[col], labels=labels)\n",
    "    \n",
    "    for col in categorical_col_names:\n",
    "        df[col] = df[col].astype('category')\n",
    "        df = pd.get_dummies(df, columns=[col], prefix =[col], drop_first=True)\n",
    "    return df.copy()"
   ]
  }
 ],
 "metadata": {
  "language_info": {
   "name": "python"
  },
  "orig_nbformat": 4
 },
 "nbformat": 4,
 "nbformat_minor": 2
}
