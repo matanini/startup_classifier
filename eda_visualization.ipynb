{
 "cells": [
  {
   "cell_type": "code",
   "execution_count": null,
   "metadata": {},
   "outputs": [],
   "source": [
    "import pandas as pd\n",
    "import matplotlib.pyplot as plt"
   ]
  },
  {
   "cell_type": "code",
   "execution_count": null,
   "metadata": {},
   "outputs": [],
   "source": [
    "def load_csv(file_name,column_names):\n",
    "    with open(file_name) as file:\n",
    "        df = pd.read_csv(file)\n",
    "        return df[column_names]\n"
   ]
  },
  {
   "cell_type": "code",
   "execution_count": null,
   "metadata": {},
   "outputs": [],
   "source": [
    "def remove_duplicates(df, dup_col_name):\n",
    "    return df.drop_duplicates(subset=dup_col_name).copy()"
   ]
  },
  {
   "cell_type": "code",
   "execution_count": null,
   "metadata": {},
   "outputs": [],
   "source": [
    "def remove_missing_str_val_rows(df, string_cols):\n",
    "    for col in string_cols:\n",
    "        df[col] = df[col].dropna()\n",
    "    return df.copy()"
   ]
  },
  {
   "cell_type": "code",
   "execution_count": null,
   "metadata": {},
   "outputs": [],
   "source": [
    "def repair_numeric_missing_vals(df, numeric_cols):\n",
    "    for col in numeric_cols:\n",
    "        df[col] = df[col].fillna(df[col].median())\n",
    "    return df.copy()"
   ]
  },
  {
   "cell_type": "code",
   "execution_count": 1,
   "metadata": {},
   "outputs": [],
   "source": [
    "def get_frequent_elements(df, col_name, num_top_elements):\n",
    "    return df[col_name].value_counts()[:num_top_elements].sort_index()\n"
   ]
  },
  {
   "cell_type": "code",
   "execution_count": null,
   "metadata": {},
   "outputs": [],
   "source": [
    "def one_dim_plot(sr, plot_type, axis):\n",
    "    sr.plot(kind=plot_type, ax = axis)\n"
   ]
  },
  {
   "cell_type": "code",
   "execution_count": null,
   "metadata": {},
   "outputs": [],
   "source": [
    "def plot_frequent_elements(df, df_in_params):\n",
    "    fig, axes = plt.subplots(1,3, figsize=(20,5))\n",
    "    for i, row in df_in_params.iterrows():\n",
    "        sr = get_frequent_elements(df, row['col_name'], row['num_top_elements'])\n",
    "        one_dim_plot(sr, row['plot_type'], axes[i])\n"
   ]
  },
  {
   "cell_type": "code",
   "execution_count": null,
   "metadata": {},
   "outputs": [],
   "source": [
    "def cross_tabulation(df, col_name, other_col_name):\n",
    "    return pd.crosstab(df[col_name], df[other_col_name], normalize='index')\n"
   ]
  },
  {
   "cell_type": "code",
   "execution_count": null,
   "metadata": {},
   "outputs": [],
   "source": [
    "def plot_cross_tabulation(df, col_names, other_col_name):\n",
    "    fig, axes = plt.subplots(1,len(col_names), figsize=(20,5))\n",
    "    i=0\n",
    "    for col_name in col_names:\n",
    "        ct = cross_tabulation(df, col_name, other_col_name)\n",
    "        ct.plot(kind='line', ax = axes[i])\n",
    "        i=i+1\n"
   ]
  },
  {
   "cell_type": "code",
   "execution_count": null,
   "metadata": {},
   "outputs": [],
   "source": [
    "def get_highly_correlated_cols(df):\n",
    "    correlations = []\n",
    "    tuple_arr = []\n",
    "    df_corr = df.corr()\n",
    "    columns = df_corr.columns\n",
    "#     print(df_corr)\n",
    "    for column in columns:\n",
    "        for index, row in df_corr.iterrows():\n",
    "            a = columns.to_list().index(column)\n",
    "            b = columns.to_list().index(row.name)\n",
    "            if(row.name != column and row[column] >= 0.5 and a < b):\n",
    "                correlations.append(row[column])\n",
    "                tuple_arr.append((a, b))\n",
    "#                 print(correlations, tuple_arr)\n",
    "#                 print(row[column])\n",
    "    return correlations, tuple_arr"
   ]
  },
  {
   "cell_type": "code",
   "execution_count": null,
   "metadata": {},
   "outputs": [],
   "source": [
    "def plot_high_correlated_scatters(df):\n",
    "    correlations, tuple_arr = get_highly_correlated_cols(df)\n",
    "    fig, axes = plt.subplots(1,len(tuple_arr), figsize=(20,5))\n",
    "    i=0\n",
    "    for cor, tup in zip(correlations, tuple_arr):\n",
    "        col_name1 = df.columns.to_list()[tup[0]]\n",
    "        col_name2 = df.columns.to_list()[tup[1]]\n",
    "        df.plot(x = col_name1,\n",
    "                y = col_name2,\n",
    "                kind='scatter', \n",
    "                ax = axes[i], \n",
    "                title = f\"corr('{col_name1}', '{col_name2}')={cor:4.2f}\")\n",
    "        i=i+1"
   ]
  }
 ],
 "metadata": {
  "interpreter": {
   "hash": "5109d816b82be14675a6b11f8e0f0d2e80f029176ed3710d54e125caa8520dfd"
  },
  "kernelspec": {
   "display_name": "Python 3.7.9 64-bit",
   "language": "python",
   "name": "python3"
  },
  "language_info": {
   "codemirror_mode": {
    "name": "ipython",
    "version": 3
   },
   "file_extension": ".py",
   "mimetype": "text/x-python",
   "name": "python",
   "nbconvert_exporter": "python",
   "pygments_lexer": "ipython3",
   "version": "3.7.9"
  },
  "orig_nbformat": 4
 },
 "nbformat": 4,
 "nbformat_minor": 2
}
