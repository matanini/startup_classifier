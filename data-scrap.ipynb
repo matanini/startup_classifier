{
 "cells": [
  {
   "cell_type": "code",
   "execution_count": 1,
   "metadata": {},
   "outputs": [],
   "source": [
    "from selenium import webdriver\n",
    "from selenium.webdriver.firefox.service import Service\n",
    "from webdriver_manager.firefox import GeckoDriverManager\n",
    "from selenium.webdriver.common.by import By\n",
    "from selenium.webdriver.support.select import Select\n",
    "from selenium.webdriver import ActionChains\n",
    "import pandas as pd\n",
    "import numpy as np\n",
    "import time"
   ]
  },
  {
   "cell_type": "code",
   "execution_count": 2,
   "metadata": {},
   "outputs": [],
   "source": [
    "def get_driver():\n",
    "    options = webdriver.FirefoxOptions()\n",
    "    # options.headless = True\n",
    "    driver = webdriver.Firefox(options = options, service=Service(GeckoDriverManager().install()))\n",
    "    return driver"
   ]
  },
  {
   "cell_type": "code",
   "execution_count": 156,
   "metadata": {},
   "outputs": [],
   "source": [
    "def get_data():\n",
    "    driver = get_driver()\n",
    "    url = \"https://finder.startupnationcentral.org/startups/search\"\n",
    "    driver.get(url)\n",
    "\n",
    "    # driver.execute_script(\"window.scrollTo(0, Y)\") \n",
    "\n",
    "    # time.sleep(3)\n",
    "    # loadmore = driver.find_element(By.XPATH , \"/html/body/div[25]/div[2]/div[2]/div/div[4]\")\n",
    "    # # ActionChains(driver).move_to_element(loadmore).perform()\n",
    "    # loadmore.click()\n",
    "\n",
    "\n",
    "    body = driver.find_element(By.CLASS_NAME,\"company-cards-list\")\n",
    "    companies = body.find_elements(By.CLASS_NAME,\"box-view-item\")\n",
    "    links = []\n",
    "    for company in companies:\n",
    "        links.append(company.find_element(By.TAG_NAME,\"a\").get_attribute(\"href\"))\n",
    "        \n",
    "    driver.quit()\n",
    "    return links\n",
    "\n",
    "\n"
   ]
  },
  {
   "cell_type": "code",
   "execution_count": 13,
   "metadata": {},
   "outputs": [],
   "source": [
    "def load_more(driver):\n",
    "    SCROLL_PAUSE_TIME = 0.5\n",
    "\n",
    "    # Get scroll height\n",
    "    last_height = driver.execute_script(\"return document.body.scrollHeight\")\n",
    "\n",
    "    while True:\n",
    "        # Scroll down to bottom\n",
    "        driver.execute_script(\"window.scrollTo(0, document.body.scrollHeight);\")\n",
    "\n",
    "        # Wait to load page\n",
    "        time.sleep(SCROLL_PAUSE_TIME)\n",
    "\n",
    "        # Calculate new scroll height and compare with last scroll height\n",
    "        new_height = driver.execute_script(\"return document.body.scrollHeight\")\n",
    "        if new_height == last_height:\n",
    "            break\n",
    "        last_height = new_height"
   ]
  },
  {
   "cell_type": "code",
   "execution_count": 26,
   "metadata": {},
   "outputs": [],
   "source": [
    "def load_all_page():\n",
    "    driver = get_driver()\n",
    "    url = \"https://finder.startupnationcentral.org/startups/search\"\n",
    "    driver.get(url)\n",
    "    \n",
    "    # load_more(driver)\n",
    "\n",
    "    driver.execute_script(\"window.scrollTo(0, document.body.scrollHeight);\")\n",
    "    time.sleep(2)\n",
    "    loadmore = driver.find_element(By.CLASS_NAME , \"js-search-load-more-button\")\n",
    "    ActionChains(driver).move_to_element(loadmore).perform()\n",
    "    loadmore.click()"
   ]
  },
  {
   "cell_type": "code",
   "execution_count": 28,
   "metadata": {},
   "outputs": [
    {
     "name": "stderr",
     "output_type": "stream",
     "text": [
      "\n",
      "\n",
      "====== WebDriver manager ======\n",
      "Current firefox version is 99.0\n",
      "Get LATEST geckodriver version for 99.0 firefox\n",
      "Driver [C:\\Users\\matan\\.wdm\\drivers\\geckodriver\\win64\\v0.31.0\\geckodriver.exe] found in cache\n"
     ]
    }
   ],
   "source": [
    "load_all_page()"
   ]
  },
  {
   "cell_type": "code",
   "execution_count": 157,
   "metadata": {},
   "outputs": [
    {
     "name": "stderr",
     "output_type": "stream",
     "text": [
      "\n",
      "\n",
      "====== WebDriver manager ======\n",
      "Current firefox version is 99.0\n",
      "Get LATEST geckodriver version for 99.0 firefox\n",
      "Driver [C:\\Users\\matan\\.wdm\\drivers\\geckodriver\\win64\\v0.31.0\\geckodriver.exe] found in cache\n"
     ]
    }
   ],
   "source": [
    "links = get_data()"
   ]
  },
  {
   "cell_type": "code",
   "execution_count": 158,
   "metadata": {},
   "outputs": [
    {
     "data": {
      "text/plain": [
       "30"
      ]
     },
     "execution_count": 158,
     "metadata": {},
     "output_type": "execute_result"
    }
   ],
   "source": [
    "len(links)"
   ]
  },
  {
   "cell_type": "code",
   "execution_count": 159,
   "metadata": {},
   "outputs": [
    {
     "data": {
      "text/plain": [
       "['https://finder.startupnationcentral.org/company_page/hypervision',\n",
       " 'https://finder.startupnationcentral.org/company_page/golan-plastic-products',\n",
       " 'https://finder.startupnationcentral.org/company_page/chakratec',\n",
       " 'https://finder.startupnationcentral.org/company_page/zohar-cleantech',\n",
       " 'https://finder.startupnationcentral.org/company_page/annabella',\n",
       " 'https://finder.startupnationcentral.org/company_page/algoretail',\n",
       " 'https://finder.startupnationcentral.org/company_page/sunbit',\n",
       " 'https://finder.startupnationcentral.org/company_page/rewalk-robotics',\n",
       " 'https://finder.startupnationcentral.org/company_page/laminate-medical',\n",
       " 'https://finder.startupnationcentral.org/company_page/cham-food',\n",
       " 'https://finder.startupnationcentral.org/company_page/persimio',\n",
       " 'https://finder.startupnationcentral.org/company_page/weeedrive',\n",
       " 'https://finder.startupnationcentral.org/company_page/appsvillage',\n",
       " 'https://finder.startupnationcentral.org/company_page/core-platform',\n",
       " 'https://finder.startupnationcentral.org/company_page/predicta-med',\n",
       " 'https://finder.startupnationcentral.org/company_page/cellebrite',\n",
       " 'https://finder.startupnationcentral.org/company_page/vision-cortex',\n",
       " 'https://finder.startupnationcentral.org/company_page/pharmocan',\n",
       " 'https://finder.startupnationcentral.org/company_page/axonius',\n",
       " 'https://finder.startupnationcentral.org/company_page/feezback-technologies',\n",
       " 'https://finder.startupnationcentral.org/company_page/conflu3nce',\n",
       " 'https://finder.startupnationcentral.org/company_page/au10tix',\n",
       " 'https://finder.startupnationcentral.org/company_page/aeye-health',\n",
       " 'https://finder.startupnationcentral.org/company_page/docboxmd',\n",
       " 'https://finder.startupnationcentral.org/company_page/enervibe',\n",
       " 'https://finder.startupnationcentral.org/company_page/addionics',\n",
       " 'https://finder.startupnationcentral.org/company_page/deepoptics',\n",
       " 'https://finder.startupnationcentral.org/company_page/labstyle-innovations',\n",
       " 'https://finder.startupnationcentral.org/company_page/bidflyer',\n",
       " 'https://finder.startupnationcentral.org/company_page/equitybee']"
      ]
     },
     "execution_count": 159,
     "metadata": {},
     "output_type": "execute_result"
    }
   ],
   "source": [
    "links"
   ]
  },
  {
   "cell_type": "code",
   "execution_count": 146,
   "metadata": {},
   "outputs": [],
   "source": [
    "def get_clasiffications(page):\n",
    "    \"\"\"Get the classification list for a given page\\n\n",
    "    page is a WebDriver object.\\n\n",
    "    Return one line df\"\"\"\n",
    "\n",
    "    name = page.find_element(By.CLASS_NAME,\"top-profile-section\").find_element(By.CLASS_NAME,\"title\").text\n",
    "    about = page.find_element(By.CLASS_NAME,\"about\").text\n",
    "\n",
    "    classifications = page.find_element(By.CLASS_NAME, \"js-startup-classification-section\").find_elements(By.CLASS_NAME,\"classification-item\")\n",
    "    l = [np.nan,np.nan,np.nan]\n",
    "    for idx, cls in enumerate(classifications):\n",
    "\n",
    "        elements = cls.find_elements(By.CLASS_NAME,\"js-lead-item\")\n",
    "        element_list = []\n",
    "        for elm in elements:\n",
    "            elm_title = elm.find_element(By.CLASS_NAME,\"row-container\").text\n",
    "            element_list.append(elm_title)\n",
    "\n",
    "        l[idx]= \", \".join(element_list)\n",
    "    \n",
    "    fund_data = page.find_element(By.CLASS_NAME, \"funding-metadata\").find_elements(By.CLASS_NAME,\"title\")\n",
    "    fund_stage = fund_data[0].text\n",
    "    total_raised = fund_data[1].text\n",
    "    total_rounds = fund_data[2].text\n",
    "    investors = fund_data[3].text\n",
    "\n",
    "\n",
    "\n",
    "\n",
    "    d = {'company_name' : name, 'company_about': about, 'sector': l[0], 'target_ind':l[1], 'technology':l[2],\n",
    "        'fund_stage':fund_stage,'total_raised':total_raised,'total_rounds':total_rounds,'investors': investors}\n",
    "\n",
    "    return pd.DataFrame([d])\n",
    "        \n",
    "\n"
   ]
  },
  {
   "cell_type": "code",
   "execution_count": 106,
   "metadata": {},
   "outputs": [
    {
     "name": "stderr",
     "output_type": "stream",
     "text": [
      "\n",
      "\n",
      "====== WebDriver manager ======\n",
      "Current firefox version is 99.0\n",
      "Get LATEST geckodriver version for 99.0 firefox\n",
      "Driver [C:\\Users\\matan\\.wdm\\drivers\\geckodriver\\win64\\v0.31.0\\geckodriver.exe] found in cache\n"
     ]
    }
   ],
   "source": [
    "driver = get_driver()\n",
    "driver.get(links[0])\n",
    "# df = pd.DataFrame()\n",
    "# df = get_clasiffications(driver, df)\n",
    "# driver.quit()"
   ]
  },
  {
   "cell_type": "code",
   "execution_count": 147,
   "metadata": {},
   "outputs": [
    {
     "name": "stderr",
     "output_type": "stream",
     "text": [
      "\n",
      "\n",
      "====== WebDriver manager ======\n",
      "Current firefox version is 99.0\n",
      "Get LATEST geckodriver version for 99.0 firefox\n",
      "Driver [C:\\Users\\matan\\.wdm\\drivers\\geckodriver\\win64\\v0.31.0\\geckodriver.exe] found in cache\n"
     ]
    },
    {
     "data": {
      "text/html": [
       "<div>\n",
       "<style scoped>\n",
       "    .dataframe tbody tr th:only-of-type {\n",
       "        vertical-align: middle;\n",
       "    }\n",
       "\n",
       "    .dataframe tbody tr th {\n",
       "        vertical-align: top;\n",
       "    }\n",
       "\n",
       "    .dataframe thead th {\n",
       "        text-align: right;\n",
       "    }\n",
       "</style>\n",
       "<table border=\"1\" class=\"dataframe\">\n",
       "  <thead>\n",
       "    <tr style=\"text-align: right;\">\n",
       "      <th></th>\n",
       "      <th>company_name</th>\n",
       "      <th>company_about</th>\n",
       "      <th>sector</th>\n",
       "      <th>target_ind</th>\n",
       "      <th>technology</th>\n",
       "      <th>fund_stage</th>\n",
       "      <th>total_raised</th>\n",
       "      <th>total_rounds</th>\n",
       "      <th>investors</th>\n",
       "    </tr>\n",
       "  </thead>\n",
       "  <tbody>\n",
       "    <tr>\n",
       "      <th>0</th>\n",
       "      <td>Zooz Power</td>\n",
       "      <td>Zooz Power provides flywheel energy storage te...</td>\n",
       "      <td>Energy-tech, Smart Mobility</td>\n",
       "      <td>Energy, Utilities &amp; Waste Management, Governme...</td>\n",
       "      <td>NaN</td>\n",
       "      <td>Public</td>\n",
       "      <td>48.5M</td>\n",
       "      <td>5</td>\n",
       "      <td>5</td>\n",
       "    </tr>\n",
       "    <tr>\n",
       "      <th>1</th>\n",
       "      <td>ReWalk Robotics</td>\n",
       "      <td>ReWalk Robotics is a medical device company th...</td>\n",
       "      <td>Life Sciences &amp; HealthTech</td>\n",
       "      <td>Healthcare &amp; Life Sciences</td>\n",
       "      <td>Communications, Machinery &amp; Robotics, Semicond...</td>\n",
       "      <td>Public</td>\n",
       "      <td>112.8M</td>\n",
       "      <td>11</td>\n",
       "      <td>7</td>\n",
       "    </tr>\n",
       "    <tr>\n",
       "      <th>2</th>\n",
       "      <td>AppsVillage</td>\n",
       "      <td>AppsVillage has developed a platform that enab...</td>\n",
       "      <td>Retail &amp; Marketing</td>\n",
       "      <td>Commerce &amp; Retail, Enterprise &amp; Professional S...</td>\n",
       "      <td>Platforms &amp; Interfaces</td>\n",
       "      <td>Public</td>\n",
       "      <td>1.3M</td>\n",
       "      <td>2</td>\n",
       "      <td>1</td>\n",
       "    </tr>\n",
       "  </tbody>\n",
       "</table>\n",
       "</div>"
      ],
      "text/plain": [
       "      company_name                                      company_about  \\\n",
       "0       Zooz Power  Zooz Power provides flywheel energy storage te...   \n",
       "1  ReWalk Robotics  ReWalk Robotics is a medical device company th...   \n",
       "2      AppsVillage  AppsVillage has developed a platform that enab...   \n",
       "\n",
       "                        sector  \\\n",
       "0  Energy-tech, Smart Mobility   \n",
       "1   Life Sciences & HealthTech   \n",
       "2           Retail & Marketing   \n",
       "\n",
       "                                          target_ind  \\\n",
       "0  Energy, Utilities & Waste Management, Governme...   \n",
       "1                         Healthcare & Life Sciences   \n",
       "2  Commerce & Retail, Enterprise & Professional S...   \n",
       "\n",
       "                                          technology fund_stage total_raised  \\\n",
       "0                                                NaN     Public        48.5M   \n",
       "1  Communications, Machinery & Robotics, Semicond...     Public       112.8M   \n",
       "2                             Platforms & Interfaces     Public         1.3M   \n",
       "\n",
       "  total_rounds investors  \n",
       "0            5         5  \n",
       "1           11         7  \n",
       "2            2         1  "
      ]
     },
     "execution_count": 147,
     "metadata": {},
     "output_type": "execute_result"
    }
   ],
   "source": [
    "df = pd.DataFrame(columns=['company_name','company_about','sector','target_ind','technology','fund_stage','total_raised','total_rounds','investors'])\n",
    "driver = get_driver()\n",
    "for link in links[:3]:\n",
    "    driver.get(link)\n",
    "    df = pd.concat([df,get_clasiffications(driver)], ignore_index=True)\n",
    "df"
   ]
  },
  {
   "cell_type": "code",
   "execution_count": 154,
   "metadata": {},
   "outputs": [
    {
     "data": {
      "text/plain": [
       "True"
      ]
     },
     "execution_count": 154,
     "metadata": {},
     "output_type": "execute_result"
    }
   ],
   "source": [
    "np.isnan(df.iloc[0,4])"
   ]
  },
  {
   "cell_type": "code",
   "execution_count": null,
   "metadata": {},
   "outputs": [],
   "source": []
  },
  {
   "cell_type": "code",
   "execution_count": null,
   "metadata": {},
   "outputs": [],
   "source": []
  },
  {
   "cell_type": "code",
   "execution_count": null,
   "metadata": {},
   "outputs": [],
   "source": []
  },
  {
   "cell_type": "code",
   "execution_count": null,
   "metadata": {},
   "outputs": [],
   "source": []
  }
 ],
 "metadata": {
  "interpreter": {
   "hash": "a8de347a191ade6833d1fcfa5630dcb1455958ec9e201e1d22328c1bf1fd003d"
  },
  "kernelspec": {
   "display_name": "Python 3.10.0 64-bit",
   "language": "python",
   "name": "python3"
  },
  "language_info": {
   "codemirror_mode": {
    "name": "ipython",
    "version": 3
   },
   "file_extension": ".py",
   "mimetype": "text/x-python",
   "name": "python",
   "nbconvert_exporter": "python",
   "pygments_lexer": "ipython3",
   "version": "3.10.0"
  },
  "orig_nbformat": 4
 },
 "nbformat": 4,
 "nbformat_minor": 2
}
