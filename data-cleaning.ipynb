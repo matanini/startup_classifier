{
 "cells": [
  {
   "cell_type": "code",
   "execution_count": 23,
   "metadata": {},
   "outputs": [],
   "source": [
    "import pandas as pd\n",
    "import numpy as np\n",
    "from sklearn import preprocessing\n",
    "from sklearn.linear_model import LogisticRegression\n",
    "from sklearn.model_selection import train_test_split\n",
    "from sklearn import metrics\n",
    "from lib.m import *\n",
    "from lib.eda_visualization import *"
   ]
  },
  {
   "cell_type": "code",
   "execution_count": 24,
   "metadata": {},
   "outputs": [
    {
     "name": "stderr",
     "output_type": "stream",
     "text": [
      "c:\\Users\\matan\\AppData\\Local\\Programs\\Python\\Python310\\lib\\site-packages\\IPython\\core\\interactiveshell.py:3444: DtypeWarning: Columns (18,88) have mixed types.Specify dtype option on import or set low_memory=False.\n",
      "  exec(code_obj, self.user_global_ns, self.user_ns)\n"
     ]
    },
    {
     "data": {
      "text/html": [
       "<div>\n",
       "<style scoped>\n",
       "    .dataframe tbody tr th:only-of-type {\n",
       "        vertical-align: middle;\n",
       "    }\n",
       "\n",
       "    .dataframe tbody tr th {\n",
       "        vertical-align: top;\n",
       "    }\n",
       "\n",
       "    .dataframe thead th {\n",
       "        text-align: right;\n",
       "    }\n",
       "</style>\n",
       "<table border=\"1\" class=\"dataframe\">\n",
       "  <thead>\n",
       "    <tr style=\"text-align: right;\">\n",
       "      <th></th>\n",
       "      <th>company_name</th>\n",
       "      <th>company_about</th>\n",
       "      <th>founded</th>\n",
       "      <th>business model</th>\n",
       "      <th>employees</th>\n",
       "      <th>funding stage</th>\n",
       "      <th>raised</th>\n",
       "      <th>product stage</th>\n",
       "      <th>status</th>\n",
       "      <th>geographical markets</th>\n",
       "      <th>...</th>\n",
       "      <th>tag_e-mobility</th>\n",
       "      <th>targetmarket_public-transportation</th>\n",
       "      <th>targetmarket_smart-mobility</th>\n",
       "      <th>tag_hydraulic-drive</th>\n",
       "      <th>tag_hud</th>\n",
       "      <th>tag_simulation-software</th>\n",
       "      <th>tag_luggage</th>\n",
       "      <th>tag_traffic-violations</th>\n",
       "      <th>tag_car-audio</th>\n",
       "      <th>tag_trip</th>\n",
       "    </tr>\n",
       "  </thead>\n",
       "  <tbody>\n",
       "    <tr>\n",
       "      <th>0</th>\n",
       "      <td>Tastewise</td>\n",
       "      <td>Tastewise is an AI platform designed to help f...</td>\n",
       "      <td>7/2017</td>\n",
       "      <td>B2B</td>\n",
       "      <td>51-200</td>\n",
       "      <td>ROUND A</td>\n",
       "      <td>$21.5M</td>\n",
       "      <td>Released</td>\n",
       "      <td>active</td>\n",
       "      <td>australia, canada, france, india, united kingd...</td>\n",
       "      <td>...</td>\n",
       "      <td>NaN</td>\n",
       "      <td>NaN</td>\n",
       "      <td>NaN</td>\n",
       "      <td>NaN</td>\n",
       "      <td>NaN</td>\n",
       "      <td>NaN</td>\n",
       "      <td>NaN</td>\n",
       "      <td>NaN</td>\n",
       "      <td>NaN</td>\n",
       "      <td>NaN</td>\n",
       "    </tr>\n",
       "    <tr>\n",
       "      <th>1</th>\n",
       "      <td>Wilk Technologies</td>\n",
       "      <td>Wilk is dedicated to revolutionizing the dairy...</td>\n",
       "      <td>6/2018</td>\n",
       "      <td>B2B, B2B2C</td>\n",
       "      <td>11-50</td>\n",
       "      <td>Public</td>\n",
       "      <td>$4.69M</td>\n",
       "      <td>R&amp;D</td>\n",
       "      <td>active</td>\n",
       "      <td>NaN</td>\n",
       "      <td>...</td>\n",
       "      <td>NaN</td>\n",
       "      <td>NaN</td>\n",
       "      <td>NaN</td>\n",
       "      <td>NaN</td>\n",
       "      <td>NaN</td>\n",
       "      <td>NaN</td>\n",
       "      <td>NaN</td>\n",
       "      <td>NaN</td>\n",
       "      <td>NaN</td>\n",
       "      <td>NaN</td>\n",
       "    </tr>\n",
       "    <tr>\n",
       "      <th>2</th>\n",
       "      <td>Eco Pack Green Box</td>\n",
       "      <td>Eco Pack Green Box has developed and patented ...</td>\n",
       "      <td>3/2008</td>\n",
       "      <td>B2B</td>\n",
       "      <td>11-50</td>\n",
       "      <td>Revenue Financed</td>\n",
       "      <td>NaN</td>\n",
       "      <td>Released</td>\n",
       "      <td>not_active</td>\n",
       "      <td>canada, mexico, spain, united states</td>\n",
       "      <td>...</td>\n",
       "      <td>NaN</td>\n",
       "      <td>NaN</td>\n",
       "      <td>NaN</td>\n",
       "      <td>NaN</td>\n",
       "      <td>NaN</td>\n",
       "      <td>NaN</td>\n",
       "      <td>NaN</td>\n",
       "      <td>NaN</td>\n",
       "      <td>NaN</td>\n",
       "      <td>NaN</td>\n",
       "    </tr>\n",
       "    <tr>\n",
       "      <th>3</th>\n",
       "      <td>BeeHero</td>\n",
       "      <td>BeeHero has developed a platform that can pred...</td>\n",
       "      <td>10/2017</td>\n",
       "      <td>B2B</td>\n",
       "      <td>1-10</td>\n",
       "      <td>ROUND A</td>\n",
       "      <td>$24M</td>\n",
       "      <td>Released</td>\n",
       "      <td>active</td>\n",
       "      <td>global, united states</td>\n",
       "      <td>...</td>\n",
       "      <td>NaN</td>\n",
       "      <td>NaN</td>\n",
       "      <td>NaN</td>\n",
       "      <td>NaN</td>\n",
       "      <td>NaN</td>\n",
       "      <td>NaN</td>\n",
       "      <td>NaN</td>\n",
       "      <td>NaN</td>\n",
       "      <td>NaN</td>\n",
       "      <td>NaN</td>\n",
       "    </tr>\n",
       "    <tr>\n",
       "      <th>4</th>\n",
       "      <td>Cham Foods</td>\n",
       "      <td>Cham Foods is a multinational company with man...</td>\n",
       "      <td>12/1970</td>\n",
       "      <td>B2B, B2B2C</td>\n",
       "      <td>11-50</td>\n",
       "      <td>Public</td>\n",
       "      <td>NaN</td>\n",
       "      <td>Released</td>\n",
       "      <td>active</td>\n",
       "      <td>north america, europe, global, france, germany...</td>\n",
       "      <td>...</td>\n",
       "      <td>NaN</td>\n",
       "      <td>NaN</td>\n",
       "      <td>NaN</td>\n",
       "      <td>NaN</td>\n",
       "      <td>NaN</td>\n",
       "      <td>NaN</td>\n",
       "      <td>NaN</td>\n",
       "      <td>NaN</td>\n",
       "      <td>NaN</td>\n",
       "      <td>NaN</td>\n",
       "    </tr>\n",
       "    <tr>\n",
       "      <th>...</th>\n",
       "      <td>...</td>\n",
       "      <td>...</td>\n",
       "      <td>...</td>\n",
       "      <td>...</td>\n",
       "      <td>...</td>\n",
       "      <td>...</td>\n",
       "      <td>...</td>\n",
       "      <td>...</td>\n",
       "      <td>...</td>\n",
       "      <td>...</td>\n",
       "      <td>...</td>\n",
       "      <td>...</td>\n",
       "      <td>...</td>\n",
       "      <td>...</td>\n",
       "      <td>...</td>\n",
       "      <td>...</td>\n",
       "      <td>...</td>\n",
       "      <td>...</td>\n",
       "      <td>...</td>\n",
       "      <td>...</td>\n",
       "      <td>...</td>\n",
       "    </tr>\n",
       "    <tr>\n",
       "      <th>13043</th>\n",
       "      <td>TriEye</td>\n",
       "      <td>TriEye is a fabless semiconductor company that...</td>\n",
       "      <td>11/2017</td>\n",
       "      <td>B2B</td>\n",
       "      <td>51-200</td>\n",
       "      <td>ROUND A</td>\n",
       "      <td>$96M</td>\n",
       "      <td>R&amp;D</td>\n",
       "      <td>active</td>\n",
       "      <td>global</td>\n",
       "      <td>...</td>\n",
       "      <td>NaN</td>\n",
       "      <td>NaN</td>\n",
       "      <td>NaN</td>\n",
       "      <td>NaN</td>\n",
       "      <td>NaN</td>\n",
       "      <td>NaN</td>\n",
       "      <td>NaN</td>\n",
       "      <td>NaN</td>\n",
       "      <td>NaN</td>\n",
       "      <td>NaN</td>\n",
       "    </tr>\n",
       "    <tr>\n",
       "      <th>13044</th>\n",
       "      <td>LYNX Smartcars</td>\n",
       "      <td>LYNX is developing software for connected and ...</td>\n",
       "      <td>1/2016</td>\n",
       "      <td>B2B</td>\n",
       "      <td>1-10</td>\n",
       "      <td>Bootstrapped</td>\n",
       "      <td>NaN</td>\n",
       "      <td>R&amp;D</td>\n",
       "      <td>not_active</td>\n",
       "      <td>NaN</td>\n",
       "      <td>...</td>\n",
       "      <td>NaN</td>\n",
       "      <td>NaN</td>\n",
       "      <td>NaN</td>\n",
       "      <td>NaN</td>\n",
       "      <td>NaN</td>\n",
       "      <td>NaN</td>\n",
       "      <td>NaN</td>\n",
       "      <td>NaN</td>\n",
       "      <td>NaN</td>\n",
       "      <td>NaN</td>\n",
       "    </tr>\n",
       "    <tr>\n",
       "      <th>13045</th>\n",
       "      <td>Deeyook Location Technologies</td>\n",
       "      <td>Deeyook seeks to redefine location technology ...</td>\n",
       "      <td>3/2017</td>\n",
       "      <td>B2B</td>\n",
       "      <td>11-50</td>\n",
       "      <td>Seed</td>\n",
       "      <td>NaN</td>\n",
       "      <td>Released</td>\n",
       "      <td>active</td>\n",
       "      <td>global</td>\n",
       "      <td>...</td>\n",
       "      <td>NaN</td>\n",
       "      <td>NaN</td>\n",
       "      <td>NaN</td>\n",
       "      <td>NaN</td>\n",
       "      <td>NaN</td>\n",
       "      <td>NaN</td>\n",
       "      <td>NaN</td>\n",
       "      <td>NaN</td>\n",
       "      <td>NaN</td>\n",
       "      <td>NaN</td>\n",
       "    </tr>\n",
       "    <tr>\n",
       "      <th>13046</th>\n",
       "      <td>SafeCue</td>\n",
       "      <td>SafeCue combines the power of deep learning wi...</td>\n",
       "      <td>1/2016</td>\n",
       "      <td>B2B</td>\n",
       "      <td>1-10</td>\n",
       "      <td>Seed</td>\n",
       "      <td>$500K</td>\n",
       "      <td>Beta</td>\n",
       "      <td>not_active</td>\n",
       "      <td>asia, germany, india, united states</td>\n",
       "      <td>...</td>\n",
       "      <td>NaN</td>\n",
       "      <td>NaN</td>\n",
       "      <td>NaN</td>\n",
       "      <td>NaN</td>\n",
       "      <td>NaN</td>\n",
       "      <td>NaN</td>\n",
       "      <td>NaN</td>\n",
       "      <td>NaN</td>\n",
       "      <td>NaN</td>\n",
       "      <td>NaN</td>\n",
       "    </tr>\n",
       "    <tr>\n",
       "      <th>13047</th>\n",
       "      <td>InnergHarvest</td>\n",
       "      <td>InnergHarvest is a clean-tech start-up harvest...</td>\n",
       "      <td>6/2016</td>\n",
       "      <td>B2B, B2B2C</td>\n",
       "      <td>1-10</td>\n",
       "      <td>Bootstrapped</td>\n",
       "      <td>NaN</td>\n",
       "      <td>R&amp;D</td>\n",
       "      <td>active</td>\n",
       "      <td>north america, europe, france, germany, turkey...</td>\n",
       "      <td>...</td>\n",
       "      <td>NaN</td>\n",
       "      <td>NaN</td>\n",
       "      <td>NaN</td>\n",
       "      <td>NaN</td>\n",
       "      <td>NaN</td>\n",
       "      <td>NaN</td>\n",
       "      <td>NaN</td>\n",
       "      <td>NaN</td>\n",
       "      <td>NaN</td>\n",
       "      <td>NaN</td>\n",
       "    </tr>\n",
       "  </tbody>\n",
       "</table>\n",
       "<p>13048 rows × 2868 columns</p>\n",
       "</div>"
      ],
      "text/plain": [
       "                        company_name  \\\n",
       "0                          Tastewise   \n",
       "1                  Wilk Technologies   \n",
       "2                 Eco Pack Green Box   \n",
       "3                            BeeHero   \n",
       "4                         Cham Foods   \n",
       "...                              ...   \n",
       "13043                         TriEye   \n",
       "13044                 LYNX Smartcars   \n",
       "13045  Deeyook Location Technologies   \n",
       "13046                        SafeCue   \n",
       "13047                  InnergHarvest   \n",
       "\n",
       "                                           company_about  founded  \\\n",
       "0      Tastewise is an AI platform designed to help f...   7/2017   \n",
       "1      Wilk is dedicated to revolutionizing the dairy...   6/2018   \n",
       "2      Eco Pack Green Box has developed and patented ...   3/2008   \n",
       "3      BeeHero has developed a platform that can pred...  10/2017   \n",
       "4      Cham Foods is a multinational company with man...  12/1970   \n",
       "...                                                  ...      ...   \n",
       "13043  TriEye is a fabless semiconductor company that...  11/2017   \n",
       "13044  LYNX is developing software for connected and ...   1/2016   \n",
       "13045  Deeyook seeks to redefine location technology ...   3/2017   \n",
       "13046  SafeCue combines the power of deep learning wi...   1/2016   \n",
       "13047  InnergHarvest is a clean-tech start-up harvest...   6/2016   \n",
       "\n",
       "      business model employees     funding stage  raised product stage  \\\n",
       "0                B2B    51-200           ROUND A  $21.5M      Released   \n",
       "1         B2B, B2B2C     11-50            Public  $4.69M           R&D   \n",
       "2                B2B     11-50  Revenue Financed     NaN      Released   \n",
       "3                B2B      1-10           ROUND A    $24M      Released   \n",
       "4         B2B, B2B2C     11-50            Public     NaN      Released   \n",
       "...              ...       ...               ...     ...           ...   \n",
       "13043            B2B    51-200           ROUND A    $96M           R&D   \n",
       "13044            B2B      1-10      Bootstrapped     NaN           R&D   \n",
       "13045            B2B     11-50              Seed     NaN      Released   \n",
       "13046            B2B      1-10              Seed   $500K          Beta   \n",
       "13047     B2B, B2B2C      1-10      Bootstrapped     NaN           R&D   \n",
       "\n",
       "           status                               geographical markets  ...  \\\n",
       "0          active  australia, canada, france, india, united kingd...  ...   \n",
       "1          active                                                NaN  ...   \n",
       "2      not_active               canada, mexico, spain, united states  ...   \n",
       "3          active                              global, united states  ...   \n",
       "4          active  north america, europe, global, france, germany...  ...   \n",
       "...           ...                                                ...  ...   \n",
       "13043      active                                             global  ...   \n",
       "13044  not_active                                                NaN  ...   \n",
       "13045      active                                             global  ...   \n",
       "13046  not_active                asia, germany, india, united states  ...   \n",
       "13047      active  north america, europe, france, germany, turkey...  ...   \n",
       "\n",
       "      tag_e-mobility targetmarket_public-transportation  \\\n",
       "0                NaN                                NaN   \n",
       "1                NaN                                NaN   \n",
       "2                NaN                                NaN   \n",
       "3                NaN                                NaN   \n",
       "4                NaN                                NaN   \n",
       "...              ...                                ...   \n",
       "13043            NaN                                NaN   \n",
       "13044            NaN                                NaN   \n",
       "13045            NaN                                NaN   \n",
       "13046            NaN                                NaN   \n",
       "13047            NaN                                NaN   \n",
       "\n",
       "      targetmarket_smart-mobility  tag_hydraulic-drive  tag_hud  \\\n",
       "0                             NaN                  NaN      NaN   \n",
       "1                             NaN                  NaN      NaN   \n",
       "2                             NaN                  NaN      NaN   \n",
       "3                             NaN                  NaN      NaN   \n",
       "4                             NaN                  NaN      NaN   \n",
       "...                           ...                  ...      ...   \n",
       "13043                         NaN                  NaN      NaN   \n",
       "13044                         NaN                  NaN      NaN   \n",
       "13045                         NaN                  NaN      NaN   \n",
       "13046                         NaN                  NaN      NaN   \n",
       "13047                         NaN                  NaN      NaN   \n",
       "\n",
       "      tag_simulation-software  tag_luggage  tag_traffic-violations  \\\n",
       "0                         NaN          NaN                     NaN   \n",
       "1                         NaN          NaN                     NaN   \n",
       "2                         NaN          NaN                     NaN   \n",
       "3                         NaN          NaN                     NaN   \n",
       "4                         NaN          NaN                     NaN   \n",
       "...                       ...          ...                     ...   \n",
       "13043                     NaN          NaN                     NaN   \n",
       "13044                     NaN          NaN                     NaN   \n",
       "13045                     NaN          NaN                     NaN   \n",
       "13046                     NaN          NaN                     NaN   \n",
       "13047                     NaN          NaN                     NaN   \n",
       "\n",
       "       tag_car-audio  tag_trip  \n",
       "0                NaN       NaN  \n",
       "1                NaN       NaN  \n",
       "2                NaN       NaN  \n",
       "3                NaN       NaN  \n",
       "4                NaN       NaN  \n",
       "...              ...       ...  \n",
       "13043            NaN       NaN  \n",
       "13044            NaN       NaN  \n",
       "13045            NaN       NaN  \n",
       "13046            NaN       NaN  \n",
       "13047            NaN       NaN  \n",
       "\n",
       "[13048 rows x 2868 columns]"
      ]
     },
     "execution_count": 24,
     "metadata": {},
     "output_type": "execute_result"
    }
   ],
   "source": [
    "df = pd.read_csv(\"df_complete.csv\").iloc[:,3:]\n",
    "df"
   ]
  },
  {
   "cell_type": "code",
   "execution_count": 25,
   "metadata": {},
   "outputs": [
    {
     "data": {
      "text/plain": [
       "(13048, 2868)"
      ]
     },
     "execution_count": 25,
     "metadata": {},
     "output_type": "execute_result"
    }
   ],
   "source": [
    "df_test = df.copy()\n",
    "df_test.shape"
   ]
  },
  {
   "cell_type": "code",
   "execution_count": 26,
   "metadata": {},
   "outputs": [],
   "source": [
    "tag_cols = [col for col in df_test.columns if col.startswith('tag_')]\n",
    "targetmarket_cols = [col for col in df_test.columns if col.startswith('targetmarket_')]\n",
    "sector_list = [col for col in df_test.columns if col.startswith(\"sector_\")]\n",
    "target_ind_list = [col  for col in df_test.columns if col.startswith(\"target_industry_\")]\n",
    "technology_list = [col  for col in df_test.columns if col.startswith(\"core_technology_\")]\n"
   ]
  },
  {
   "cell_type": "code",
   "execution_count": 27,
   "metadata": {},
   "outputs": [],
   "source": [
    "df_test[tag_cols] = df_test[tag_cols].fillna(0)\n",
    "df_test[targetmarket_cols] = df_test[targetmarket_cols].fillna(0)\n",
    "df_test[sector_list] = df_test[sector_list].fillna(0)\n",
    "df_test[target_ind_list] = df_test[target_ind_list].fillna(0)\n",
    "df_test[technology_list] = df_test[technology_list].fillna(0)\n"
   ]
  },
  {
   "cell_type": "code",
   "execution_count": 28,
   "metadata": {},
   "outputs": [],
   "source": [
    "# df_test.tag_vec[0][0]"
   ]
  },
  {
   "cell_type": "code",
   "execution_count": 39,
   "metadata": {},
   "outputs": [],
   "source": [
    "def vectorize_and_replace(df, cols: list, prefix: str):\n",
    "    \"\"\"Vectorize the {cols} columns in {dataframe}\\n\n",
    "    and returns a {dataframe} copy with the vector after removing the {cols}\\n\n",
    "    new col name is {prefix}_vec \"\"\"\n",
    "    # df = dataframe.copy()\n",
    "\n",
    "    lb = preprocessing.LabelBinarizer()\n",
    "    vec = lb.fit_transform(df[cols]).tolist()\n",
    "\n",
    "    # vec = [int(x) for x in vec.split(',')]\n",
    "\n",
    "\n",
    "    df[f\"{prefix}_vec\"] =  vec #np.array([vec], dtype = int)\n",
    "    df = df.drop(cols, axis = 1)\n",
    "    return df"
   ]
  },
  {
   "cell_type": "code",
   "execution_count": null,
   "metadata": {},
   "outputs": [],
   "source": []
  },
  {
   "cell_type": "markdown",
   "metadata": {},
   "source": [
    "vectorize"
   ]
  },
  {
   "cell_type": "code",
   "execution_count": 40,
   "metadata": {},
   "outputs": [
    {
     "data": {
      "text/plain": [
       "(13048, 23)"
      ]
     },
     "execution_count": 40,
     "metadata": {},
     "output_type": "execute_result"
    }
   ],
   "source": [
    "df_test = vectorize_and_replace(df_test, tag_cols, \"tag\")\n",
    "df_test = vectorize_and_replace(df_test, targetmarket_cols, \"targetmarket\")\n",
    "df_test = vectorize_and_replace(df_test, sector_list, \"sector\")\n",
    "df_test = vectorize_and_replace(df_test, target_ind_list, \"target_ind\")\n",
    "df_test = vectorize_and_replace(df_test, technology_list, \"tech\")\n",
    "df_test.shape"
   ]
  },
  {
   "cell_type": "markdown",
   "metadata": {},
   "source": [
    "Replacing null values to 0"
   ]
  },
  {
   "cell_type": "code",
   "execution_count": 41,
   "metadata": {},
   "outputs": [],
   "source": [
    "df_test['raised'] = df_test['raised'].fillna(0)\n",
    "df_test['total_rounds'] = df_test['total_rounds'].fillna(0)\n",
    "df_test['investors'] = df_test['investors'].fillna(0)\n",
    "df_test['ipo_price'] = df_test['ipo_price'].fillna(0)\n"
   ]
  },
  {
   "cell_type": "code",
   "execution_count": 42,
   "metadata": {},
   "outputs": [],
   "source": [
    "df_test.status.replace({'active' : 1, 'not_active' : 0 }, inplace=True)"
   ]
  },
  {
   "cell_type": "markdown",
   "metadata": {},
   "source": [
    "Removing unused columns"
   ]
  },
  {
   "cell_type": "code",
   "execution_count": 43,
   "metadata": {},
   "outputs": [
    {
     "data": {
      "text/plain": [
       "(13048, 20)"
      ]
     },
     "execution_count": 43,
     "metadata": {},
     "output_type": "execute_result"
    }
   ],
   "source": [
    "df_test.drop(['use cases','academic spin-off','total_raised'], axis = 1, inplace = True)\n",
    "df_test.shape"
   ]
  },
  {
   "cell_type": "markdown",
   "metadata": {},
   "source": [
    "Decoding str to numeric value"
   ]
  },
  {
   "cell_type": "code",
   "execution_count": 44,
   "metadata": {},
   "outputs": [
    {
     "name": "stderr",
     "output_type": "stream",
     "text": [
      "c:\\Users\\matan\\AppData\\Local\\Programs\\Python\\Python310\\lib\\site-packages\\pandas\\core\\indexing.py:1732: SettingWithCopyWarning: \n",
      "A value is trying to be set on a copy of a slice from a DataFrame\n",
      "\n",
      "See the caveats in the documentation: https://pandas.pydata.org/pandas-docs/stable/user_guide/indexing.html#returning-a-view-versus-a-copy\n",
      "  self._setitem_single_block(indexer, value, name)\n"
     ]
    }
   ],
   "source": [
    "df_test['ipo_price'] = conv_to_float(df_test[\"ipo_price\"])\n",
    "df_test['raised'] = conv_to_float(df_test[\"raised\"])"
   ]
  },
  {
   "cell_type": "markdown",
   "metadata": {},
   "source": [
    "Converting the numeric colums"
   ]
  },
  {
   "cell_type": "code",
   "execution_count": 45,
   "metadata": {},
   "outputs": [],
   "source": [
    "\n",
    "df_test['business model']= preprocessing.LabelEncoder().fit_transform(df_test['business model'])"
   ]
  },
  {
   "cell_type": "code",
   "execution_count": 46,
   "metadata": {},
   "outputs": [],
   "source": [
    "df_test['raised'] = df_test['raised'].astype('float')\n",
    "df_test['total_rounds'] = df_test['total_rounds'].astype('int')\n",
    "df_test['investors'] = df_test['investors'].astype('int')\n",
    "df_test['ipo_price'] = df_test['ipo_price'].astype('float')\n",
    "df_test['business model'] = df_test['business model'].astype('int')"
   ]
  },
  {
   "cell_type": "code",
   "execution_count": 47,
   "metadata": {},
   "outputs": [
    {
     "data": {
      "text/plain": [
       "841852.5444512569"
      ]
     },
     "execution_count": 47,
     "metadata": {},
     "output_type": "execute_result"
    }
   ],
   "source": [
    "df_test.ipo_price.mean()"
   ]
  },
  {
   "cell_type": "code",
   "execution_count": null,
   "metadata": {},
   "outputs": [],
   "source": []
  },
  {
   "cell_type": "code",
   "execution_count": 48,
   "metadata": {},
   "outputs": [],
   "source": [
    "df_test.loc[(df_test[\"status\"]==1)&(df_test['raised']>4000000), 'suceeded'] = 1\n",
    "df_test.loc[(df_test[\"status\"]==0)|(df_test['raised']<=4000000), 'suceeded'] = 0"
   ]
  },
  {
   "cell_type": "code",
   "execution_count": 49,
   "metadata": {},
   "outputs": [],
   "source": [
    "df_test.to_csv('cleaned_complete.csv')"
   ]
  },
  {
   "cell_type": "code",
   "execution_count": 50,
   "metadata": {},
   "outputs": [
    {
     "data": {
      "text/plain": [
       "(13048, 21)"
      ]
     },
     "execution_count": 50,
     "metadata": {},
     "output_type": "execute_result"
    }
   ],
   "source": [
    "# df_test.loc[\"succeeded\"] = df_test[(df_test['status'] == 1) & (df_test['raised'] > 5000000)]\n",
    "df_test.shape"
   ]
  },
  {
   "cell_type": "code",
   "execution_count": 61,
   "metadata": {},
   "outputs": [],
   "source": [
    "\n",
    "xtrain, xtest, ytrain, ytest = train_test_split(df_test.iloc[:,:-1].select_dtypes(include=np.number), df_test.iloc[:,-1])\n"
   ]
  },
  {
   "cell_type": "code",
   "execution_count": 52,
   "metadata": {},
   "outputs": [
    {
     "data": {
      "text/plain": [
       "company_name                                                    SolarEdge\n",
       "company_about           SolarEdge Technologies invented an inverter so...\n",
       "founded                                                            8/2006\n",
       "business model                                                          2\n",
       "employees                                                            500+\n",
       "funding stage                                                      Public\n",
       "raised                                                        124700000.0\n",
       "product stage                                                    Released\n",
       "status                                                                  1\n",
       "geographical markets    europe, asia, africa, global, australia, cambo...\n",
       "products                                                              NaN\n",
       "fund_stage                                                         Public\n",
       "total_rounds                                                            6\n",
       "investors                                                               9\n",
       "ipo_price                                                     126000000.0\n",
       "tag_vec                 [0, 0, 0, 0, 0, 0, 0, 0, 0, 0, 0, 0, 0, 1, 0, ...\n",
       "targetmarket_vec        [0, 0, 0, 0, 0, 0, 0, 0, 0, 0, 0, 0, 0, 0, 0, ...\n",
       "sector_vec              [0, 0, 0, 0, 0, 0, 0, 0, 0, 0, 0, 0, 0, 0, 1, ...\n",
       "target_ind_vec          [0, 0, 0, 0, 0, 0, 0, 1, 1, 0, 1, 0, 0, 0, 0, ...\n",
       "tech_vec                [0, 0, 0, 0, 0, 0, 0, 0, 0, 0, 0, 0, 0, 0, 0, ...\n",
       "suceeded                                                              1.0\n",
       "Name: 2930, dtype: object"
      ]
     },
     "execution_count": 52,
     "metadata": {},
     "output_type": "execute_result"
    }
   ],
   "source": [
    "df_test.iloc[2930,:]"
   ]
  },
  {
   "cell_type": "code",
   "execution_count": 72,
   "metadata": {},
   "outputs": [],
   "source": [
    "# TODO maybe a function for each vec col?\n",
    "#      or maybe not vectorize !?\n",
    "\n",
    "lst_vec = df_test.iloc[:,-6].tolist()\n",
    "df_vec = pd.DataFrame(lst_vec)\n",
    "df_vec.shape\n",
    "xtrain, xtest, ytrain, ytest = train_test_split(df_vec, df_test.iloc[:,-1])"
   ]
  },
  {
   "cell_type": "code",
   "execution_count": 73,
   "metadata": {},
   "outputs": [
    {
     "data": {
      "text/plain": [
       "3049"
      ]
     },
     "execution_count": 73,
     "metadata": {},
     "output_type": "execute_result"
    }
   ],
   "source": [
    "df_vec.duplicated().sum()"
   ]
  },
  {
   "cell_type": "code",
   "execution_count": 74,
   "metadata": {},
   "outputs": [
    {
     "data": {
      "text/plain": [
       "LogisticRegression()"
      ]
     },
     "execution_count": 74,
     "metadata": {},
     "output_type": "execute_result"
    }
   ],
   "source": [
    "lr = LogisticRegression()\n",
    "lr.fit(xtrain,ytrain)"
   ]
  },
  {
   "cell_type": "code",
   "execution_count": 75,
   "metadata": {},
   "outputs": [],
   "source": [
    "ytrain_pred = lr.predict(xtrain)\n",
    "ytest_pred = lr.predict(xtest)"
   ]
  },
  {
   "cell_type": "code",
   "execution_count": 64,
   "metadata": {},
   "outputs": [
    {
     "data": {
      "text/plain": [
       "array([[6234,    0],\n",
       "       [2121, 1431]], dtype=int64)"
      ]
     },
     "execution_count": 64,
     "metadata": {},
     "output_type": "execute_result"
    }
   ],
   "source": [
    "metrics.confusion_matrix(ytrain_pred, ytrain)"
   ]
  },
  {
   "cell_type": "code",
   "execution_count": 76,
   "metadata": {},
   "outputs": [
    {
     "name": "stdout",
     "output_type": "stream",
     "text": [
      "Train results:\n",
      "accuracy is: 0.9119149805845085\n",
      "precision is: 0.4602836879432624\n",
      "recall is: 0.8653333333333333\n",
      "f1 is: 0.6009259259259259\n",
      "---------------------\n",
      "Test results:\n",
      "accuracy is: 0.865113427345187\n",
      "precision is: 0.3045267489711934\n",
      "recall is: 0.592\n",
      "f1 is: 0.4021739130434782\n"
     ]
    }
   ],
   "source": [
    "print(\"Train results:\")\n",
    "print(\"accuracy is:\",metrics.accuracy_score(ytrain_pred, ytrain))\n",
    "print(\"precision is:\",metrics.precision_score(ytrain_pred, ytrain))\n",
    "print(\"recall is:\",metrics.recall_score(ytrain_pred, ytrain))\n",
    "print(\"f1 is:\",metrics.f1_score(ytrain_pred, ytrain))\n",
    "print(\"---------------------\")\n",
    "print(\"Test results:\")\n",
    "print(\"accuracy is:\",metrics.accuracy_score(ytest_pred, ytest))\n",
    "print(\"precision is:\",metrics.precision_score(ytest_pred, ytest))\n",
    "print(\"recall is:\",metrics.recall_score(ytest_pred, ytest))\n",
    "print(\"f1 is:\",metrics.f1_score(ytest_pred, ytest))"
   ]
  },
  {
   "cell_type": "markdown",
   "metadata": {},
   "source": [
    "<strong>This is the results with vectorize</strong>"
   ]
  }
 ],
 "metadata": {
  "interpreter": {
   "hash": "8d8353be1dd092e57b3f2779bafc40fd4a1c87861698b48ff47a5f1df7325f59"
  },
  "kernelspec": {
   "display_name": "Python 3.10.0 64-bit",
   "language": "python",
   "name": "python3"
  },
  "language_info": {
   "codemirror_mode": {
    "name": "ipython",
    "version": 3
   },
   "file_extension": ".py",
   "mimetype": "text/x-python",
   "name": "python",
   "nbconvert_exporter": "python",
   "pygments_lexer": "ipython3",
   "version": "3.10.0"
  },
  "orig_nbformat": 4
 },
 "nbformat": 4,
 "nbformat_minor": 2
}
