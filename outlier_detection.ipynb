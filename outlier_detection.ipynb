{
 "cells": [
  {
   "cell_type": "code",
   "execution_count": 1,
   "metadata": {},
   "outputs": [],
   "source": [
    "import pandas as pd\n",
    "import numpy as np"
   ]
  },
  {
   "cell_type": "code",
   "execution_count": 2,
   "metadata": {},
   "outputs": [
    {
     "data": {
      "text/plain": [
       "(10070, 2863)"
      ]
     },
     "execution_count": 2,
     "metadata": {},
     "output_type": "execute_result"
    }
   ],
   "source": [
    "df = pd.read_csv('data/dataframes/final_cleaned.csv').iloc[:,1:]\n",
    "df.shape"
   ]
  },
  {
   "cell_type": "code",
   "execution_count": 28,
   "metadata": {},
   "outputs": [],
   "source": [
    "df.loc[(df[\"status\"]==1)&(df['total_raised'] >= 3000000), 'suceeded'] = 1\n",
    "df.loc[(df[\"status\"]==0)|(df['total_raised'] < 3000000), 'suceeded'] = 0"
   ]
  },
  {
   "cell_type": "code",
   "execution_count": 29,
   "metadata": {},
   "outputs": [],
   "source": [
    "cat_cols = ['company_name','company_about', 'founded', 'business model','employees','product stage','status','fund_stage','suceeded']\n",
    "num_cols = ['total_raised','total_rounds', 'investors','ipo_price', 'geo_market_per']\n",
    "tag_cols = [col for col in df.columns if col.startswith('tag_')]\n",
    "targetmarket_cols = [col for col in df.columns if col.startswith('targetmarket_')]\n",
    "sector_list = [col for col in df.columns if col.startswith(\"sector_\")]\n",
    "target_ind_list = [col for col in df.columns if col.startswith(\"target_industry_\")]\n",
    "technology_list = [col for col in df.columns if col.startswith(\"core_technology_\")]\n",
    "bin_cols = tag_cols + targetmarket_cols + sector_list + target_ind_list + technology_list"
   ]
  },
  {
   "cell_type": "code",
   "execution_count": 30,
   "metadata": {},
   "outputs": [],
   "source": [
    "new_tech_cols = []\n",
    "new_industry_cols = []\n",
    "for col in target_ind_list + technology_list:\n",
    "    if col in technology_list:\n",
    "        new_tech_cols.append(\"technology\" + col[15:])\n",
    "    \n",
    "    elif col in target_ind_list:\n",
    "        new_industry_cols.append(\"industry\" + col[15:])\n",
    "\n",
    "\n",
    "d= {}\n",
    "for i in range(len(new_tech_cols)):\n",
    "    d[technology_list[i]] =  new_tech_cols[i]\n",
    "\n",
    "for i in range(len(new_industry_cols)):\n",
    "    d[target_ind_list[i]] =  new_industry_cols[i]\n",
    "\n",
    "df.rename(columns=d, inplace=True)\n"
   ]
  },
  {
   "cell_type": "code",
   "execution_count": 31,
   "metadata": {},
   "outputs": [],
   "source": [
    "target_ind_list = [col for col in df.columns if col.startswith(\"industry_\")]\n",
    "technology_list = [col for col in df.columns if col.startswith(\"technology_\")]\n",
    "bin_cols = tag_cols + targetmarket_cols + sector_list + target_ind_list + technology_list"
   ]
  },
  {
   "cell_type": "markdown",
   "metadata": {},
   "source": [
    "We deduced the relationship between columns can be seen as a graph,  \n",
    "Where each column presented as a node.  \n",
    "The edges are the relationships between specific column to other columns in the company instance.\n"
   ]
  },
  {
   "cell_type": "markdown",
   "metadata": {},
   "source": [
    "We used NetworkX module to make the graph and run algorithms on it.  \n",
    "[NetworkX docs](https://networkx.org/documentation/stable/index.html)"
   ]
  },
  {
   "cell_type": "code",
   "execution_count": 7,
   "metadata": {},
   "outputs": [
    {
     "name": "stdout",
     "output_type": "stream",
     "text": [
      "Requirement already satisfied: networkx in c:\\users\\matan\\appdata\\local\\programs\\python\\python310\\lib\\site-packages (2.8.4)\n",
      "Requirement already satisfied: seaborn in c:\\users\\matan\\appdata\\local\\programs\\python\\python310\\lib\\site-packages (0.11.2)\n",
      "Requirement already satisfied: scipy>=1.0 in c:\\users\\matan\\appdata\\local\\programs\\python\\python310\\lib\\site-packages (from seaborn) (1.8.0)\n",
      "Requirement already satisfied: numpy>=1.15 in c:\\users\\matan\\appdata\\local\\programs\\python\\python310\\lib\\site-packages (from seaborn) (1.21.3)\n",
      "Requirement already satisfied: pandas>=0.23 in c:\\users\\matan\\appdata\\local\\programs\\python\\python310\\lib\\site-packages (from seaborn) (1.3.4)\n",
      "Requirement already satisfied: matplotlib>=2.2 in c:\\users\\matan\\appdata\\local\\programs\\python\\python310\\lib\\site-packages (from seaborn) (3.5.1)\n",
      "Requirement already satisfied: python-dateutil>=2.7 in c:\\users\\matan\\appdata\\local\\programs\\python\\python310\\lib\\site-packages (from matplotlib>=2.2->seaborn) (2.8.2)\n",
      "Requirement already satisfied: pillow>=6.2.0 in c:\\users\\matan\\appdata\\local\\programs\\python\\python310\\lib\\site-packages (from matplotlib>=2.2->seaborn) (9.0.1)\n",
      "Requirement already satisfied: packaging>=20.0 in c:\\users\\matan\\appdata\\local\\programs\\python\\python310\\lib\\site-packages (from matplotlib>=2.2->seaborn) (21.2)\n",
      "Requirement already satisfied: pyparsing>=2.2.1 in c:\\users\\matan\\appdata\\local\\programs\\python\\python310\\lib\\site-packages (from matplotlib>=2.2->seaborn) (2.4.7)\n",
      "Requirement already satisfied: fonttools>=4.22.0 in c:\\users\\matan\\appdata\\local\\programs\\python\\python310\\lib\\site-packages (from matplotlib>=2.2->seaborn) (4.29.1)\n",
      "Requirement already satisfied: kiwisolver>=1.0.1 in c:\\users\\matan\\appdata\\local\\programs\\python\\python310\\lib\\site-packages (from matplotlib>=2.2->seaborn) (1.3.2)\n",
      "Requirement already satisfied: cycler>=0.10 in c:\\users\\matan\\appdata\\local\\programs\\python\\python310\\lib\\site-packages (from matplotlib>=2.2->seaborn) (0.11.0)\n",
      "Requirement already satisfied: pytz>=2017.3 in c:\\users\\matan\\appdata\\local\\programs\\python\\python310\\lib\\site-packages (from pandas>=0.23->seaborn) (2021.3)\n",
      "Requirement already satisfied: six>=1.5 in c:\\users\\matan\\appdata\\local\\programs\\python\\python310\\lib\\site-packages (from python-dateutil>=2.7->matplotlib>=2.2->seaborn) (1.16.0)\n",
      "Note: you may need to restart the kernel to use updated packages.\n"
     ]
    },
    {
     "name": "stderr",
     "output_type": "stream",
     "text": [
      "WARNING: There was an error checking the latest version of pip.\n"
     ]
    }
   ],
   "source": [
    "# %pip install networkx seaborn \n",
    "import networkx as nx"
   ]
  },
  {
   "cell_type": "code",
   "execution_count": 8,
   "metadata": {},
   "outputs": [],
   "source": [
    "# e is a list of highly correlated pairs of tags\n",
    "# We will use pandas corr function to find all correlations which absolute value greater than 0.7\n",
    "\n",
    "def get_edges(df, v):\n",
    "    df_cor = df[v].corr()\n",
    "    e = []\n",
    "\n",
    "    for i in range(len(df_cor.columns)):\n",
    "        for j in range(i+1, len(df_cor.columns)):\n",
    "            if abs(df_cor.iloc[i,j]) > 0.7:\n",
    "                e.append((df_cor.columns[i], df_cor.columns[j]))\n",
    "    return e\n",
    "\n",
    "def make_graph(v, e):\n",
    "    G = nx.Graph()\n",
    "    G.add_nodes_from(v)\n",
    "    G.add_edges_from(e)\n",
    "    return G\n",
    "\n"
   ]
  },
  {
   "cell_type": "markdown",
   "metadata": {},
   "source": [
    "We can use <b>SCC algorithm</b> to find all strongly connected component in the graph, which represents <b>highly correlated columns</b>.  \n",
    "For the most parts, our columns are structured in a way that theres a <b>certain inclusive tag</b> which can represent the exclusive tags that are highly correlated with.    \n",
    "Between highly correlated chronic disease tag and celiac or diabetes tag one is more inclusive than the other. Therefore we will remove the exclusive ones.  \n",
    "In our graph representation:  \n",
    "$$\n",
    "\\text{an inclusive column} \\iff {deg(\\text{inclusive column}) > deg(\\text{exclusive column})} \n",
    "$$ \n",
    "For each scc, we can infer and determine that the vertex with the highest degree can represent the other exclusive tags.  \n",
    "\n",
    "If we will run SCC algorithm, we will get the number of highly correlated 'representitives' that will remain."
   ]
  },
  {
   "cell_type": "code",
   "execution_count": 14,
   "metadata": {},
   "outputs": [
    {
     "data": {
      "text/plain": [
       "2599"
      ]
     },
     "execution_count": 14,
     "metadata": {},
     "output_type": "execute_result"
    }
   ],
   "source": [
    "#  Runtime ~4.5 minutes\n",
    "\n",
    "def scc(v, e):\n",
    "    \"\"\"\n",
    "    Calculates the number of connected components in a graph with vertices v and edges e.\n",
    "    \"\"\"\n",
    "    \n",
    "    # Create a graph with v and e\n",
    "    G = nx.Graph()\n",
    "    G.add_nodes_from(v)\n",
    "    G.add_edges_from(e)\n",
    "    # Calculate the number of connected components\n",
    "    return nx.number_connected_components(G)\n",
    "\n",
    "scc(bin_cols, get_edges(df, bin_cols))\n"
   ]
  },
  {
   "cell_type": "code",
   "execution_count": 9,
   "metadata": {},
   "outputs": [],
   "source": [
    "# function to return the max degree of a graph\n",
    "\n",
    "def get_max_degree(G):\n",
    "    max_degree = 0\n",
    "    v = ''\n",
    "    for vertex in G.nodes():\n",
    "        if G.degree(vertex) > max_degree:\n",
    "            max_degree = G.degree(vertex)\n",
    "            v = vertex\n",
    "    # print(max_degree)\n",
    "    return v, max_degree\n",
    "    \n",
    "# function to remove all exclusive vertices\n",
    "# Each iteration we find the vertex with max degree and remove all the adjacent vertices\n",
    "\n",
    "def get_new_g(v,e):\n",
    "    G = make_graph(v,e)\n",
    "\n",
    "    v_name, max_degree = get_max_degree(G)\n",
    "    removed = 0\n",
    "\n",
    "    G2 = G.copy()\n",
    "    while max_degree > 0:\n",
    "\n",
    "        for adj in G.adj[v_name]:\n",
    "            G2.remove_node(adj)\n",
    "            removed += 1\n",
    "            \n",
    "        G = G2.copy()\n",
    "        v_name, max_degree = get_max_degree(G)\n",
    "\n",
    "    print(f\"Total vertices removed: {removed}\\n\\n\")\n",
    "    return G"
   ]
  },
  {
   "cell_type": "markdown",
   "metadata": {},
   "source": [
    "We will create the graph of the binary columns and run our algorithm on it.  \n",
    "After the algorithm is done, the returned graph will include only the not correlated columns.  \n",
    "We will use the returned nodes to reduce the correlated columns in the dataframe.\n"
   ]
  },
  {
   "cell_type": "code",
   "execution_count": 32,
   "metadata": {},
   "outputs": [
    {
     "name": "stdout",
     "output_type": "stream",
     "text": [
      "Total vertices removed: 247\n",
      "\n",
      "\n"
     ]
    }
   ],
   "source": [
    "# Runtime ~4.5 minutes\n",
    "\n",
    "new_G = get_new_g(bin_cols,get_edges(df, bin_cols))"
   ]
  },
  {
   "cell_type": "code",
   "execution_count": 33,
   "metadata": {},
   "outputs": [
    {
     "data": {
      "text/plain": [
       "247"
      ]
     },
     "execution_count": 33,
     "metadata": {},
     "output_type": "execute_result"
    }
   ],
   "source": [
    "new_cols = list(new_G.nodes())\n",
    "len(bin_cols)- len(new_cols)"
   ]
  },
  {
   "cell_type": "markdown",
   "metadata": {},
   "source": [
    "We see the total number of dropped columns are 247.  \n",
    "We will create the new dataframe:"
   ]
  },
  {
   "cell_type": "code",
   "execution_count": 34,
   "metadata": {},
   "outputs": [
    {
     "name": "stdout",
     "output_type": "stream",
     "text": [
      "New dataframe shape: (10070, 2617)\n"
     ]
    }
   ],
   "source": [
    "reduced_cols_df = df[cat_cols + num_cols + new_cols]\n",
    "print(f'New dataframe shape: {reduced_cols_df.shape}')"
   ]
  },
  {
   "cell_type": "markdown",
   "metadata": {},
   "source": [
    "In our mostly binary dataset case, the outlier columns can be detected by the <b>sum of the 1 values in the column</b> - the column sum.  \n",
    "After getting the sum of the column, we will use the following function on the values:  \n",
    "$$\n",
    "\\text{normalized value} = \\frac{\\text{number of 'succesful' companies with the tag}}{\\text{total companies with the tag}}\n",
    "$$\n",
    "We will then create a secondary dataset with the columns and their value.  \n",
    "And check both <b>Z score</b> and <b>IQR</b> methods on the secondary dataset to detect the outliers columns.\n"
   ]
  },
  {
   "cell_type": "markdown",
   "metadata": {},
   "source": [
    "We will start by calculating the sum and normalize them:"
   ]
  },
  {
   "cell_type": "code",
   "execution_count": 35,
   "metadata": {},
   "outputs": [],
   "source": [
    "sum_dict = {}\n",
    "for col in new_cols:\n",
    "    sum_dict.update({col: reduced_cols_df[col].sum()})\n"
   ]
  },
  {
   "cell_type": "code",
   "execution_count": 36,
   "metadata": {},
   "outputs": [
    {
     "data": {
      "application/vnd.jupyter.widget-view+json": {
       "model_id": "1aecfc34d7404cf8b611e06c07405ef6",
       "version_major": 2,
       "version_minor": 0
      },
      "text/plain": [
       "  0%|          | 0/2617 [00:00<?, ?it/s]"
      ]
     },
     "metadata": {},
     "output_type": "display_data"
    }
   ],
   "source": [
    "#  Runtime ~10 minutes\n",
    "# %pip install tqdm\n",
    "import tqdm.notebook as tqdm\n",
    "\n",
    "temp_df = reduced_cols_df[reduced_cols_df['suceeded'] == 1]\n",
    "\n",
    "normalized = {}\n",
    "\n",
    "with tqdm.tqdm(total=len(temp_df.columns)) as pbar:\n",
    "    for col in new_cols:\n",
    "        counter = 0\n",
    "        \n",
    "        for row in temp_df[col]:\n",
    "            if row == 1:\n",
    "                counter += 1\n",
    "        pbar.update(1)\n",
    "        normalized[col] = counter / sum_dict[col]\n",
    "\n",
    "\n",
    "    "
   ]
  },
  {
   "cell_type": "markdown",
   "metadata": {},
   "source": [
    "Lets plot the normalized values of the columns:"
   ]
  },
  {
   "cell_type": "code",
   "execution_count": 52,
   "metadata": {},
   "outputs": [
    {
     "data": {
      "text/plain": [
       "<AxesSubplot:ylabel='Density'>"
      ]
     },
     "execution_count": 52,
     "metadata": {},
     "output_type": "execute_result"
    },
    {
     "data": {
      "image/png": "[encoded data removed]",
      "text/plain": [
       "<Figure size 432x288 with 1 Axes>"
      ]
     },
     "metadata": {
      "needs_background": "light"
     },
     "output_type": "display_data"
    }
   ],
   "source": [
    "import matplotlib.pyplot as plt\n",
    "\n",
    "\n",
    "plt.hist(normalized.values(), bins=100)\n",
    "plt.xlabel('Normalized value')\n",
    "plt.ylabel('Frequency')\n",
    "\n",
    "# import seaborn as sns\n",
    "# sns.kdeplot(normalized.values(), shade=True)\n"
   ]
  },
  {
   "cell_type": "markdown",
   "metadata": {},
   "source": [
    "We see high rates of 1 and 0 in the normalized values.  \n",
    "This means that those columns are not helpful for our analysis, either the sum was 0 or a small amount of companies had the tag and succeeded - we will drop them.  \n",
    "In addition, we can see a Gaussian bell distribution between values ~ 0 < X < 0.4  \n",
    "\n",
    "Lets try to explore our data first:\n"
   ]
  },
  {
   "cell_type": "code",
   "execution_count": 38,
   "metadata": {},
   "outputs": [
    {
     "data": {
      "text/html": [
       "<div>\n",
       "<style scoped>\n",
       "    .dataframe tbody tr th:only-of-type {\n",
       "        vertical-align: middle;\n",
       "    }\n",
       "\n",
       "    .dataframe tbody tr th {\n",
       "        vertical-align: top;\n",
       "    }\n",
       "\n",
       "    .dataframe thead th {\n",
       "        text-align: right;\n",
       "    }\n",
       "</style>\n",
       "<table border=\"1\" class=\"dataframe\">\n",
       "  <thead>\n",
       "    <tr style=\"text-align: right;\">\n",
       "      <th></th>\n",
       "      <th>Normalized</th>\n",
       "    </tr>\n",
       "  </thead>\n",
       "  <tbody>\n",
       "    <tr>\n",
       "      <th>count</th>\n",
       "      <td>2603.000000</td>\n",
       "    </tr>\n",
       "    <tr>\n",
       "      <th>mean</th>\n",
       "      <td>0.224544</td>\n",
       "    </tr>\n",
       "    <tr>\n",
       "      <th>std</th>\n",
       "      <td>0.232186</td>\n",
       "    </tr>\n",
       "    <tr>\n",
       "      <th>min</th>\n",
       "      <td>0.000000</td>\n",
       "    </tr>\n",
       "    <tr>\n",
       "      <th>25%</th>\n",
       "      <td>0.054184</td>\n",
       "    </tr>\n",
       "    <tr>\n",
       "      <th>50%</th>\n",
       "      <td>0.181818</td>\n",
       "    </tr>\n",
       "    <tr>\n",
       "      <th>75%</th>\n",
       "      <td>0.302678</td>\n",
       "    </tr>\n",
       "    <tr>\n",
       "      <th>max</th>\n",
       "      <td>1.000000</td>\n",
       "    </tr>\n",
       "  </tbody>\n",
       "</table>\n",
       "</div>"
      ],
      "text/plain": [
       "        Normalized\n",
       "count  2603.000000\n",
       "mean      0.224544\n",
       "std       0.232186\n",
       "min       0.000000\n",
       "25%       0.054184\n",
       "50%       0.181818\n",
       "75%       0.302678\n",
       "max       1.000000"
      ]
     },
     "execution_count": 38,
     "metadata": {},
     "output_type": "execute_result"
    }
   ],
   "source": [
    "norm_df = pd.DataFrame(normalized.values(), index=normalized.keys(), columns = ['Normalized'])\n",
    "norm_df.describe()"
   ]
  },
  {
   "cell_type": "markdown",
   "metadata": {},
   "source": [
    "We see that the mean of the normalized values is 0.2, and the standard deviation is 0.22 - as we observed from the Gaussian distribution.  \n",
    "We will now remove the columns with normalized 1 and 0 manualy to avoid biased mean and std values for a better outlier detection."
   ]
  },
  {
   "cell_type": "code",
   "execution_count": 39,
   "metadata": {},
   "outputs": [
    {
     "name": "stdout",
     "output_type": "stream",
     "text": [
      "normalized: 2603\n",
      "new_normalized: 1885\n",
      "\n"
     ]
    },
    {
     "data": {
      "text/html": [
       "<div>\n",
       "<style scoped>\n",
       "    .dataframe tbody tr th:only-of-type {\n",
       "        vertical-align: middle;\n",
       "    }\n",
       "\n",
       "    .dataframe tbody tr th {\n",
       "        vertical-align: top;\n",
       "    }\n",
       "\n",
       "    .dataframe thead th {\n",
       "        text-align: right;\n",
       "    }\n",
       "</style>\n",
       "<table border=\"1\" class=\"dataframe\">\n",
       "  <thead>\n",
       "    <tr style=\"text-align: right;\">\n",
       "      <th></th>\n",
       "      <th>Normalized</th>\n",
       "    </tr>\n",
       "  </thead>\n",
       "  <tbody>\n",
       "    <tr>\n",
       "      <th>count</th>\n",
       "      <td>1885.000000</td>\n",
       "    </tr>\n",
       "    <tr>\n",
       "      <th>mean</th>\n",
       "      <td>0.247474</td>\n",
       "    </tr>\n",
       "    <tr>\n",
       "      <th>std</th>\n",
       "      <td>0.142161</td>\n",
       "    </tr>\n",
       "    <tr>\n",
       "      <th>min</th>\n",
       "      <td>0.017241</td>\n",
       "    </tr>\n",
       "    <tr>\n",
       "      <th>25%</th>\n",
       "      <td>0.142857</td>\n",
       "    </tr>\n",
       "    <tr>\n",
       "      <th>50%</th>\n",
       "      <td>0.216667</td>\n",
       "    </tr>\n",
       "    <tr>\n",
       "      <th>75%</th>\n",
       "      <td>0.330097</td>\n",
       "    </tr>\n",
       "    <tr>\n",
       "      <th>max</th>\n",
       "      <td>0.928571</td>\n",
       "    </tr>\n",
       "  </tbody>\n",
       "</table>\n",
       "</div>"
      ],
      "text/plain": [
       "        Normalized\n",
       "count  1885.000000\n",
       "mean      0.247474\n",
       "std       0.142161\n",
       "min       0.017241\n",
       "25%       0.142857\n",
       "50%       0.216667\n",
       "75%       0.330097\n",
       "max       0.928571"
      ]
     },
     "execution_count": 39,
     "metadata": {},
     "output_type": "execute_result"
    }
   ],
   "source": [
    "new_normalized = {}\n",
    "for col, val in normalized.items():\n",
    "    if val != 0 and val != 1 :\n",
    "        new_normalized[col] = val\n",
    "        \n",
    "print(f'normalized: {len(normalized)}')\n",
    "print(f'new_normalized: {len(new_normalized)}\\n')\n",
    "\n",
    "new_norm_ser = pd.DataFrame(new_normalized.values(), index=new_normalized.keys(), columns = ['Normalized'])\n",
    "new_norm_ser.describe()       "
   ]
  },
  {
   "cell_type": "markdown",
   "metadata": {},
   "source": [
    "After removing 1 and 0 values, we remain with 1838 columns.  \n",
    "Lets normalize and plot to see the bell better:"
   ]
  },
  {
   "cell_type": "code",
   "execution_count": 40,
   "metadata": {},
   "outputs": [
    {
     "data": {
      "text/html": [
       "<div>\n",
       "<style scoped>\n",
       "    .dataframe tbody tr th:only-of-type {\n",
       "        vertical-align: middle;\n",
       "    }\n",
       "\n",
       "    .dataframe tbody tr th {\n",
       "        vertical-align: top;\n",
       "    }\n",
       "\n",
       "    .dataframe thead th {\n",
       "        text-align: right;\n",
       "    }\n",
       "</style>\n",
       "<table border=\"1\" class=\"dataframe\">\n",
       "  <thead>\n",
       "    <tr style=\"text-align: right;\">\n",
       "      <th></th>\n",
       "      <th>Normalized</th>\n",
       "    </tr>\n",
       "  </thead>\n",
       "  <tbody>\n",
       "    <tr>\n",
       "      <th>tag_computer-vision</th>\n",
       "      <td>0.000708</td>\n",
       "    </tr>\n",
       "    <tr>\n",
       "      <th>tag_behavior-analytics</th>\n",
       "      <td>0.000501</td>\n",
       "    </tr>\n",
       "    <tr>\n",
       "      <th>tag_machine-learning</th>\n",
       "      <td>0.000674</td>\n",
       "    </tr>\n",
       "    <tr>\n",
       "      <th>tag_consumer-packaged-goods</th>\n",
       "      <td>0.001876</td>\n",
       "    </tr>\n",
       "    <tr>\n",
       "      <th>tag_natural-language-processing</th>\n",
       "      <td>0.000736</td>\n",
       "    </tr>\n",
       "    <tr>\n",
       "      <th>...</th>\n",
       "      <td>...</td>\n",
       "    </tr>\n",
       "    <tr>\n",
       "      <th>technology_Data Storage_Flash</th>\n",
       "      <td>0.001225</td>\n",
       "    </tr>\n",
       "    <tr>\n",
       "      <th>technology_Sensing_SWIR</th>\n",
       "      <td>0.000536</td>\n",
       "    </tr>\n",
       "    <tr>\n",
       "      <th>technology_Materials &amp; Substances_Adhesive</th>\n",
       "      <td>0.000195</td>\n",
       "    </tr>\n",
       "    <tr>\n",
       "      <th>technology_Materials &amp; Substances_Insulation</th>\n",
       "      <td>0.000429</td>\n",
       "    </tr>\n",
       "    <tr>\n",
       "      <th>technology_Sensing_Scent</th>\n",
       "      <td>0.000536</td>\n",
       "    </tr>\n",
       "  </tbody>\n",
       "</table>\n",
       "<p>1885 rows × 1 columns</p>\n",
       "</div>"
      ],
      "text/plain": [
       "                                              Normalized\n",
       "tag_computer-vision                             0.000708\n",
       "tag_behavior-analytics                          0.000501\n",
       "tag_machine-learning                            0.000674\n",
       "tag_consumer-packaged-goods                     0.001876\n",
       "tag_natural-language-processing                 0.000736\n",
       "...                                                  ...\n",
       "technology_Data Storage_Flash                   0.001225\n",
       "technology_Sensing_SWIR                         0.000536\n",
       "technology_Materials & Substances_Adhesive      0.000195\n",
       "technology_Materials & Substances_Insulation    0.000429\n",
       "technology_Sensing_Scent                        0.000536\n",
       "\n",
       "[1885 rows x 1 columns]"
      ]
     },
     "execution_count": 40,
     "metadata": {},
     "output_type": "execute_result"
    }
   ],
   "source": [
    "total = new_norm_ser['Normalized'].sum()\n",
    "new_norm_ser['Normalized'] = new_norm_ser['Normalized'] / total\n",
    "new_norm_ser"
   ]
  },
  {
   "cell_type": "code",
   "execution_count": 41,
   "metadata": {},
   "outputs": [
    {
     "data": {
      "text/plain": [
       "Text(0, 0.5, 'Frequency')"
      ]
     },
     "execution_count": 41,
     "metadata": {},
     "output_type": "execute_result"
    },
    {
     "data": {
      "image/png": "[encoded data removed]",
      "text/plain": [
       "<Figure size 432x288 with 1 Axes>"
      ]
     },
     "metadata": {
      "needs_background": "light"
     },
     "output_type": "display_data"
    }
   ],
   "source": [
    "plt.hist(new_norm_ser['Normalized'], bins=30)\n",
    "plt.xlabel('Normalized value')\n",
    "plt.ylabel('Frequency')"
   ]
  },
  {
   "cell_type": "markdown",
   "metadata": {},
   "source": [
    "### It means we can start to detect the outliers:"
   ]
  },
  {
   "cell_type": "code",
   "execution_count": 42,
   "metadata": {},
   "outputs": [
    {
     "name": "stdout",
     "output_type": "stream",
     "text": [
      "False    1867\n",
      "True       18\n",
      "Name: Normalized, dtype: int64\n",
      "Z Score detected 18 outliers\n"
     ]
    }
   ],
   "source": [
    "def outlier_detection_zscore(df_orig) -> pd.Series:\n",
    "    \n",
    "    df = df_orig.copy()\n",
    "    z_score = (df['Normalized'] - df['Normalized'].mean()) / df['Normalized'].std()\n",
    "    outliers = abs(z_score) > 3\n",
    "\n",
    "    return outliers\n",
    "\n",
    "z_score_outliers = outlier_detection_zscore(new_norm_ser)\n",
    "z_score_df = new_norm_ser[z_score_outliers == False]\n",
    "\n",
    "print(z_score_outliers.value_counts())\n",
    "print(f\"Z Score detected {z_score_outliers.shape[0] - z_score_df.shape[0]} outliers\")\n"
   ]
  },
  {
   "cell_type": "code",
   "execution_count": 43,
   "metadata": {},
   "outputs": [
    {
     "data": {
      "text/plain": [
       "Text(0, 0.5, 'Frequency')"
      ]
     },
     "execution_count": 43,
     "metadata": {},
     "output_type": "execute_result"
    },
    {
     "data": {
      "image/png": "[encoded data removed]",
      "text/plain": [
       "<Figure size 432x288 with 1 Axes>"
      ]
     },
     "metadata": {
      "needs_background": "light"
     },
     "output_type": "display_data"
    }
   ],
   "source": [
    "plt.hist(z_score_df['Normalized'], bins=12)\n",
    "plt.xlabel('Normalized value')\n",
    "plt.ylabel('Frequency')"
   ]
  },
  {
   "cell_type": "code",
   "execution_count": 44,
   "metadata": {},
   "outputs": [
    {
     "name": "stdout",
     "output_type": "stream",
     "text": [
      "Before: (10070, 2617)\n",
      "After: (10070, 1881)\n"
     ]
    }
   ],
   "source": [
    "df_after_cols_reduction = reduced_cols_df.copy()\n",
    "print(f'Before: {df_after_cols_reduction.shape}')\n",
    "\n",
    "not_outliers_bin_cols = list(z_score_df.index)\n",
    "df_after_cols_reduction = df_after_cols_reduction[cat_cols + num_cols + not_outliers_bin_cols]\n",
    "print(f'After: {df_after_cols_reduction.shape}')"
   ]
  },
  {
   "cell_type": "markdown",
   "metadata": {},
   "source": [
    "We see that after <b>Z Score</b> detection method, we removed 33 columns.  \n",
    "And total number of columns is 1838 - 33 = 1805.  \n",
    "\n",
    "Now, we will try to use IQR method, and see the differences:  "
   ]
  },
  {
   "cell_type": "code",
   "execution_count": 45,
   "metadata": {},
   "outputs": [
    {
     "name": "stdout",
     "output_type": "stream",
     "text": [
      "False    1842\n",
      "True       43\n",
      "Name: iqr_outliers, dtype: int64\n"
     ]
    }
   ],
   "source": [
    "iqr_norm = new_norm_ser.copy()\n",
    "    \n",
    "Q1 = np.percentile(iqr_norm['Normalized'], 25)\n",
    "Q3 = np.percentile(iqr_norm['Normalized'], 75)\n",
    "IQR = 1.5*(Q3 - Q1)\n",
    "\n",
    "lower_bound = Q1 - IQR\n",
    "upper_bound = Q3 + IQR\n",
    "\n",
    "iqr_norm.loc[(iqr_norm[\"Normalized\"]> upper_bound) | (iqr_norm[\"Normalized\"]<lower_bound), 'iqr_outliers'] = True\n",
    "iqr_norm.loc[(iqr_norm[\"Normalized\"]< upper_bound) & (iqr_norm[\"Normalized\"]>lower_bound), 'iqr_outliers'] = False\n",
    "\n",
    "print(iqr_norm['iqr_outliers'].value_counts())\n",
    "\n",
    "\n"
   ]
  },
  {
   "cell_type": "code",
   "execution_count": 46,
   "metadata": {},
   "outputs": [
    {
     "data": {
      "text/plain": [
       "Text(0, 0.5, 'Frequency')"
      ]
     },
     "execution_count": 46,
     "metadata": {},
     "output_type": "execute_result"
    },
    {
     "data": {
      "image/png": "[encoded data removed]",
      "text/plain": [
       "<Figure size 432x288 with 1 Axes>"
      ]
     },
     "metadata": {
      "needs_background": "light"
     },
     "output_type": "display_data"
    }
   ],
   "source": [
    "iqr_df = iqr_norm.copy()\n",
    "for row in iqr_df.iterrows():\n",
    "    if row[1]['iqr_outliers'] == True:\n",
    "        iqr_df.drop(row[0], axis=0, inplace=True)\n",
    "\n",
    "plt.hist(iqr_df['Normalized'], bins=12)\n",
    "plt.xlabel('Normalized value')\n",
    "plt.ylabel('Frequency')"
   ]
  },
  {
   "cell_type": "code",
   "execution_count": 63,
   "metadata": {},
   "outputs": [
    {
     "data": {
      "text/plain": [
       "<AxesSubplot:xlabel='Normalized', ylabel='Density'>"
      ]
     },
     "execution_count": 63,
     "metadata": {},
     "output_type": "execute_result"
    },
    {
     "data": {
      "image/png": "[encoded data removed]",
      "text/plain": [
       "<Figure size 432x288 with 1 Axes>"
      ]
     },
     "metadata": {
      "needs_background": "light"
     },
     "output_type": "display_data"
    }
   ],
   "source": [
    "import seaborn as sns\n",
    "ax = sns.kdeplot(z_score_df['Normalized'], shade=True)\n",
    "sns.kdeplot(iqr_df['Normalized'], shade=True)"
   ]
  },
  {
   "cell_type": "code",
   "execution_count": 47,
   "metadata": {},
   "outputs": [
    {
     "name": "stdout",
     "output_type": "stream",
     "text": [
      "Before: (10070, 2617)\n",
      "After: (10070, 1856)\n"
     ]
    }
   ],
   "source": [
    "df_after_cols_reduction = reduced_cols_df.copy()\n",
    "print(f'Before: {df_after_cols_reduction.shape}')\n",
    "not_outliers_bin_cols = list(iqr_df.index)\n",
    "df_after_cols_reduction = df_after_cols_reduction[cat_cols + num_cols + not_outliers_bin_cols]\n",
    "print(f'After: {df_after_cols_reduction.shape}')"
   ]
  },
  {
   "cell_type": "markdown",
   "metadata": {},
   "source": [
    "We see that after <b>IQR</b> detection method, we removed 57 columns.  \n",
    "And total number of columns is 1838 - 57 = 1781."
   ]
  },
  {
   "cell_type": "markdown",
   "metadata": {},
   "source": [
    "# Summary:\n",
    "After checking both methods for detecting outliers - Z score and IQR, \n",
    "We observed that Z score results were inferior to IQR results.  \n",
    "Therefore, we chose to use IQR detection method to remove outliers."
   ]
  },
  {
   "cell_type": "code",
   "execution_count": 48,
   "metadata": {},
   "outputs": [],
   "source": [
    "df_after_cols_reduction.to_csv('data/dataframes/df_after_cols_reduction3.csv')"
   ]
  },
  {
   "cell_type": "code",
   "execution_count": 49,
   "metadata": {},
   "outputs": [
    {
     "data": {
      "text/plain": [
       "1620.0"
      ]
     },
     "execution_count": 49,
     "metadata": {},
     "output_type": "execute_result"
    }
   ],
   "source": [
    "df_after_cols_reduction.suceeded.sum()"
   ]
  },
  {
   "cell_type": "code",
   "execution_count": null,
   "metadata": {},
   "outputs": [],
   "source": []
  }
 ],
 "metadata": {
  "kernelspec": {
   "display_name": "Python 3.10.0 64-bit",
   "language": "python",
   "name": "python3"
  },
  "language_info": {
   "codemirror_mode": {
    "name": "ipython",
    "version": 3
   },
   "file_extension": ".py",
   "mimetype": "text/x-python",
   "name": "python",
   "nbconvert_exporter": "python",
   "pygments_lexer": "ipython3",
   "version": "3.10.0"
  },
  "orig_nbformat": 4,
  "vscode": {
   "interpreter": {
    "hash": "8d8353be1dd092e57b3f2779bafc40fd4a1c87861698b48ff47a5f1df7325f59"
   }
  }
 },
 "nbformat": 4,
 "nbformat_minor": 2
}
