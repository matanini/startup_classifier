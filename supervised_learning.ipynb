{
 "cells": [
  {
   "cell_type": "code",
   "execution_count": null,
   "metadata": {},
   "outputs": [],
   "source": [
    "import pandas as pd\n",
    "from sklearn.linear_model import LinearRegression, LogisticRegression\n",
    "from sklearn.metrics import r2_score, f1_score\n",
    "from sklearn import preprocessing"
   ]
  },
  {
   "cell_type": "code",
   "execution_count": null,
   "metadata": {},
   "outputs": [],
   "source": [
    "def load_dataset(file_name, target_column):\n",
    "    df = pd.read_csv(file_name)\n",
    "    X = df[df.columns[df.columns != target_column]]\n",
    "    y = df[target_column]\n",
    "    return X, y\n"
   ]
  },
  {
   "cell_type": "code",
   "execution_count": null,
   "metadata": {},
   "outputs": [],
   "source": [
    "def train_1st_model(X_train, y_train):\n",
    "    trained_model = LinearRegression().fit(X_train, y_train)\n",
    "    return trained_model\n"
   ]
  },
  {
   "cell_type": "code",
   "execution_count": null,
   "metadata": {},
   "outputs": [],
   "source": [
    "def predict_1st(trained_1st_model, X_test):\n",
    "    predicted_vals = trained_1st_model.predict(X_test)\n",
    "    return predicted_vals\n"
   ]
  },
  {
   "cell_type": "code",
   "execution_count": null,
   "metadata": {},
   "outputs": [],
   "source": [
    "def evaluate_performance_1st(y_test,y_predicted):\n",
    "    evaluate_value= r2_score(y_test, y_predicted)\n",
    "    return evaluate_value\n"
   ]
  },
  {
   "cell_type": "code",
   "execution_count": null,
   "metadata": {},
   "outputs": [],
   "source": [
    "def train_2nd_model(X_train, y_train):\n",
    "    trained_model = LogisticRegression().fit(X_train, y_train)\n",
    "    return trained_model\n"
   ]
  },
  {
   "cell_type": "code",
   "execution_count": null,
   "metadata": {},
   "outputs": [],
   "source": [
    "def predict_2nd(trained_2nd_model, X_test):\n",
    "    predicted_vals = trained_2nd_model.predict(X_test)\n",
    "    return predicted_vals\n"
   ]
  },
  {
   "cell_type": "code",
   "execution_count": null,
   "metadata": {},
   "outputs": [],
   "source": [
    "def evaluate_performance_2nd(y_test,y_predicted):\n",
    "    evaluate_value = f1_score(y_test, y_predicted)\n",
    "    return evaluate_value\n"
   ]
  },
  {
   "cell_type": "code",
   "execution_count": null,
   "metadata": {},
   "outputs": [],
   "source": [
    "def manipulate_1st_feature_vector(X):\n",
    "    X_copy = X.drop(['language','country'], axis=1).copy()\n",
    "    X_copy['language'] = preprocessing.LabelEncoder().fit_transform(X['language'])\n",
    "    X_copy['country'] = preprocessing.LabelEncoder().fit_transform(X['country'])\n",
    "    X_copy = pd.get_dummies(X_copy, columns=['color'], prefix=['color'])\n",
    "    \n",
    "    X_copy = X_copy.drop(['language','country', 'title_year'], axis=1)\n",
    "    \n",
    "    bins = ['PG-13', 'R', 'PG', 'NC-17','G']\n",
    "    labels =[1,2,3,4,5]\n",
    "    X_copy['content_rating'].replace(bins, labels,inplace=True)\n",
    "    \n",
    "    likes = X_copy['director_facebook_likes']\n",
    "    + X_copy['actor_3_facebook_likes']\n",
    "    + X_copy['actor_1_facebook_likes']\n",
    "    + X_copy['cast_total_facebook_likes']\n",
    "    + X_copy['actor_2_facebook_likes']\n",
    "    + X_copy['movie_facebook_likes']\n",
    "    \n",
    "    X_copy['director_facebook_likes'] = X_copy['director_facebook_likes']/likes\n",
    "    X_copy['actor_3_facebook_likes'] = X_copy['actor_3_facebook_likes']/likes\n",
    "    X_copy['actor_1_facebook_likes'] = X_copy['actor_1_facebook_likes']/likes\n",
    "    X_copy['cast_total_facebook_likes'] = X_copy['cast_total_facebook_likes']/likes\n",
    "    X_copy['actor_2_facebook_likes'] = X_copy['actor_2_facebook_likes']/likes\n",
    "    X_copy['movie_facebook_likes'] = X_copy['movie_facebook_likes']/likes\n",
    "    \n",
    "    X_copy['likes_budget'] = likes/X_copy['budget']\n",
    "    X_copy['likes_gross'] = likes/X_copy['gross']\n",
    "    X_copy['users'] = X_copy['num_voted_users']/X_copy['num_user_for_reviews']\n",
    "    X_copy['profit'] = X_copy['gross'] - X_copy['budget']\n",
    "    \n",
    "    processed_X = X_copy\n",
    "    \n",
    "    return processed_X\n",
    "    \n",
    "    "
   ]
  }
 ],
 "metadata": {
  "language_info": {
   "name": "python"
  },
  "orig_nbformat": 4
 },
 "nbformat": 4,
 "nbformat_minor": 2
}
