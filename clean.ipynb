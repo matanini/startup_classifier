{
 "cells": [
  {
   "cell_type": "code",
   "execution_count": 7,
   "metadata": {},
   "outputs": [],
   "source": [
    "import pandas as pd\n",
    "\n",
    "\n",
    "import numpy as np\n",
    "from sklearn import preprocessing\n",
    "\n",
    "\n",
    "from lib.m import *\n",
    "from lib.geo_to_vector import vectorize_geo\n",
    "from lib.eda_visualization import *"
   ]
  },
  {
   "cell_type": "markdown",
   "metadata": {},
   "source": [
    "Loading the dataframe"
   ]
  },
  {
   "cell_type": "code",
   "execution_count": 8,
   "metadata": {},
   "outputs": [
    {
     "name": "stderr",
     "output_type": "stream",
     "text": [
      "c:\\Users\\matan\\AppData\\Local\\Programs\\Python\\Python310\\lib\\site-packages\\IPython\\core\\interactiveshell.py:3444: DtypeWarning: Columns (18,88) have mixed types.Specify dtype option on import or set low_memory=False.\n",
      "  exec(code_obj, self.user_global_ns, self.user_ns)\n"
     ]
    },
    {
     "data": {
      "text/plain": [
       "(13048, 2868)"
      ]
     },
     "execution_count": 8,
     "metadata": {},
     "output_type": "execute_result"
    }
   ],
   "source": [
    "df = pd.read_csv('df_complete.csv').iloc[:,3:]\n",
    "df.shape"
   ]
  },
  {
   "cell_type": "markdown",
   "metadata": {},
   "source": [
    "Removing duplicated rows"
   ]
  },
  {
   "cell_type": "code",
   "execution_count": 9,
   "metadata": {},
   "outputs": [
    {
     "data": {
      "text/plain": [
       "(10070, 2868)"
      ]
     },
     "execution_count": 9,
     "metadata": {},
     "output_type": "execute_result"
    }
   ],
   "source": [
    "new_df = remove_duplicates(df,['company_name'])\n",
    "new_df.shape"
   ]
  },
  {
   "cell_type": "markdown",
   "metadata": {},
   "source": [
    "Sorting all the columns by groups"
   ]
  },
  {
   "cell_type": "code",
   "execution_count": 10,
   "metadata": {},
   "outputs": [],
   "source": [
    "drop_cols = ['funding stage','products','raised']\n",
    "cat_cols = ['company_name','company_about','founded','business model','employees','product stage','status','geographical markets','fund_stage',]\n",
    "num_cols = ['total_raised','total_rounds', 'investors','ipo_price']\n",
    "tag_cols = [col for col in new_df.columns if col.startswith('tag_')]\n",
    "targetmarket_cols = [col for col in new_df.columns if col.startswith('targetmarket_')]\n",
    "sector_list = [col for col in new_df.columns if col.startswith(\"sector_\")]\n",
    "target_ind_list = [col  for col in new_df.columns if col.startswith(\"target_industry_\")]\n",
    "technology_list = [col  for col in new_df.columns if col.startswith(\"core_technology_\")]\n"
   ]
  },
  {
   "cell_type": "markdown",
   "metadata": {},
   "source": [
    "<h1>Repairing columns</h1>\n",
    "<p> Before removing NaN values, we will first identify what values we expect to have in these columns and we will implement it</p>"
   ]
  },
  {
   "cell_type": "markdown",
   "metadata": {},
   "source": [
    "<h2> Column 'founded'  </h2>\n",
    "<p>We will change the string representation of founded - \"month/year\" to an integer \"year\"</br>\n",
    "Using REGEX to find the year</p>"
   ]
  },
  {
   "cell_type": "code",
   "execution_count": 11,
   "metadata": {},
   "outputs": [
    {
     "name": "stdout",
     "output_type": "stream",
     "text": [
      "type of \"founded\" col is : object\n",
      "Operation succesfull\n",
      "type of \"founded\" col is : int32\n"
     ]
    }
   ],
   "source": [
    "# Fixing founded column\n",
    "\n",
    "print(f'type of \"founded\" col is : {df.founded.dtype}')\n",
    "\n",
    "import re\n",
    "founded_pattern = r\"(\\d{4})\"\n",
    "\n",
    "for i, val in enumerate(df.founded) :\n",
    "\n",
    "    year = val.split('/')[-1]\n",
    "    m = re.search(founded_pattern, year)\n",
    "    if m:\n",
    "        new_df.loc[i, 'founded'] = int(m.group(0))\n",
    "    else:\n",
    "        new_df.loc[i, 'founded'] = np.nan\n",
    "\n",
    "\n",
    "new_df.founded = new_df.founded.astype('int')\n",
    "\n",
    "print('Operation succesfull')\n",
    "print(f'type of \"founded\" col is : {new_df.founded.dtype}')\n",
    "\n",
    "        "
   ]
  },
  {
   "cell_type": "markdown",
   "metadata": {},
   "source": [
    "<h1> Column 'geographical markets'</h1>\n",
    "<p>The column contains a string representing the geographical markets the company aims for</br>\n",
    "The script lib/geo_to_vector.py calculates the precentage of the markets share of the company. </p>"
   ]
  },
  {
   "cell_type": "code",
   "execution_count": 13,
   "metadata": {},
   "outputs": [
    {
     "name": "stderr",
     "output_type": "stream",
     "text": [
      "\n",
      "\n",
      "====== WebDriver manager ======\n"
     ]
    },
    {
     "name": "stdout",
     "output_type": "stream",
     "text": [
      "Geographical markets col:\n",
      "----------------------------------------\n",
      "\n",
      "Running the script...\n",
      "\n"
     ]
    },
    {
     "name": "stderr",
     "output_type": "stream",
     "text": [
      "Current google-chrome version is 101.0.4951\n",
      "Get LATEST chromedriver version for 101.0.4951 google-chrome\n",
      "Driver [C:\\Users\\matan\\.wdm\\drivers\\chromedriver\\win32\\101.0.4951.41\\chromedriver.exe] found in cache\n"
     ]
    },
    {
     "name": "stdout",
     "output_type": "stream",
     "text": [
      "----------------------------------------\n",
      "Geographical percentage col:\n",
      "----------------------------------------\n"
     ]
    }
   ],
   "source": [
    "print(\"Geographical markets col:\")\n",
    "print(new_df['geographical markets'].head())\n",
    "print('----------------------------------------')\n",
    "\n",
    "print('\\nRunning the script...\\n')\n",
    "new_df = vectorize_geo(new_df)\n",
    "\n",
    "print('----------------------------------------')\n",
    "print(\"Geographical percentage col:\")\n",
    "print(new_df['geo_market_per'].head())\n"
   ]
  },
  {
   "cell_type": "code",
   "execution_count": null,
   "metadata": {},
   "outputs": [],
   "source": []
  },
  {
   "cell_type": "markdown",
   "metadata": {},
   "source": [
    "Handling NaN values"
   ]
  },
  {
   "cell_type": "code",
   "execution_count": null,
   "metadata": {},
   "outputs": [],
   "source": [
    "for col in df.columns[2:16]:\n",
    "    s = df[col].isnull().sum()\n",
    "    print(f'{col}: {s} missing values') "
   ]
  },
  {
   "cell_type": "code",
   "execution_count": null,
   "metadata": {},
   "outputs": [],
   "source": [
    "\n",
    "print(f'before :{df.shape}')\n",
    "new_df = new_df.drop(drop_cols, axis =1)\n",
    "new_df = remove_missing_str_val_rows(new_df, cat_cols)\n",
    "new_df = repair_categorical_missing_vals(new_df, cat_cols)\n",
    "new_df = repair_numeric_missing_vals_zero(new_df, num_cols)\n",
    "\n",
    "\n",
    "print(f'after :{new_df.shape}')"
   ]
  },
  {
   "cell_type": "code",
   "execution_count": null,
   "metadata": {},
   "outputs": [],
   "source": [
    "new_df[tag_cols] = new_df[tag_cols].fillna(0)\n",
    "new_df[targetmarket_cols] = new_df[targetmarket_cols].fillna(0)\n",
    "new_df[sector_list] = new_df[sector_list].fillna(0)\n",
    "new_df[target_ind_list] = new_df[target_ind_list].fillna(0)\n",
    "new_df[technology_list] = new_df[technology_list].fillna(0)"
   ]
  },
  {
   "cell_type": "code",
   "execution_count": null,
   "metadata": {},
   "outputs": [],
   "source": [
    "for col in num_cols:\n",
    "    new_df[col] = conv_to_float(new_df[col])"
   ]
  },
  {
   "cell_type": "code",
   "execution_count": null,
   "metadata": {},
   "outputs": [],
   "source": [
    "new_df.founded"
   ]
  },
  {
   "cell_type": "code",
   "execution_count": null,
   "metadata": {},
   "outputs": [],
   "source": [
    "for col in df.columns[2:16]:\n",
    "    print(get_frequent_elements(df,col,5))\n",
    "    print(\"----------------\")"
   ]
  },
  {
   "cell_type": "code",
   "execution_count": null,
   "metadata": {},
   "outputs": [],
   "source": [
    "df.iloc[:,:13].info()\n"
   ]
  },
  {
   "cell_type": "code",
   "execution_count": null,
   "metadata": {},
   "outputs": [],
   "source": []
  }
 ],
 "metadata": {
  "interpreter": {
   "hash": "8d8353be1dd092e57b3f2779bafc40fd4a1c87861698b48ff47a5f1df7325f59"
  },
  "kernelspec": {
   "display_name": "Python 3.10.0 64-bit",
   "language": "python",
   "name": "python3"
  },
  "language_info": {
   "codemirror_mode": {
    "name": "ipython",
    "version": 3
   },
   "file_extension": ".py",
   "mimetype": "text/x-python",
   "name": "python",
   "nbconvert_exporter": "python",
   "pygments_lexer": "ipython3",
   "version": "3.10.0"
  },
  "orig_nbformat": 4
 },
 "nbformat": 4,
 "nbformat_minor": 2
}
