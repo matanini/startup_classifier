{
 "cells": [
  {
   "cell_type": "code",
   "execution_count": null,
   "metadata": {},
   "outputs": [],
   "source": [
    "# --------------------------- RUN THIS CODE CELL -------------------------------------\n",
    "\n",
    "# --------\n",
    "# imports and setup \n",
    "# Use the following libraries for the assignment, when needed:\n",
    "# --------\n",
    "import re\n",
    "import os\n",
    "\n",
    "import pandas as pd\n",
    "import numpy as np\n",
    "\n",
    "import sklearn \n",
    "from sklearn import preprocessing, metrics, naive_bayes, pipeline, feature_extraction\n",
    "from sklearn.feature_extraction import text\n",
    "from sklearn.preprocessing import Normalizer\n",
    "from sklearn.feature_extraction.text import CountVectorizer\n",
    "from sklearn.metrics import accuracy_score\n",
    "from sklearn.naive_bayes import MultinomialNB \n",
    "from sklearn.pipeline import Pipeline\n",
    "\n",
    "\n",
    "from sklearn import neighbors, tree, ensemble, naive_bayes, svm\n",
    "# *** KNN\n",
    "from sklearn.neighbors import KNeighborsClassifier\n",
    "from sklearn import tree\n",
    "from sklearn.tree import DecisionTreeClassifier\n",
    "from sklearn.ensemble import RandomForestClassifier\n",
    "from sklearn.naive_bayes import GaussianNB\n",
    "from sklearn.svm import SVC\n",
    "from sklearn import metrics\n",
    "from sklearn.metrics import accuracy_score, precision_score, recall_score, f1_score, confusion_matrix"
   ]
  },
  {
   "cell_type": "code",
   "execution_count": null,
   "metadata": {},
   "outputs": [],
   "source": [
    "def person_quotation_pattern_extraction(raw_text):\n",
    "    extracted_person_name, extracted_quotation = None, None\n",
    "    \n",
    "    pattern_quote = r'\"(.*)\"'\n",
    "    \n",
    "    pattern_name = '([A-Z].\\s?\\w+\\s\\w+)'\n",
    "    \n",
    "    quotation = re.search(pattern_quote,raw_text)\n",
    "    if quotation:\n",
    "        extracted_quotation = quotation.group(1)\n",
    "        text = raw_text.replace(f'\"{extracted_quotation}\"', \"\")\n",
    "        \n",
    "        name = re.search(pattern_name,text)\n",
    "        if name:\n",
    "            extracted_person_name = name.group(1)\n",
    "            \n",
    "    return extracted_person_name, extracted_quotation\n"
   ]
  },
  {
   "cell_type": "code",
   "execution_count": null,
   "metadata": {},
   "outputs": [],
   "source": [
    "def transfer_raw_text_to_dataframe(filename):\n",
    "    columns = ['person_name', 'extracted_text']\n",
    "    rows = []\n",
    "    with open(filename, 'r') as file:\n",
    "        for row in file.readlines():\n",
    "            name, quote = person_quotation_pattern_extraction(row)\n",
    "            rows.append([name, quote])\n",
    "    return pd.DataFrame(np.array(rows),columns=columns)\n",
    "        \n"
   ]
  },
  {
   "cell_type": "code",
   "execution_count": null,
   "metadata": {},
   "outputs": [],
   "source": [
    "def create_simple_pipeline():\n",
    "    return Pipeline([('vect', CountVectorizer()),('clf', MultinomialNB())])"
   ]
  },
  {
   "cell_type": "code",
   "execution_count": null,
   "metadata": {},
   "outputs": [],
   "source": [
    "def fit(clf_pipeline, df_train):\n",
    "    clf_pipeline.fit(df_train['extracted_text'], df_train['person_name'])\n"
   ]
  },
  {
   "cell_type": "code",
   "execution_count": null,
   "metadata": {},
   "outputs": [],
   "source": [
    "def predict(clf_trained_pipeline, x_test):\n",
    "    return clf_trained_pipeline.predict(x_test)\n"
   ]
  },
  {
   "cell_type": "code",
   "execution_count": null,
   "metadata": {},
   "outputs": [],
   "source": [
    "def evaluate_accuracy(y_test, y_predicted):\n",
    "    return accuracy_score(y_pred=y_predicted ,y_true=y_test)"
   ]
  }
 ],
 "metadata": {
  "language_info": {
   "name": "python"
  },
  "orig_nbformat": 4
 },
 "nbformat": 4,
 "nbformat_minor": 2
}
