{
 "cells": [
  {
   "cell_type": "code",
   "execution_count": 1,
   "metadata": {},
   "outputs": [],
   "source": [
    "import pandas as pd\n",
    "\n",
    "from sklearn.linear_model import LogisticRegression\n",
    "from sklearn.model_selection import train_test_split\n",
    "from sklearn import metrics"
   ]
  },
  {
   "cell_type": "code",
   "execution_count": 2,
   "metadata": {},
   "outputs": [],
   "source": [
    "df = pd.read_csv('final_cleaned.csv').iloc[:,1:]\n",
    "# df"
   ]
  },
  {
   "cell_type": "code",
   "execution_count": 7,
   "metadata": {},
   "outputs": [
    {
     "data": {
      "text/plain": [
       "0    6554\n",
       "1    3516\n",
       "Name: status, dtype: int64"
      ]
     },
     "execution_count": 7,
     "metadata": {},
     "output_type": "execute_result"
    }
   ],
   "source": [
    "df.drop([], axis=1, inplace=True)"
   ]
  },
  {
   "cell_type": "code",
   "execution_count": 3,
   "metadata": {},
   "outputs": [],
   "source": [
    "df.loc[(df[\"status\"]==1)&(df['total_raised']>4000000), 'succeeded'] = 1\n",
    "df.loc[(df[\"status\"]==0)|(df['total_raised']<=4000000), 'succeeded'] = 0"
   ]
  },
  {
   "cell_type": "code",
   "execution_count": 4,
   "metadata": {},
   "outputs": [],
   "source": [
    "cat_cols = ['company_name','company_about', 'founded', 'business model','employees','product stage','status','fund_stage', 'succeeded']\n",
    "num_cols = ['total_raised','total_rounds', 'investors','ipo_price', 'geo_market_per']\n",
    "tag_cols = [col for col in df.columns if col.startswith('tag_')]\n",
    "targetmarket_cols = [col for col in df.columns if col.startswith('targetmarket_')]\n",
    "sector_list = [col for col in df.columns if col.startswith(\"sector_\")]\n",
    "target_ind_list = [col  for col in df.columns if col.startswith(\"target_industry_\")]\n",
    "technology_list = [col  for col in df.columns if col.startswith(\"core_technology_\")]\n",
    "bin_cols = tag_cols + targetmarket_cols + sector_list + target_ind_list + technology_list"
   ]
  },
  {
   "cell_type": "code",
   "execution_count": 6,
   "metadata": {},
   "outputs": [
    {
     "name": "stdout",
     "output_type": "stream",
     "text": [
      "cat_cols : 9\n",
      "num_cols : 5\n",
      "tag_cols : 2340\n",
      "targetmarket_cols : 259\n",
      "sector_list : 60\n",
      "target_ind_list : 97\n",
      "technology_list : 94\n"
     ]
    }
   ],
   "source": [
    "print(f\"cat_cols : {len(cat_cols)}\")\n",
    "print(f\"num_cols : {len(num_cols)}\")\n",
    "print(f\"tag_cols : {len(tag_cols)}\")\n",
    "print(f\"targetmarket_cols : {len(targetmarket_cols)}\")\n",
    "print(f\"sector_list : {len(sector_list)}\")\n",
    "print(f\"target_ind_list : {len(target_ind_list)}\")\n",
    "print(f\"technology_list : {len(technology_list)}\")\n"
   ]
  },
  {
   "cell_type": "code",
   "execution_count": null,
   "metadata": {},
   "outputs": [],
   "source": []
  },
  {
   "cell_type": "code",
   "execution_count": 27,
   "metadata": {},
   "outputs": [],
   "source": [
    "Xtrain, Xtest, ytrain, ytest = train_test_split(df.iloc[:,2:-1], df.iloc[:,-1],test_size = 0.2)"
   ]
  },
  {
   "cell_type": "code",
   "execution_count": 28,
   "metadata": {},
   "outputs": [
    {
     "data": {
      "text/plain": [
       "LogisticRegression()"
      ]
     },
     "execution_count": 28,
     "metadata": {},
     "output_type": "execute_result"
    }
   ],
   "source": [
    "lr = LogisticRegression()\n",
    "lr.fit(Xtrain, ytrain)"
   ]
  },
  {
   "cell_type": "code",
   "execution_count": 29,
   "metadata": {},
   "outputs": [],
   "source": [
    "ytrain_pred = lr.predict(Xtrain)\n",
    "ytest_pred = lr.predict(Xtest)"
   ]
  },
  {
   "cell_type": "code",
   "execution_count": 30,
   "metadata": {},
   "outputs": [
    {
     "name": "stdout",
     "output_type": "stream",
     "text": [
      "Train results:\n",
      "accuracy is: 0.9221698113207547\n",
      "precision is: 0.5621251071122536\n",
      "recall is: 0.8497409326424871\n",
      "f1 is: 0.6766374419804022\n",
      "---------------------\n",
      "Test results:\n",
      "accuracy is: 0.923038728897716\n",
      "precision is: 0.5316901408450704\n",
      "recall is: 0.8728323699421965\n",
      "f1 is: 0.6608315098468271\n"
     ]
    }
   ],
   "source": [
    "print(\"Train results:\")\n",
    "print(\"accuracy is:\",metrics.accuracy_score(ytrain_pred, ytrain))\n",
    "print(\"precision is:\",metrics.precision_score(ytrain_pred, ytrain))\n",
    "print(\"recall is:\",metrics.recall_score(ytrain_pred, ytrain))\n",
    "print(\"f1 is:\",metrics.f1_score(ytrain_pred, ytrain))\n",
    "print(\"---------------------\")\n",
    "print(\"Test results:\")\n",
    "print(\"accuracy is:\",metrics.accuracy_score(ytest_pred, ytest))\n",
    "print(\"precision is:\",metrics.precision_score(ytest_pred, ytest))\n",
    "print(\"recall is:\",metrics.recall_score(ytest_pred, ytest))\n",
    "print(\"f1 is:\",metrics.f1_score(ytest_pred, ytest))"
   ]
  },
  {
   "cell_type": "code",
   "execution_count": null,
   "metadata": {},
   "outputs": [],
   "source": []
  }
 ],
 "metadata": {
  "interpreter": {
   "hash": "8d8353be1dd092e57b3f2779bafc40fd4a1c87861698b48ff47a5f1df7325f59"
  },
  "kernelspec": {
   "display_name": "Python 3.10.0 64-bit",
   "language": "python",
   "name": "python3"
  },
  "language_info": {
   "codemirror_mode": {
    "name": "ipython",
    "version": 3
   },
   "file_extension": ".py",
   "mimetype": "text/x-python",
   "name": "python",
   "nbconvert_exporter": "python",
   "pygments_lexer": "ipython3",
   "version": "3.10.0"
  },
  "orig_nbformat": 4
 },
 "nbformat": 4,
 "nbformat_minor": 2
}
