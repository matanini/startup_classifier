{
 "cells": [
  {
   "cell_type": "code",
   "execution_count": 3,
   "metadata": {},
   "outputs": [],
   "source": [
    "import pandas as pd\n",
    "\n",
    "\n",
    "import numpy as np\n",
    "from sklearn import preprocessing\n",
    "\n",
    "\n",
    "from lib.preprop import *\n",
    "from lib.geo_to_vector import vectorize_geo\n",
    "from lib.eda_visualization import *"
   ]
  },
  {
   "cell_type": "markdown",
   "metadata": {},
   "source": [
    "Loading the dataframe"
   ]
  },
  {
   "cell_type": "code",
   "execution_count": 2,
   "metadata": {},
   "outputs": [
    {
     "name": "stderr",
     "output_type": "stream",
     "text": [
      "/tmp/ipykernel_45404/1107331204.py:1: DtypeWarning: Columns (18,88) have mixed types. Specify dtype option on import or set low_memory=False.\n",
      "  df = pd.read_csv('df_complete.csv').iloc[:,3:]\n"
     ]
    },
    {
     "data": {
      "text/plain": [
       "(13048, 2868)"
      ]
     },
     "execution_count": 2,
     "metadata": {},
     "output_type": "execute_result"
    }
   ],
   "source": [
    "df = pd.read_csv('df_complete.csv').iloc[:,3:]\n",
    "df.shape"
   ]
  },
  {
   "cell_type": "markdown",
   "metadata": {},
   "source": [
    "Removing duplicated rows"
   ]
  },
  {
   "cell_type": "code",
   "execution_count": 3,
   "metadata": {},
   "outputs": [
    {
     "data": {
      "text/plain": [
       "(10070, 2868)"
      ]
     },
     "execution_count": 3,
     "metadata": {},
     "output_type": "execute_result"
    }
   ],
   "source": [
    "df_no_dups = remove_duplicates(df,['company_name'])\n",
    "df_no_dups.shape"
   ]
  },
  {
   "cell_type": "markdown",
   "metadata": {},
   "source": [
    "Sorting all the columns by groups"
   ]
  },
  {
   "cell_type": "code",
   "execution_count": 6,
   "metadata": {},
   "outputs": [
    {
     "ename": "NameError",
     "evalue": "name 'df_no_dups' is not defined",
     "output_type": "error",
     "traceback": [
      "\u001b[0;31m---------------------------------------------------------------------------\u001b[0m",
      "\u001b[0;31mNameError\u001b[0m                                 Traceback (most recent call last)",
      "\u001b[1;32m/home/matanm/Documents/GitHub/startup_classifier/clean.ipynb Cell 7'\u001b[0m in \u001b[0;36m<cell line: 4>\u001b[0;34m()\u001b[0m\n\u001b[1;32m      <a href='vscode-notebook-cell:/home/matanm/Documents/GitHub/startup_classifier/clean.ipynb#ch0000006?line=1'>2</a>\u001b[0m cat_cols \u001b[39m=\u001b[39m [\u001b[39m'\u001b[39m\u001b[39mcompany_name\u001b[39m\u001b[39m'\u001b[39m,\u001b[39m'\u001b[39m\u001b[39mcompany_about\u001b[39m\u001b[39m'\u001b[39m, \u001b[39m'\u001b[39m\u001b[39mfounded\u001b[39m\u001b[39m'\u001b[39m, \u001b[39m'\u001b[39m\u001b[39mbusiness model\u001b[39m\u001b[39m'\u001b[39m,\u001b[39m'\u001b[39m\u001b[39memployees\u001b[39m\u001b[39m'\u001b[39m,\u001b[39m'\u001b[39m\u001b[39mproduct stage\u001b[39m\u001b[39m'\u001b[39m,\u001b[39m'\u001b[39m\u001b[39mstatus\u001b[39m\u001b[39m'\u001b[39m,\u001b[39m'\u001b[39m\u001b[39mgeographical markets\u001b[39m\u001b[39m'\u001b[39m,\u001b[39m'\u001b[39m\u001b[39mfund_stage\u001b[39m\u001b[39m'\u001b[39m,]\n\u001b[1;32m      <a href='vscode-notebook-cell:/home/matanm/Documents/GitHub/startup_classifier/clean.ipynb#ch0000006?line=2'>3</a>\u001b[0m num_cols \u001b[39m=\u001b[39m [\u001b[39m'\u001b[39m\u001b[39mtotal_raised\u001b[39m\u001b[39m'\u001b[39m,\u001b[39m'\u001b[39m\u001b[39mtotal_rounds\u001b[39m\u001b[39m'\u001b[39m, \u001b[39m'\u001b[39m\u001b[39minvestors\u001b[39m\u001b[39m'\u001b[39m,\u001b[39m'\u001b[39m\u001b[39mipo_price\u001b[39m\u001b[39m'\u001b[39m]\n\u001b[0;32m----> <a href='vscode-notebook-cell:/home/matanm/Documents/GitHub/startup_classifier/clean.ipynb#ch0000006?line=3'>4</a>\u001b[0m tag_cols \u001b[39m=\u001b[39m [col \u001b[39mfor\u001b[39;00m col \u001b[39min\u001b[39;00m df_no_dups\u001b[39m.\u001b[39mcolumns \u001b[39mif\u001b[39;00m col\u001b[39m.\u001b[39mstartswith(\u001b[39m'\u001b[39m\u001b[39mtag_\u001b[39m\u001b[39m'\u001b[39m)]\n\u001b[1;32m      <a href='vscode-notebook-cell:/home/matanm/Documents/GitHub/startup_classifier/clean.ipynb#ch0000006?line=4'>5</a>\u001b[0m targetmarket_cols \u001b[39m=\u001b[39m [col \u001b[39mfor\u001b[39;00m col \u001b[39min\u001b[39;00m df_no_dups\u001b[39m.\u001b[39mcolumns \u001b[39mif\u001b[39;00m col\u001b[39m.\u001b[39mstartswith(\u001b[39m'\u001b[39m\u001b[39mtargetmarket_\u001b[39m\u001b[39m'\u001b[39m)]\n\u001b[1;32m      <a href='vscode-notebook-cell:/home/matanm/Documents/GitHub/startup_classifier/clean.ipynb#ch0000006?line=5'>6</a>\u001b[0m sector_list \u001b[39m=\u001b[39m [col \u001b[39mfor\u001b[39;00m col \u001b[39min\u001b[39;00m df_no_dups\u001b[39m.\u001b[39mcolumns \u001b[39mif\u001b[39;00m col\u001b[39m.\u001b[39mstartswith(\u001b[39m\"\u001b[39m\u001b[39msector_\u001b[39m\u001b[39m\"\u001b[39m)]\n",
      "\u001b[0;31mNameError\u001b[0m: name 'df_no_dups' is not defined"
     ]
    }
   ],
   "source": [
    "drop_cols = ['funding stage','products','raised']\n",
    "cat_cols = ['company_name','company_about', 'founded', 'business model','employees','product stage','status','geographical markets','fund_stage',]\n",
    "num_cols = ['total_raised','total_rounds', 'investors','ipo_price']\n",
    "tag_cols = [col for col in df_no_dups.columns if col.startswith('tag_')]\n",
    "targetmarket_cols = [col for col in df_no_dups.columns if col.startswith('targetmarket_')]\n",
    "sector_list = [col for col in df_no_dups.columns if col.startswith(\"sector_\")]\n",
    "target_ind_list = [col  for col in df_no_dups.columns if col.startswith(\"target_industry_\")]\n",
    "technology_list = [col  for col in df_no_dups.columns if col.startswith(\"core_technology_\")]\n"
   ]
  },
  {
   "cell_type": "markdown",
   "metadata": {},
   "source": [
    "<h1>Repairing columns</h1>\n",
    "<p> Before removing NaN values, we will first identify what values we expect to have in these columns and we will implement it</p>"
   ]
  },
  {
   "cell_type": "markdown",
   "metadata": {},
   "source": [
    "<h2> Column 'founded'  </h2>\n",
    "<p>We will change the string representation of founded - \"month/year\" to an integer \"year\"</br>\n",
    "Using REGEX to find the year</p>"
   ]
  },
  {
   "cell_type": "code",
   "execution_count": 5,
   "metadata": {},
   "outputs": [
    {
     "name": "stdout",
     "output_type": "stream",
     "text": [
      "type of \"founded\" col is : object\n",
      "\n",
      "Running script..\n",
      "\n",
      "Operation succesfull!\n",
      "type of \"founded\" col is : int64\n"
     ]
    },
    {
     "data": {
      "text/plain": [
       "(10070, 2868)"
      ]
     },
     "execution_count": 5,
     "metadata": {},
     "output_type": "execute_result"
    }
   ],
   "source": [
    "# Fixing 'founded' column\n",
    "\n",
    "print(f'type of \"founded\" col is : {df_no_dups.founded.dtype}')\n",
    "print('\\nRunning script..')\n",
    "import re\n",
    "founded_pattern = r\"(\\d{4})\"\n",
    "year_list=[]\n",
    "df_founded = df_no_dups.copy()\n",
    "\n",
    "for i, val in enumerate(df_founded.founded) :\n",
    "    year = val.split('/')[-1]\n",
    "    m = re.search(founded_pattern, year)\n",
    "    if m:\n",
    "        year_list.append(int(m.group(0)))\n",
    "        \n",
    "        \n",
    "df_founded['founded'] = year_list\n",
    "\n",
    "\n",
    "print('\\nOperation succesfull!')\n",
    "print(f'type of \"founded\" col is : {df_founded.founded.dtype}')\n",
    "\n",
    "df_founded.shape\n",
    "        "
   ]
  },
  {
   "cell_type": "markdown",
   "metadata": {},
   "source": [
    "<h2> Column 'geographical markets'</h2>\n",
    "<p>The column contains a string representing the geographical markets the company aims for</br>\n",
    "The script lib/geo_to_vector.py calculates the precentage of the market and add it to the dataframe. </p>"
   ]
  },
  {
   "cell_type": "code",
   "execution_count": 6,
   "metadata": {},
   "outputs": [
    {
     "name": "stdout",
     "output_type": "stream",
     "text": [
      "Geographical markets col:\n",
      "0    australia, canada, france, india, united kingd...\n",
      "1                                                  NaN\n",
      "2                 canada, mexico, spain, united states\n",
      "3                                global, united states\n",
      "4    north america, europe, global, france, germany...\n",
      "Name: geographical markets, dtype: object\n",
      "----------------------------------------\n",
      "\n",
      "Running the script...\n",
      "\n",
      "shape of df['geo_market_per']: (10070,)\n",
      "\n",
      "----------------------------------------\n",
      "Operation succesfull!\n",
      "\n",
      "Geographical percentage col:\n",
      "0    0.239983\n",
      "1         NaN\n",
      "2    0.068498\n",
      "3    1.000000\n",
      "4    1.000000\n",
      "Name: geo_market_per, dtype: float64\n"
     ]
    }
   ],
   "source": [
    "# Fixing 'geographical markets' column\n",
    "\n",
    "print(\"Geographical markets col:\")\n",
    "print(df_founded['geographical markets'].head())\n",
    "print('----------------------------------------')\n",
    "\n",
    "print('\\nRunning the script...\\n')\n",
    "df_geo_market = vectorize_geo(df_founded, 'l')\n",
    "\n",
    "print('\\n----------------------------------------')\n",
    "print('Operation succesfull!\\n')\n",
    "print(\"Geographical percentage col:\")\n",
    "print(df_geo_market['geo_market_per'].head())\n",
    "\n",
    "num_cols.append('geo_market_per')\n",
    "cat_cols.remove('geographical markets')\n",
    "df_geo_market = df_geo_market.drop(['geographical markets'], axis=1)\n",
    "df_geo_market = df_geo_market.dropna(subset=['company_name'])"
   ]
  },
  {
   "cell_type": "markdown",
   "metadata": {},
   "source": [
    "<h1> # Checkpoint : save the new df # </h1>"
   ]
  },
  {
   "cell_type": "code",
   "execution_count": 8,
   "metadata": {},
   "outputs": [],
   "source": [
    "# df_geo_market.to_csv('cp1.csv')\n",
    "df_geo_market = pd.read_csv('cp1.csv').iloc[:,1:]\n",
    "df_geo_market"
   ]
  },
  {
   "cell_type": "markdown",
   "metadata": {},
   "source": [
    "<h1>Handling NaN values</h1>"
   ]
  },
  {
   "cell_type": "markdown",
   "metadata": {},
   "source": [
    "<p>First, we will check how many null values are in each column of the non-binary columns</p>"
   ]
  },
  {
   "cell_type": "code",
   "execution_count": 19,
   "metadata": {},
   "outputs": [
    {
     "name": "stdout",
     "output_type": "stream",
     "text": [
      "missing values:\n",
      "\ttotal_raised: 5704 missing values\n",
      "\ttotal_rounds: 5704 missing values\n",
      "\tinvestors: 5704 missing values\n",
      "\tipo_price: 9920 missing values\n",
      "\tcompany_name: 0 missing values\n",
      "\tcompany_about: 2 missing values\n",
      "\tfounded: 0 missing values\n",
      "\tbusiness model: 68 missing values\n",
      "\temployees: 32 missing values\n",
      "\tproduct stage: 163 missing values\n",
      "\tstatus: 0 missing values\n",
      "\tfund_stage: 5769 missing values\n"
     ]
    }
   ],
   "source": [
    "print(\"missing values:\")\n",
    "cols_to_check = num_cols + cat_cols\n",
    "for col in cols_to_check:\n",
    "    s = df_geo_market[col].isnull().sum()\n",
    "    print(f'\\t{col}: {s} missing values') "
   ]
  },
  {
   "cell_type": "code",
   "execution_count": 21,
   "metadata": {},
   "outputs": [
    {
     "name": "stdout",
     "output_type": "stream",
     "text": [
      "num cols: ['total_raised', 'total_rounds', 'investors', 'ipo_price']\n",
      "cat cols: ['company_name', 'company_about', 'founded', 'business model', 'employees', 'product stage', 'status', 'fund_stage']\n"
     ]
    }
   ],
   "source": [
    "print(f\"num cols: {num_cols}\")\n",
    "print(f\"cat cols: {cat_cols}\")"
   ]
  },
  {
   "cell_type": "code",
   "execution_count": 23,
   "metadata": {},
   "outputs": [
    {
     "name": "stdout",
     "output_type": "stream",
     "text": [
      "before :(10070, 2868)\n",
      "after :(10070, 2865)\n"
     ]
    }
   ],
   "source": [
    "\n",
    "print(f'before :{df_geo_market.shape}')\n",
    "new_df = df_geo_market.drop(drop_cols, axis =1)\n",
    "new_df = remove_missing_str_val_rows(new_df, cat_cols)\n",
    "new_df = repair_categorical_missing_vals(new_df, cat_cols)\n",
    "new_df = repair_numeric_missing_vals_zero(new_df, num_cols)\n",
    "\n",
    "\n",
    "print(f'after :{new_df.shape}')"
   ]
  },
  {
   "cell_type": "code",
   "execution_count": 24,
   "metadata": {},
   "outputs": [],
   "source": [
    "new_df[tag_cols] = new_df[tag_cols].fillna(0)\n",
    "new_df[targetmarket_cols] = new_df[targetmarket_cols].fillna(0)\n",
    "new_df[sector_list] = new_df[sector_list].fillna(0)\n",
    "new_df[target_ind_list] = new_df[target_ind_list].fillna(0)\n",
    "new_df[technology_list] = new_df[technology_list].fillna(0)"
   ]
  },
  {
   "cell_type": "code",
   "execution_count": 25,
   "metadata": {},
   "outputs": [
    {
     "name": "stderr",
     "output_type": "stream",
     "text": [
      "/home/matanm/Documents/GitHub/startup_classifier/lib/m.py:62: SettingWithCopyWarning: \n",
      "A value is trying to be set on a copy of a slice from a DataFrame\n",
      "\n",
      "See the caveats in the documentation: https://pandas.pydata.org/pandas-docs/stable/user_guide/indexing.html#returning-a-view-versus-a-copy\n",
      "  df.iloc[i] = decode_price(val)\n"
     ]
    }
   ],
   "source": [
    "for col in num_cols:\n",
    "    new_df[col] = conv_to_float(new_df[col])"
   ]
  },
  {
   "cell_type": "code",
   "execution_count": 31,
   "metadata": {},
   "outputs": [
    {
     "name": "stdout",
     "output_type": "stream",
     "text": [
      "Checking missing values in non binary columns...\n",
      "\n",
      "total_raised: 0 missing values\n",
      "total_rounds: 0 missing values\n",
      "investors: 0 missing values\n",
      "ipo_price: 0 missing values\n",
      "company_name: 0 missing values\n",
      "company_about: 0 missing values\n",
      "founded: 0 missing values\n",
      "business model: 0 missing values\n",
      "employees: 0 missing values\n",
      "product stage: 0 missing values\n",
      "status: 0 missing values\n",
      "fund_stage: 0 missing values\n"
     ]
    }
   ],
   "source": [
    "print(\"Checking missing values in non binary columns...\\n\")\n",
    "\n",
    "for col in num_cols + cat_cols:\n",
    "    s = new_df[col].isnull().sum()\n",
    "    print(f'{col}: {s} missing values') "
   ]
  },
  {
   "cell_type": "code",
   "execution_count": 32,
   "metadata": {},
   "outputs": [
    {
     "name": "stdout",
     "output_type": "stream",
     "text": [
      "Checking missing values in binary columns...\n",
      "\n",
      "No Nan values in binary columns!\n"
     ]
    }
   ],
   "source": [
    "bin_cols = tag_cols + targetmarket_cols + sector_list + target_ind_list + technology_list\n",
    "print(\"Checking missing values in binary columns...\\n\")\n",
    "are_missing = False\n",
    "for col in bin_cols:\n",
    "    s = new_df[col].isnull().sum()\n",
    "    if s!=0:\n",
    "        are_missing = True\n",
    "        print(f'{col}: {s} missing values') \n",
    "if are_missing is False:\n",
    "    print(\"No Nan values in binary columns!\")"
   ]
  },
  {
   "cell_type": "markdown",
   "metadata": {},
   "source": [
    "<h1> # Checkpoint 2 : save the new df # </h1>\n"
   ]
  },
  {
   "cell_type": "code",
   "execution_count": 23,
   "metadata": {},
   "outputs": [
    {
     "name": "stderr",
     "output_type": "stream",
     "text": [
      "/tmp/ipykernel_66947/2385608323.py:2: DtypeWarning: Columns (82) have mixed types. Specify dtype option on import or set low_memory=False.\n",
      "  new_df = pd.read_csv('cp2.csv').iloc[:,1:]\n"
     ]
    },
    {
     "data": {
      "text/plain": [
       "(10070, 2865)"
      ]
     },
     "execution_count": 23,
     "metadata": {},
     "output_type": "execute_result"
    }
   ],
   "source": [
    "# new_df.to_csv('cp2.csv')\n",
    "new_df = pd.read_csv('cp2.csv').iloc[:,1:]\n",
    "new_df.shape"
   ]
  },
  {
   "cell_type": "code",
   "execution_count": 24,
   "metadata": {},
   "outputs": [],
   "source": [
    "# Defining cols\n",
    "\n",
    "cat_cols = ['company_name','company_about', 'founded', 'business model','employees','product stage','status','geo_market_per','fund_stage']\n",
    "num_cols = ['total_raised','total_rounds', 'investors','ipo_price']\n",
    "tag_cols = [col for col in new_df.columns if col.startswith('tag_')]\n",
    "targetmarket_cols = [col for col in new_df.columns if col.startswith('targetmarket_')]\n",
    "sector_list = [col for col in new_df.columns if col.startswith(\"sector_\")]\n",
    "target_ind_list = [col  for col in new_df.columns if col.startswith(\"target_industry_\")]\n",
    "technology_list = [col  for col in new_df.columns if col.startswith(\"core_technology_\")]\n"
   ]
  },
  {
   "cell_type": "markdown",
   "metadata": {},
   "source": [
    "<h1> Categorical columns </h1>"
   ]
  },
  {
   "cell_type": "markdown",
   "metadata": {},
   "source": [
    "<p> First, we need to explore the categorical columns:</p>"
   ]
  },
  {
   "cell_type": "code",
   "execution_count": 40,
   "metadata": {},
   "outputs": [
    {
     "data": {
      "text/html": [
       "<div>\n",
       "<style scoped>\n",
       "    .dataframe tbody tr th:only-of-type {\n",
       "        vertical-align: middle;\n",
       "    }\n",
       "\n",
       "    .dataframe tbody tr th {\n",
       "        vertical-align: top;\n",
       "    }\n",
       "\n",
       "    .dataframe thead th {\n",
       "        text-align: right;\n",
       "    }\n",
       "</style>\n",
       "<table border=\"1\" class=\"dataframe\">\n",
       "  <thead>\n",
       "    <tr style=\"text-align: right;\">\n",
       "      <th></th>\n",
       "      <th>company_name</th>\n",
       "      <th>company_about</th>\n",
       "      <th>founded</th>\n",
       "      <th>business model</th>\n",
       "      <th>employees</th>\n",
       "      <th>product stage</th>\n",
       "      <th>status</th>\n",
       "      <th>geo_market_per</th>\n",
       "      <th>fund_stage</th>\n",
       "    </tr>\n",
       "  </thead>\n",
       "  <tbody>\n",
       "    <tr>\n",
       "      <th>count</th>\n",
       "      <td>10070</td>\n",
       "      <td>10070</td>\n",
       "      <td>10070.000000</td>\n",
       "      <td>10070</td>\n",
       "      <td>10070</td>\n",
       "      <td>10070</td>\n",
       "      <td>10070</td>\n",
       "      <td>7158.000000</td>\n",
       "      <td>10070</td>\n",
       "    </tr>\n",
       "    <tr>\n",
       "      <th>unique</th>\n",
       "      <td>10070</td>\n",
       "      <td>10015</td>\n",
       "      <td>NaN</td>\n",
       "      <td>16</td>\n",
       "      <td>6</td>\n",
       "      <td>7</td>\n",
       "      <td>2</td>\n",
       "      <td>NaN</td>\n",
       "      <td>11</td>\n",
       "    </tr>\n",
       "    <tr>\n",
       "      <th>top</th>\n",
       "      <td>Tastewise</td>\n",
       "      <td>This company is a known business entity but la...</td>\n",
       "      <td>NaN</td>\n",
       "      <td>B2B</td>\n",
       "      <td>1-10</td>\n",
       "      <td>Released</td>\n",
       "      <td>active</td>\n",
       "      <td>NaN</td>\n",
       "      <td>na</td>\n",
       "    </tr>\n",
       "    <tr>\n",
       "      <th>freq</th>\n",
       "      <td>1</td>\n",
       "      <td>48</td>\n",
       "      <td>NaN</td>\n",
       "      <td>4743</td>\n",
       "      <td>6232</td>\n",
       "      <td>6674</td>\n",
       "      <td>6554</td>\n",
       "      <td>NaN</td>\n",
       "      <td>5769</td>\n",
       "    </tr>\n",
       "    <tr>\n",
       "      <th>mean</th>\n",
       "      <td>NaN</td>\n",
       "      <td>NaN</td>\n",
       "      <td>2011.537736</td>\n",
       "      <td>NaN</td>\n",
       "      <td>NaN</td>\n",
       "      <td>NaN</td>\n",
       "      <td>NaN</td>\n",
       "      <td>0.570576</td>\n",
       "      <td>NaN</td>\n",
       "    </tr>\n",
       "    <tr>\n",
       "      <th>std</th>\n",
       "      <td>NaN</td>\n",
       "      <td>NaN</td>\n",
       "      <td>10.052327</td>\n",
       "      <td>NaN</td>\n",
       "      <td>NaN</td>\n",
       "      <td>NaN</td>\n",
       "      <td>NaN</td>\n",
       "      <td>0.450370</td>\n",
       "      <td>NaN</td>\n",
       "    </tr>\n",
       "    <tr>\n",
       "      <th>min</th>\n",
       "      <td>NaN</td>\n",
       "      <td>NaN</td>\n",
       "      <td>1901.000000</td>\n",
       "      <td>NaN</td>\n",
       "      <td>NaN</td>\n",
       "      <td>NaN</td>\n",
       "      <td>NaN</td>\n",
       "      <td>0.000152</td>\n",
       "      <td>NaN</td>\n",
       "    </tr>\n",
       "    <tr>\n",
       "      <th>25%</th>\n",
       "      <td>NaN</td>\n",
       "      <td>NaN</td>\n",
       "      <td>2010.000000</td>\n",
       "      <td>NaN</td>\n",
       "      <td>NaN</td>\n",
       "      <td>NaN</td>\n",
       "      <td>NaN</td>\n",
       "      <td>0.048394</td>\n",
       "      <td>NaN</td>\n",
       "    </tr>\n",
       "    <tr>\n",
       "      <th>50%</th>\n",
       "      <td>NaN</td>\n",
       "      <td>NaN</td>\n",
       "      <td>2014.000000</td>\n",
       "      <td>NaN</td>\n",
       "      <td>NaN</td>\n",
       "      <td>NaN</td>\n",
       "      <td>NaN</td>\n",
       "      <td>0.866298</td>\n",
       "      <td>NaN</td>\n",
       "    </tr>\n",
       "    <tr>\n",
       "      <th>75%</th>\n",
       "      <td>NaN</td>\n",
       "      <td>NaN</td>\n",
       "      <td>2017.000000</td>\n",
       "      <td>NaN</td>\n",
       "      <td>NaN</td>\n",
       "      <td>NaN</td>\n",
       "      <td>NaN</td>\n",
       "      <td>1.000000</td>\n",
       "      <td>NaN</td>\n",
       "    </tr>\n",
       "    <tr>\n",
       "      <th>max</th>\n",
       "      <td>NaN</td>\n",
       "      <td>NaN</td>\n",
       "      <td>2022.000000</td>\n",
       "      <td>NaN</td>\n",
       "      <td>NaN</td>\n",
       "      <td>NaN</td>\n",
       "      <td>NaN</td>\n",
       "      <td>1.000000</td>\n",
       "      <td>NaN</td>\n",
       "    </tr>\n",
       "  </tbody>\n",
       "</table>\n",
       "</div>"
      ],
      "text/plain": [
       "       company_name                                      company_about  \\\n",
       "count         10070                                              10070   \n",
       "unique        10070                                              10015   \n",
       "top       Tastewise  This company is a known business entity but la...   \n",
       "freq              1                                                 48   \n",
       "mean            NaN                                                NaN   \n",
       "std             NaN                                                NaN   \n",
       "min             NaN                                                NaN   \n",
       "25%             NaN                                                NaN   \n",
       "50%             NaN                                                NaN   \n",
       "75%             NaN                                                NaN   \n",
       "max             NaN                                                NaN   \n",
       "\n",
       "             founded business model employees product stage  status  \\\n",
       "count   10070.000000          10070     10070         10070   10070   \n",
       "unique           NaN             16         6             7       2   \n",
       "top              NaN            B2B      1-10      Released  active   \n",
       "freq             NaN           4743      6232          6674    6554   \n",
       "mean     2011.537736            NaN       NaN           NaN     NaN   \n",
       "std        10.052327            NaN       NaN           NaN     NaN   \n",
       "min      1901.000000            NaN       NaN           NaN     NaN   \n",
       "25%      2010.000000            NaN       NaN           NaN     NaN   \n",
       "50%      2014.000000            NaN       NaN           NaN     NaN   \n",
       "75%      2017.000000            NaN       NaN           NaN     NaN   \n",
       "max      2022.000000            NaN       NaN           NaN     NaN   \n",
       "\n",
       "        geo_market_per fund_stage  \n",
       "count      7158.000000      10070  \n",
       "unique             NaN         11  \n",
       "top                NaN         na  \n",
       "freq               NaN       5769  \n",
       "mean          0.570576        NaN  \n",
       "std           0.450370        NaN  \n",
       "min           0.000152        NaN  \n",
       "25%           0.048394        NaN  \n",
       "50%           0.866298        NaN  \n",
       "75%           1.000000        NaN  \n",
       "max           1.000000        NaN  "
      ]
     },
     "execution_count": 40,
     "metadata": {},
     "output_type": "execute_result"
    }
   ],
   "source": [
    "cat_df = new_df.copy()\n",
    "cat_df[cat_cols].describe(include='all')"
   ]
  },
  {
   "cell_type": "markdown",
   "metadata": {},
   "source": [
    "<p>We see that [employees, business model, status, product stage and fund stage] columns</br>\n",
    "Are with few unique values, therefore we can encode them.</p>"
   ]
  },
  {
   "cell_type": "code",
   "execution_count": 43,
   "metadata": {},
   "outputs": [
    {
     "name": "stdout",
     "output_type": "stream",
     "text": [
      "Value counts for 'employees' column:\n",
      "\n",
      "0    6232\n",
      "1    2683\n",
      "4     822\n",
      "2     189\n",
      "3     112\n",
      "5      32\n",
      "Name: employees, dtype: int64\n",
      "\n",
      "Applying LabelEncoder.\n",
      "\n",
      "New value counts for 'employees' column:\n",
      "\n",
      "0    6232\n",
      "1    2683\n",
      "4     822\n",
      "2     189\n",
      "3     112\n",
      "5      32\n",
      "Name: employees, dtype: int64\n"
     ]
    }
   ],
   "source": [
    "# Employees col\n",
    "print(\"Value counts for 'employees' column:\\n\")\n",
    "print(cat_df.employees.value_counts())\n",
    "\n",
    "print(\"\\nApplying LabelEncoder.\\n\")\n",
    "\n",
    "le = preprocessing.LabelEncoder()\n",
    "cat_df.employees = le.fit_transform(cat_df.employees)\n",
    "print(\"New value counts for 'employees' column:\\n\")\n",
    "print(cat_df.employees.value_counts())"
   ]
  },
  {
   "cell_type": "markdown",
   "metadata": {},
   "source": [
    "We will do the same for the rest of the columns"
   ]
  },
  {
   "cell_type": "code",
   "execution_count": 48,
   "metadata": {},
   "outputs": [
    {
     "data": {
      "text/html": [
       "<div>\n",
       "<style scoped>\n",
       "    .dataframe tbody tr th:only-of-type {\n",
       "        vertical-align: middle;\n",
       "    }\n",
       "\n",
       "    .dataframe tbody tr th {\n",
       "        vertical-align: top;\n",
       "    }\n",
       "\n",
       "    .dataframe thead th {\n",
       "        text-align: right;\n",
       "    }\n",
       "</style>\n",
       "<table border=\"1\" class=\"dataframe\">\n",
       "  <thead>\n",
       "    <tr style=\"text-align: right;\">\n",
       "      <th></th>\n",
       "      <th>company_name</th>\n",
       "      <th>company_about</th>\n",
       "      <th>founded</th>\n",
       "      <th>business model</th>\n",
       "      <th>employees</th>\n",
       "      <th>product stage</th>\n",
       "      <th>status</th>\n",
       "      <th>fund_stage</th>\n",
       "      <th>total_raised</th>\n",
       "      <th>total_rounds</th>\n",
       "      <th>...</th>\n",
       "      <th>targetmarket_public-transportation</th>\n",
       "      <th>targetmarket_smart-mobility</th>\n",
       "      <th>tag_hydraulic-drive</th>\n",
       "      <th>tag_hud</th>\n",
       "      <th>tag_simulation-software</th>\n",
       "      <th>tag_luggage</th>\n",
       "      <th>tag_traffic-violations</th>\n",
       "      <th>tag_car-audio</th>\n",
       "      <th>tag_trip</th>\n",
       "      <th>geo_market_per</th>\n",
       "    </tr>\n",
       "  </thead>\n",
       "  <tbody>\n",
       "    <tr>\n",
       "      <th>0</th>\n",
       "      <td>Tastewise</td>\n",
       "      <td>Tastewise is an AI platform designed to help f...</td>\n",
       "      <td>2017</td>\n",
       "      <td>0</td>\n",
       "      <td>4</td>\n",
       "      <td>5</td>\n",
       "      <td>0</td>\n",
       "      <td>0</td>\n",
       "      <td>21500000.0</td>\n",
       "      <td>3.0</td>\n",
       "      <td>...</td>\n",
       "      <td>0.0</td>\n",
       "      <td>0.0</td>\n",
       "      <td>0.0</td>\n",
       "      <td>0.0</td>\n",
       "      <td>0.0</td>\n",
       "      <td>0.0</td>\n",
       "      <td>0.0</td>\n",
       "      <td>0.0</td>\n",
       "      <td>0.0</td>\n",
       "      <td>0.239983</td>\n",
       "    </tr>\n",
       "    <tr>\n",
       "      <th>1</th>\n",
       "      <td>Wilk Technologies</td>\n",
       "      <td>Wilk is dedicated to revolutionizing the dairy...</td>\n",
       "      <td>2018</td>\n",
       "      <td>1</td>\n",
       "      <td>1</td>\n",
       "      <td>4</td>\n",
       "      <td>0</td>\n",
       "      <td>7</td>\n",
       "      <td>4690000.0</td>\n",
       "      <td>2.0</td>\n",
       "      <td>...</td>\n",
       "      <td>0.0</td>\n",
       "      <td>0.0</td>\n",
       "      <td>0.0</td>\n",
       "      <td>0.0</td>\n",
       "      <td>0.0</td>\n",
       "      <td>0.0</td>\n",
       "      <td>0.0</td>\n",
       "      <td>0.0</td>\n",
       "      <td>0.0</td>\n",
       "      <td>NaN</td>\n",
       "    </tr>\n",
       "    <tr>\n",
       "      <th>2</th>\n",
       "      <td>Eco Pack Green Box</td>\n",
       "      <td>Eco Pack Green Box has developed and patented ...</td>\n",
       "      <td>2008</td>\n",
       "      <td>0</td>\n",
       "      <td>1</td>\n",
       "      <td>5</td>\n",
       "      <td>1</td>\n",
       "      <td>10</td>\n",
       "      <td>0.0</td>\n",
       "      <td>0.0</td>\n",
       "      <td>...</td>\n",
       "      <td>0.0</td>\n",
       "      <td>0.0</td>\n",
       "      <td>0.0</td>\n",
       "      <td>0.0</td>\n",
       "      <td>0.0</td>\n",
       "      <td>0.0</td>\n",
       "      <td>0.0</td>\n",
       "      <td>0.0</td>\n",
       "      <td>0.0</td>\n",
       "      <td>0.068498</td>\n",
       "    </tr>\n",
       "    <tr>\n",
       "      <th>3</th>\n",
       "      <td>BeeHero</td>\n",
       "      <td>BeeHero has developed a platform that can pred...</td>\n",
       "      <td>2017</td>\n",
       "      <td>0</td>\n",
       "      <td>0</td>\n",
       "      <td>5</td>\n",
       "      <td>0</td>\n",
       "      <td>0</td>\n",
       "      <td>24000000.0</td>\n",
       "      <td>4.0</td>\n",
       "      <td>...</td>\n",
       "      <td>0.0</td>\n",
       "      <td>0.0</td>\n",
       "      <td>0.0</td>\n",
       "      <td>0.0</td>\n",
       "      <td>0.0</td>\n",
       "      <td>0.0</td>\n",
       "      <td>0.0</td>\n",
       "      <td>0.0</td>\n",
       "      <td>0.0</td>\n",
       "      <td>1.000000</td>\n",
       "    </tr>\n",
       "    <tr>\n",
       "      <th>4</th>\n",
       "      <td>Cham Foods</td>\n",
       "      <td>Cham Foods is a multinational company with man...</td>\n",
       "      <td>1970</td>\n",
       "      <td>1</td>\n",
       "      <td>1</td>\n",
       "      <td>5</td>\n",
       "      <td>0</td>\n",
       "      <td>10</td>\n",
       "      <td>0.0</td>\n",
       "      <td>0.0</td>\n",
       "      <td>...</td>\n",
       "      <td>0.0</td>\n",
       "      <td>0.0</td>\n",
       "      <td>0.0</td>\n",
       "      <td>0.0</td>\n",
       "      <td>0.0</td>\n",
       "      <td>0.0</td>\n",
       "      <td>0.0</td>\n",
       "      <td>0.0</td>\n",
       "      <td>0.0</td>\n",
       "      <td>1.000000</td>\n",
       "    </tr>\n",
       "    <tr>\n",
       "      <th>...</th>\n",
       "      <td>...</td>\n",
       "      <td>...</td>\n",
       "      <td>...</td>\n",
       "      <td>...</td>\n",
       "      <td>...</td>\n",
       "      <td>...</td>\n",
       "      <td>...</td>\n",
       "      <td>...</td>\n",
       "      <td>...</td>\n",
       "      <td>...</td>\n",
       "      <td>...</td>\n",
       "      <td>...</td>\n",
       "      <td>...</td>\n",
       "      <td>...</td>\n",
       "      <td>...</td>\n",
       "      <td>...</td>\n",
       "      <td>...</td>\n",
       "      <td>...</td>\n",
       "      <td>...</td>\n",
       "      <td>...</td>\n",
       "      <td>...</td>\n",
       "    </tr>\n",
       "    <tr>\n",
       "      <th>10065</th>\n",
       "      <td>Intelligent Smart Ideas</td>\n",
       "      <td>Intelligent Smart Ideas is the creator of iSaf...</td>\n",
       "      <td>2017</td>\n",
       "      <td>6</td>\n",
       "      <td>0</td>\n",
       "      <td>4</td>\n",
       "      <td>0</td>\n",
       "      <td>10</td>\n",
       "      <td>0.0</td>\n",
       "      <td>0.0</td>\n",
       "      <td>...</td>\n",
       "      <td>0.0</td>\n",
       "      <td>0.0</td>\n",
       "      <td>0.0</td>\n",
       "      <td>0.0</td>\n",
       "      <td>0.0</td>\n",
       "      <td>0.0</td>\n",
       "      <td>0.0</td>\n",
       "      <td>0.0</td>\n",
       "      <td>0.0</td>\n",
       "      <td>NaN</td>\n",
       "    </tr>\n",
       "    <tr>\n",
       "      <th>10066</th>\n",
       "      <td>MappMakers</td>\n",
       "      <td>MappMakers has an algorithm that can take the ...</td>\n",
       "      <td>2016</td>\n",
       "      <td>9</td>\n",
       "      <td>0</td>\n",
       "      <td>6</td>\n",
       "      <td>1</td>\n",
       "      <td>10</td>\n",
       "      <td>0.0</td>\n",
       "      <td>0.0</td>\n",
       "      <td>...</td>\n",
       "      <td>0.0</td>\n",
       "      <td>0.0</td>\n",
       "      <td>0.0</td>\n",
       "      <td>0.0</td>\n",
       "      <td>0.0</td>\n",
       "      <td>0.0</td>\n",
       "      <td>0.0</td>\n",
       "      <td>0.0</td>\n",
       "      <td>0.0</td>\n",
       "      <td>NaN</td>\n",
       "    </tr>\n",
       "    <tr>\n",
       "      <th>10067</th>\n",
       "      <td>LYNX Smartcars</td>\n",
       "      <td>LYNX is developing software for connected and ...</td>\n",
       "      <td>2016</td>\n",
       "      <td>0</td>\n",
       "      <td>0</td>\n",
       "      <td>4</td>\n",
       "      <td>1</td>\n",
       "      <td>10</td>\n",
       "      <td>0.0</td>\n",
       "      <td>0.0</td>\n",
       "      <td>...</td>\n",
       "      <td>0.0</td>\n",
       "      <td>0.0</td>\n",
       "      <td>0.0</td>\n",
       "      <td>0.0</td>\n",
       "      <td>0.0</td>\n",
       "      <td>0.0</td>\n",
       "      <td>0.0</td>\n",
       "      <td>0.0</td>\n",
       "      <td>0.0</td>\n",
       "      <td>NaN</td>\n",
       "    </tr>\n",
       "    <tr>\n",
       "      <th>10068</th>\n",
       "      <td>Deeyook Location Technologies</td>\n",
       "      <td>Deeyook seeks to redefine location technology ...</td>\n",
       "      <td>2017</td>\n",
       "      <td>0</td>\n",
       "      <td>1</td>\n",
       "      <td>5</td>\n",
       "      <td>0</td>\n",
       "      <td>10</td>\n",
       "      <td>0.0</td>\n",
       "      <td>0.0</td>\n",
       "      <td>...</td>\n",
       "      <td>0.0</td>\n",
       "      <td>0.0</td>\n",
       "      <td>0.0</td>\n",
       "      <td>0.0</td>\n",
       "      <td>0.0</td>\n",
       "      <td>0.0</td>\n",
       "      <td>0.0</td>\n",
       "      <td>0.0</td>\n",
       "      <td>0.0</td>\n",
       "      <td>1.000000</td>\n",
       "    </tr>\n",
       "    <tr>\n",
       "      <th>10069</th>\n",
       "      <td>SafeCue</td>\n",
       "      <td>SafeCue combines the power of deep learning wi...</td>\n",
       "      <td>2016</td>\n",
       "      <td>0</td>\n",
       "      <td>0</td>\n",
       "      <td>1</td>\n",
       "      <td>1</td>\n",
       "      <td>9</td>\n",
       "      <td>500000.0</td>\n",
       "      <td>1.0</td>\n",
       "      <td>...</td>\n",
       "      <td>0.0</td>\n",
       "      <td>0.0</td>\n",
       "      <td>0.0</td>\n",
       "      <td>0.0</td>\n",
       "      <td>0.0</td>\n",
       "      <td>0.0</td>\n",
       "      <td>0.0</td>\n",
       "      <td>0.0</td>\n",
       "      <td>0.0</td>\n",
       "      <td>0.819262</td>\n",
       "    </tr>\n",
       "  </tbody>\n",
       "</table>\n",
       "<p>10070 rows × 2865 columns</p>\n",
       "</div>"
      ],
      "text/plain": [
       "                        company_name  \\\n",
       "0                          Tastewise   \n",
       "1                  Wilk Technologies   \n",
       "2                 Eco Pack Green Box   \n",
       "3                            BeeHero   \n",
       "4                         Cham Foods   \n",
       "...                              ...   \n",
       "10065        Intelligent Smart Ideas   \n",
       "10066                     MappMakers   \n",
       "10067                 LYNX Smartcars   \n",
       "10068  Deeyook Location Technologies   \n",
       "10069                        SafeCue   \n",
       "\n",
       "                                           company_about  founded  \\\n",
       "0      Tastewise is an AI platform designed to help f...     2017   \n",
       "1      Wilk is dedicated to revolutionizing the dairy...     2018   \n",
       "2      Eco Pack Green Box has developed and patented ...     2008   \n",
       "3      BeeHero has developed a platform that can pred...     2017   \n",
       "4      Cham Foods is a multinational company with man...     1970   \n",
       "...                                                  ...      ...   \n",
       "10065  Intelligent Smart Ideas is the creator of iSaf...     2017   \n",
       "10066  MappMakers has an algorithm that can take the ...     2016   \n",
       "10067  LYNX is developing software for connected and ...     2016   \n",
       "10068  Deeyook seeks to redefine location technology ...     2017   \n",
       "10069  SafeCue combines the power of deep learning wi...     2016   \n",
       "\n",
       "       business model  employees  product stage  status  fund_stage  \\\n",
       "0                   0          4              5       0           0   \n",
       "1                   1          1              4       0           7   \n",
       "2                   0          1              5       1          10   \n",
       "3                   0          0              5       0           0   \n",
       "4                   1          1              5       0          10   \n",
       "...               ...        ...            ...     ...         ...   \n",
       "10065               6          0              4       0          10   \n",
       "10066               9          0              6       1          10   \n",
       "10067               0          0              4       1          10   \n",
       "10068               0          1              5       0          10   \n",
       "10069               0          0              1       1           9   \n",
       "\n",
       "       total_raised  total_rounds  ...  targetmarket_public-transportation  \\\n",
       "0        21500000.0           3.0  ...                                 0.0   \n",
       "1         4690000.0           2.0  ...                                 0.0   \n",
       "2               0.0           0.0  ...                                 0.0   \n",
       "3        24000000.0           4.0  ...                                 0.0   \n",
       "4               0.0           0.0  ...                                 0.0   \n",
       "...             ...           ...  ...                                 ...   \n",
       "10065           0.0           0.0  ...                                 0.0   \n",
       "10066           0.0           0.0  ...                                 0.0   \n",
       "10067           0.0           0.0  ...                                 0.0   \n",
       "10068           0.0           0.0  ...                                 0.0   \n",
       "10069      500000.0           1.0  ...                                 0.0   \n",
       "\n",
       "       targetmarket_smart-mobility  tag_hydraulic-drive  tag_hud  \\\n",
       "0                              0.0                  0.0      0.0   \n",
       "1                              0.0                  0.0      0.0   \n",
       "2                              0.0                  0.0      0.0   \n",
       "3                              0.0                  0.0      0.0   \n",
       "4                              0.0                  0.0      0.0   \n",
       "...                            ...                  ...      ...   \n",
       "10065                          0.0                  0.0      0.0   \n",
       "10066                          0.0                  0.0      0.0   \n",
       "10067                          0.0                  0.0      0.0   \n",
       "10068                          0.0                  0.0      0.0   \n",
       "10069                          0.0                  0.0      0.0   \n",
       "\n",
       "       tag_simulation-software  tag_luggage  tag_traffic-violations  \\\n",
       "0                          0.0          0.0                     0.0   \n",
       "1                          0.0          0.0                     0.0   \n",
       "2                          0.0          0.0                     0.0   \n",
       "3                          0.0          0.0                     0.0   \n",
       "4                          0.0          0.0                     0.0   \n",
       "...                        ...          ...                     ...   \n",
       "10065                      0.0          0.0                     0.0   \n",
       "10066                      0.0          0.0                     0.0   \n",
       "10067                      0.0          0.0                     0.0   \n",
       "10068                      0.0          0.0                     0.0   \n",
       "10069                      0.0          0.0                     0.0   \n",
       "\n",
       "       tag_car-audio  tag_trip  geo_market_per  \n",
       "0                0.0       0.0        0.239983  \n",
       "1                0.0       0.0             NaN  \n",
       "2                0.0       0.0        0.068498  \n",
       "3                0.0       0.0        1.000000  \n",
       "4                0.0       0.0        1.000000  \n",
       "...              ...       ...             ...  \n",
       "10065            0.0       0.0             NaN  \n",
       "10066            0.0       0.0             NaN  \n",
       "10067            0.0       0.0             NaN  \n",
       "10068            0.0       0.0        1.000000  \n",
       "10069            0.0       0.0        0.819262  \n",
       "\n",
       "[10070 rows x 2865 columns]"
      ]
     },
     "execution_count": 48,
     "metadata": {},
     "output_type": "execute_result"
    }
   ],
   "source": [
    "cols = ['business model', 'status', 'product stage', 'fund_stage']\n",
    "for col in cols:\n",
    "    cat_df[col] = preprocessing.LabelEncoder().fit_transform(cat_df[col])\n",
    "\n",
    "cat_df"
   ]
  },
  {
   "cell_type": "code",
   "execution_count": null,
   "metadata": {},
   "outputs": [],
   "source": []
  },
  {
   "cell_type": "code",
   "execution_count": null,
   "metadata": {},
   "outputs": [],
   "source": []
  },
  {
   "cell_type": "code",
   "execution_count": null,
   "metadata": {},
   "outputs": [],
   "source": []
  },
  {
   "cell_type": "code",
   "execution_count": null,
   "metadata": {},
   "outputs": [],
   "source": []
  },
  {
   "cell_type": "code",
   "execution_count": null,
   "metadata": {},
   "outputs": [],
   "source": []
  },
  {
   "cell_type": "markdown",
   "metadata": {},
   "source": [
    "<h1>Final cleaned dataframe</h1>\n",
    "<p>Saving the df as csv file in the following col order</br>\n",
    "cat_cols, num_cols, tag_cols, targetmarket_cols, sector_list, target_ind_list, technology_list</p>"
   ]
  },
  {
   "cell_type": "code",
   "execution_count": 35,
   "metadata": {},
   "outputs": [],
   "source": [
    "# Final cleaned non-binary cols\n",
    "\n",
    "final_df = pd.DataFrame(new_df, columns = cat_cols + num_cols + tag_cols + targetmarket_cols + sector_list + target_ind_list + technology_list)\n",
    "final_df.to_csv('final_cleaned.csv')"
   ]
  }
 ],
 "metadata": {
  "interpreter": {
   "hash": "916dbcbb3f70747c44a77c7bcd40155683ae19c65e1c03b4aa3499c5328201f1"
  },
  "kernelspec": {
   "display_name": "Python 3.10.4 64-bit",
   "language": "python",
   "name": "python3"
  },
  "language_info": {
   "codemirror_mode": {
    "name": "ipython",
    "version": 3
   },
   "file_extension": ".py",
   "mimetype": "text/x-python",
   "name": "python",
   "nbconvert_exporter": "python",
   "pygments_lexer": "ipython3",
   "version": "3.10.4"
  },
  "orig_nbformat": 4
 },
 "nbformat": 4,
 "nbformat_minor": 2
}
