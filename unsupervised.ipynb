{
 "cells": [
  {
   "cell_type": "code",
   "execution_count": 1,
   "metadata": {},
   "outputs": [],
   "source": [
    "from lib.unsupervised_learning import *\n",
    "from lib.cross_validation_for_classification import *"
   ]
  },
  {
   "cell_type": "code",
   "execution_count": 2,
   "metadata": {},
   "outputs": [
    {
     "name": "stdout",
     "output_type": "stream",
     "text": [
      "Binary dataframe shape: (10070, 1927)\n",
      "PCA dataframe shape: (10070, 32)\n"
     ]
    }
   ],
   "source": [
    "bin_df = pd.read_csv('data/dataframes/df_after_cols_reduction.csv').iloc[:,1:]\n",
    "pca_df = pd.read_csv('data/dataframes/pca_df.csv').iloc[:,1:]\n",
    "\n",
    "print(f'Binary dataframe shape: {bin_df.shape}')\n",
    "print(f'PCA dataframe shape: {pca_df.shape}')\n"
   ]
  },
  {
   "cell_type": "code",
   "execution_count": 3,
   "metadata": {},
   "outputs": [],
   "source": [
    "cat_cols = ['founded', 'business model','employees','product stage','status','funding stage','succeeded']\n",
    "num_cols = ['total_raised','total_rounds', 'investors','ipo_price', 'geo_market_per']\n",
    "tag_cols = [col for col in bin_df.columns if col.startswith('tag_')]\n",
    "targetmarket_cols = [col for col in bin_df.columns if col.startswith('targetmarket_')]\n",
    "sector_list = [col for col in bin_df.columns if col.startswith(\"sector_\")]\n",
    "target_ind_list = [col  for col in bin_df.columns if col.startswith(\"industry_\")]\n",
    "technology_list = [col  for col in bin_df.columns if col.startswith(\"technology_\")]\n",
    "\n",
    "pca_cols = [col for col in pca_df.columns[2:] if col not in cat_cols and col not in num_cols]\n",
    "bin_cols = tag_cols + targetmarket_cols + sector_list + target_ind_list + technology_list"
   ]
  },
  {
   "cell_type": "code",
   "execution_count": 4,
   "metadata": {},
   "outputs": [
    {
     "name": "stdout",
     "output_type": "stream",
     "text": [
      "X_train shape: (8056, 31)\n",
      "y_train shape: (8056,)\n"
     ]
    }
   ],
   "source": [
    "X_train, X_test, y_train, y_test = split_to_train_and_test(pca_df, 'succeeded', 0.2, 42, 'succeeded')\n",
    "print(f'X_train shape: {X_train.shape}')\n",
    "# print(f'X_test shape: {X_test.shape}')\n",
    "print(f'y_train shape: {y_train.shape}')\n",
    "\n"
   ]
  },
  {
   "cell_type": "code",
   "execution_count": 5,
   "metadata": {},
   "outputs": [
    {
     "data": {
      "text/plain": [
       "Index(['company_name', 'company_about', 'founded', 'business model',\n",
       "       'employees', 'product stage', 'status', 'funding stage', 'total_raised',\n",
       "       'total_rounds', 'investors', 'ipo_price', 'geo_market_per',\n",
       "       'tag_cols_x', 'tag_cols_y', 'tag_cols_z', 'targetmarket_cols_x',\n",
       "       'targetmarket_cols_y', 'targetmarket_cols_z', 'sector_list_x',\n",
       "       'sector_list_y', 'sector_list_z', 'industry_list_x', 'industry_list_y',\n",
       "       'industry_list_z', 'technology_list_x', 'technology_list_y',\n",
       "       'technology_list_z', 'bin_cols_x', 'bin_cols_y', 'bin_cols_z'],\n",
       "      dtype='object')"
      ]
     },
     "execution_count": 5,
     "metadata": {},
     "output_type": "execute_result"
    }
   ],
   "source": [
    "X_train.columns\n",
    "# sum_X_train = X_train['succeeded'].sum()\n",
    "# sum_y_train = y_train.sum()\n",
    "# print(f'X_train succeeded percentage: {sum_X_train/X_train.shape[0]}')\n",
    "# print(f'y_train succeeded percentage: {sum_y_train/y_train.shape[0]}')"
   ]
  },
  {
   "cell_type": "code",
   "execution_count": 6,
   "metadata": {},
   "outputs": [
    {
     "name": "stdout",
     "output_type": "stream",
     "text": [
      "X1 shape: (10070, 1925)\n",
      "X2 shape: (10070, 12)\n",
      "X3 shape: (10070, 18)\n"
     ]
    }
   ],
   "source": [
    "# X1 is the entire data without company name and about\n",
    "\n",
    "X1 = bin_df.iloc[:,2:]\n",
    "print(f'X1 shape: {X1.shape}')\n",
    "df_scaled = scale_dataset(X1)\n",
    "\n",
    "# X2 is the data without the binary columns\n",
    "\n",
    "X2 = bin_df[cat_cols+num_cols]\n",
    "print(f'X2 shape: {X2.shape}')\n",
    "df_scaled2 = scale_dataset(X2)\n",
    "\n",
    "# X3 is the PCA data \n",
    "X3 = pca_df[pca_cols]\n",
    "print(f'X3 shape: {X3.shape}')\n",
    "df_scaled3 = scale_dataset(X3)\n"
   ]
  },
  {
   "cell_type": "markdown",
   "metadata": {},
   "source": [
    "KMeans"
   ]
  },
  {
   "cell_type": "code",
   "execution_count": 12,
   "metadata": {},
   "outputs": [
    {
     "data": {
      "text/html": [
       "<div>\n",
       "<style scoped>\n",
       "    .dataframe tbody tr th:only-of-type {\n",
       "        vertical-align: middle;\n",
       "    }\n",
       "\n",
       "    .dataframe tbody tr th {\n",
       "        vertical-align: top;\n",
       "    }\n",
       "\n",
       "    .dataframe thead th {\n",
       "        text-align: right;\n",
       "    }\n",
       "</style>\n",
       "<table border=\"1\" class=\"dataframe\">\n",
       "  <thead>\n",
       "    <tr style=\"text-align: right;\">\n",
       "      <th></th>\n",
       "      <th>tag_cols_x</th>\n",
       "      <th>tag_cols_y</th>\n",
       "      <th>tag_cols_z</th>\n",
       "      <th>targetmarket_cols_x</th>\n",
       "      <th>targetmarket_cols_y</th>\n",
       "      <th>targetmarket_cols_z</th>\n",
       "      <th>sector_list_x</th>\n",
       "      <th>sector_list_y</th>\n",
       "      <th>sector_list_z</th>\n",
       "      <th>industry_list_x</th>\n",
       "      <th>industry_list_y</th>\n",
       "      <th>industry_list_z</th>\n",
       "      <th>technology_list_x</th>\n",
       "      <th>technology_list_y</th>\n",
       "      <th>technology_list_z</th>\n",
       "    </tr>\n",
       "  </thead>\n",
       "  <tbody>\n",
       "    <tr>\n",
       "      <th>0</th>\n",
       "      <td>1.289208</td>\n",
       "      <td>-0.487458</td>\n",
       "      <td>0.197894</td>\n",
       "      <td>-0.069351</td>\n",
       "      <td>-0.013800</td>\n",
       "      <td>0.173931</td>\n",
       "      <td>-0.087427</td>\n",
       "      <td>0.013163</td>\n",
       "      <td>-0.144845</td>\n",
       "      <td>-0.003670</td>\n",
       "      <td>-0.408987</td>\n",
       "      <td>-0.012019</td>\n",
       "      <td>-0.554840</td>\n",
       "      <td>-0.044766</td>\n",
       "      <td>0.002059</td>\n",
       "    </tr>\n",
       "    <tr>\n",
       "      <th>1</th>\n",
       "      <td>-0.549806</td>\n",
       "      <td>-0.359715</td>\n",
       "      <td>-0.167419</td>\n",
       "      <td>-0.091730</td>\n",
       "      <td>-0.156987</td>\n",
       "      <td>-0.060476</td>\n",
       "      <td>-0.094526</td>\n",
       "      <td>0.013387</td>\n",
       "      <td>-0.151922</td>\n",
       "      <td>0.006536</td>\n",
       "      <td>-0.408642</td>\n",
       "      <td>-0.108360</td>\n",
       "      <td>-0.680712</td>\n",
       "      <td>-0.078567</td>\n",
       "      <td>0.002736</td>\n",
       "    </tr>\n",
       "    <tr>\n",
       "      <th>2</th>\n",
       "      <td>-0.585425</td>\n",
       "      <td>-0.405731</td>\n",
       "      <td>-0.271121</td>\n",
       "      <td>-0.088820</td>\n",
       "      <td>-0.065728</td>\n",
       "      <td>0.259929</td>\n",
       "      <td>-0.091729</td>\n",
       "      <td>0.014084</td>\n",
       "      <td>-0.155268</td>\n",
       "      <td>0.005957</td>\n",
       "      <td>-0.432326</td>\n",
       "      <td>-0.111942</td>\n",
       "      <td>-0.673476</td>\n",
       "      <td>-0.072768</td>\n",
       "      <td>0.006664</td>\n",
       "    </tr>\n",
       "    <tr>\n",
       "      <th>3</th>\n",
       "      <td>0.843499</td>\n",
       "      <td>-1.194380</td>\n",
       "      <td>0.153062</td>\n",
       "      <td>-0.101314</td>\n",
       "      <td>-0.203831</td>\n",
       "      <td>0.138659</td>\n",
       "      <td>-0.102403</td>\n",
       "      <td>0.015120</td>\n",
       "      <td>-0.161164</td>\n",
       "      <td>0.006536</td>\n",
       "      <td>-0.408642</td>\n",
       "      <td>-0.108360</td>\n",
       "      <td>-0.695590</td>\n",
       "      <td>0.012098</td>\n",
       "      <td>0.066635</td>\n",
       "    </tr>\n",
       "    <tr>\n",
       "      <th>4</th>\n",
       "      <td>-0.404454</td>\n",
       "      <td>-0.112980</td>\n",
       "      <td>-0.132330</td>\n",
       "      <td>-0.091766</td>\n",
       "      <td>0.069829</td>\n",
       "      <td>0.198406</td>\n",
       "      <td>-0.091729</td>\n",
       "      <td>0.014084</td>\n",
       "      <td>-0.155268</td>\n",
       "      <td>0.006629</td>\n",
       "      <td>-0.407161</td>\n",
       "      <td>-0.101624</td>\n",
       "      <td>-0.694744</td>\n",
       "      <td>-0.078511</td>\n",
       "      <td>0.007291</td>\n",
       "    </tr>\n",
       "    <tr>\n",
       "      <th>...</th>\n",
       "      <td>...</td>\n",
       "      <td>...</td>\n",
       "      <td>...</td>\n",
       "      <td>...</td>\n",
       "      <td>...</td>\n",
       "      <td>...</td>\n",
       "      <td>...</td>\n",
       "      <td>...</td>\n",
       "      <td>...</td>\n",
       "      <td>...</td>\n",
       "      <td>...</td>\n",
       "      <td>...</td>\n",
       "      <td>...</td>\n",
       "      <td>...</td>\n",
       "      <td>...</td>\n",
       "    </tr>\n",
       "    <tr>\n",
       "      <th>10065</th>\n",
       "      <td>-0.320779</td>\n",
       "      <td>-0.139663</td>\n",
       "      <td>-0.068694</td>\n",
       "      <td>-0.062544</td>\n",
       "      <td>-0.013904</td>\n",
       "      <td>0.536217</td>\n",
       "      <td>-0.118448</td>\n",
       "      <td>0.028489</td>\n",
       "      <td>-0.281765</td>\n",
       "      <td>0.045659</td>\n",
       "      <td>-0.672573</td>\n",
       "      <td>-0.203291</td>\n",
       "      <td>-0.608230</td>\n",
       "      <td>-0.012030</td>\n",
       "      <td>0.030419</td>\n",
       "    </tr>\n",
       "    <tr>\n",
       "      <th>10066</th>\n",
       "      <td>-0.245032</td>\n",
       "      <td>0.454302</td>\n",
       "      <td>0.365974</td>\n",
       "      <td>-0.091110</td>\n",
       "      <td>-0.155818</td>\n",
       "      <td>-0.059775</td>\n",
       "      <td>-0.108064</td>\n",
       "      <td>0.025461</td>\n",
       "      <td>-0.246451</td>\n",
       "      <td>-0.634101</td>\n",
       "      <td>0.189498</td>\n",
       "      <td>0.656471</td>\n",
       "      <td>0.536112</td>\n",
       "      <td>0.112413</td>\n",
       "      <td>0.844998</td>\n",
       "    </tr>\n",
       "    <tr>\n",
       "      <th>10067</th>\n",
       "      <td>-0.334645</td>\n",
       "      <td>-0.093767</td>\n",
       "      <td>-0.097638</td>\n",
       "      <td>-0.092732</td>\n",
       "      <td>-0.146695</td>\n",
       "      <td>0.394939</td>\n",
       "      <td>-0.118448</td>\n",
       "      <td>0.028489</td>\n",
       "      <td>-0.281765</td>\n",
       "      <td>0.020222</td>\n",
       "      <td>-0.629926</td>\n",
       "      <td>-0.161708</td>\n",
       "      <td>0.490647</td>\n",
       "      <td>0.782011</td>\n",
       "      <td>-0.382774</td>\n",
       "    </tr>\n",
       "    <tr>\n",
       "      <th>10068</th>\n",
       "      <td>-0.044407</td>\n",
       "      <td>-0.167976</td>\n",
       "      <td>-0.208860</td>\n",
       "      <td>-0.091110</td>\n",
       "      <td>-0.155818</td>\n",
       "      <td>-0.059775</td>\n",
       "      <td>-0.108064</td>\n",
       "      <td>0.025461</td>\n",
       "      <td>-0.246451</td>\n",
       "      <td>0.057728</td>\n",
       "      <td>-0.607667</td>\n",
       "      <td>-0.139457</td>\n",
       "      <td>-0.706862</td>\n",
       "      <td>0.052321</td>\n",
       "      <td>0.132538</td>\n",
       "    </tr>\n",
       "    <tr>\n",
       "      <th>10069</th>\n",
       "      <td>0.378030</td>\n",
       "      <td>-0.456353</td>\n",
       "      <td>0.155259</td>\n",
       "      <td>-0.092732</td>\n",
       "      <td>-0.146695</td>\n",
       "      <td>0.394939</td>\n",
       "      <td>-0.118448</td>\n",
       "      <td>0.028489</td>\n",
       "      <td>-0.281765</td>\n",
       "      <td>0.020222</td>\n",
       "      <td>-0.629926</td>\n",
       "      <td>-0.161708</td>\n",
       "      <td>-0.553181</td>\n",
       "      <td>-0.046197</td>\n",
       "      <td>-0.021253</td>\n",
       "    </tr>\n",
       "  </tbody>\n",
       "</table>\n",
       "<p>10070 rows × 15 columns</p>\n",
       "</div>"
      ],
      "text/plain": [
       "       tag_cols_x  tag_cols_y  tag_cols_z  targetmarket_cols_x  \\\n",
       "0        1.289208   -0.487458    0.197894            -0.069351   \n",
       "1       -0.549806   -0.359715   -0.167419            -0.091730   \n",
       "2       -0.585425   -0.405731   -0.271121            -0.088820   \n",
       "3        0.843499   -1.194380    0.153062            -0.101314   \n",
       "4       -0.404454   -0.112980   -0.132330            -0.091766   \n",
       "...           ...         ...         ...                  ...   \n",
       "10065   -0.320779   -0.139663   -0.068694            -0.062544   \n",
       "10066   -0.245032    0.454302    0.365974            -0.091110   \n",
       "10067   -0.334645   -0.093767   -0.097638            -0.092732   \n",
       "10068   -0.044407   -0.167976   -0.208860            -0.091110   \n",
       "10069    0.378030   -0.456353    0.155259            -0.092732   \n",
       "\n",
       "       targetmarket_cols_y  targetmarket_cols_z  sector_list_x  sector_list_y  \\\n",
       "0                -0.013800             0.173931      -0.087427       0.013163   \n",
       "1                -0.156987            -0.060476      -0.094526       0.013387   \n",
       "2                -0.065728             0.259929      -0.091729       0.014084   \n",
       "3                -0.203831             0.138659      -0.102403       0.015120   \n",
       "4                 0.069829             0.198406      -0.091729       0.014084   \n",
       "...                    ...                  ...            ...            ...   \n",
       "10065            -0.013904             0.536217      -0.118448       0.028489   \n",
       "10066            -0.155818            -0.059775      -0.108064       0.025461   \n",
       "10067            -0.146695             0.394939      -0.118448       0.028489   \n",
       "10068            -0.155818            -0.059775      -0.108064       0.025461   \n",
       "10069            -0.146695             0.394939      -0.118448       0.028489   \n",
       "\n",
       "       sector_list_z  industry_list_x  industry_list_y  industry_list_z  \\\n",
       "0          -0.144845        -0.003670        -0.408987        -0.012019   \n",
       "1          -0.151922         0.006536        -0.408642        -0.108360   \n",
       "2          -0.155268         0.005957        -0.432326        -0.111942   \n",
       "3          -0.161164         0.006536        -0.408642        -0.108360   \n",
       "4          -0.155268         0.006629        -0.407161        -0.101624   \n",
       "...              ...              ...              ...              ...   \n",
       "10065      -0.281765         0.045659        -0.672573        -0.203291   \n",
       "10066      -0.246451        -0.634101         0.189498         0.656471   \n",
       "10067      -0.281765         0.020222        -0.629926        -0.161708   \n",
       "10068      -0.246451         0.057728        -0.607667        -0.139457   \n",
       "10069      -0.281765         0.020222        -0.629926        -0.161708   \n",
       "\n",
       "       technology_list_x  technology_list_y  technology_list_z  \n",
       "0              -0.554840          -0.044766           0.002059  \n",
       "1              -0.680712          -0.078567           0.002736  \n",
       "2              -0.673476          -0.072768           0.006664  \n",
       "3              -0.695590           0.012098           0.066635  \n",
       "4              -0.694744          -0.078511           0.007291  \n",
       "...                  ...                ...                ...  \n",
       "10065          -0.608230          -0.012030           0.030419  \n",
       "10066           0.536112           0.112413           0.844998  \n",
       "10067           0.490647           0.782011          -0.382774  \n",
       "10068          -0.706862           0.052321           0.132538  \n",
       "10069          -0.553181          -0.046197          -0.021253  \n",
       "\n",
       "[10070 rows x 15 columns]"
      ]
     },
     "execution_count": 12,
     "metadata": {},
     "output_type": "execute_result"
    }
   ],
   "source": [
    "import pandas as pd\n",
    "import numpy as np\n",
    "import matplotlib.pyplot as plt\n",
    "%matplotlib inline\n",
    "\n",
    "data = pd.read_csv('data/dataframes/pca_df.csv').iloc[:,1:]\n",
    "cat_cols = ['founded', 'business model','employees','product stage','status','funding stage','succeeded']\n",
    "num_cols = ['total_raised','total_rounds', 'investors','ipo_price', 'geo_market_per']\n",
    "tag_cols = [col for col in data.columns if col.startswith('tag_')]\n",
    "targetmarket_cols = [col for col in data.columns if col.startswith('targetmarket_')]\n",
    "sector_list = [col for col in data.columns if col.startswith(\"sector_\")]\n",
    "target_ind_list = [col  for col in data.columns if col.startswith(\"industry_\")]\n",
    "technology_list = [col  for col in data.columns if col.startswith(\"technology_\")]\n",
    "\n",
    "# pca_cols = [col for col in pca_df.columns[2:] if col not in cat_cols and col not in num_cols]\n",
    "bin_cols = tag_cols + targetmarket_cols + sector_list + target_ind_list + technology_list\n",
    "\n",
    "data[bin_cols]\n"
   ]
  },
  {
   "cell_type": "code",
   "execution_count": 8,
   "metadata": {},
   "outputs": [
    {
     "data": {
      "text/plain": [
       "0        1.0\n",
       "1        1.0\n",
       "2        0.0\n",
       "3        1.0\n",
       "4        1.0\n",
       "        ... \n",
       "10065    1.0\n",
       "10066    0.0\n",
       "10067    1.0\n",
       "10068    1.0\n",
       "10069    0.0\n",
       "Name: succeeded, Length: 10070, dtype: float64"
      ]
     },
     "execution_count": 8,
     "metadata": {},
     "output_type": "execute_result"
    }
   ],
   "source": [
    "data['succeeded']"
   ]
  },
  {
   "cell_type": "code",
   "execution_count": 9,
   "metadata": {},
   "outputs": [],
   "source": [
    "data_bin_cols = data[bin_cols + cat_cols + num_cols]\n",
    "from sklearn.preprocessing import normalize\n",
    "data_scaled = normalize(data_bin_cols)\n",
    "data_scaled = pd.DataFrame(data_scaled, columns=data_bin_cols.columns)\n",
    "\n",
    "import scipy.cluster.hierarchy as shc\n",
    "plt.figure(figsize=(10, 7))  \n",
    "plt.title(\"Dendrograms\")  \n",
    "dend = shc.dendrogram(shc.linkage(data_scaled, method='ward'))"
   ]
  },
  {
   "cell_type": "code",
   "execution_count": 10,
   "metadata": {},
   "outputs": [],
   "source": [
    "from sklearn.cluster import AgglomerativeClustering\n",
    "from sklearn import metrics\n",
    "\n",
    "cluster = AgglomerativeClustering(n_clusters=2, affinity='euclidean', linkage='ward')  \n",
    "y_pred = pd.Series(cluster.fit_predict(data_scaled))"
   ]
  },
  {
   "cell_type": "code",
   "execution_count": 11,
   "metadata": {},
   "outputs": [
    {
     "data": {
      "text/plain": [
       "0.7035116313527929"
      ]
     },
     "execution_count": 11,
     "metadata": {},
     "output_type": "execute_result"
    }
   ],
   "source": [
    "metrics.f1_score(data['succeeded'], y_pred)"
   ]
  }
 ],
 "metadata": {
  "kernelspec": {
   "display_name": "Python 3.10.0 64-bit",
   "language": "python",
   "name": "python3"
  },
  "language_info": {
   "codemirror_mode": {
    "name": "ipython",
    "version": 3
   },
   "file_extension": ".py",
   "mimetype": "text/x-python",
   "name": "python",
   "nbconvert_exporter": "python",
   "pygments_lexer": "ipython3",
   "version": "3.10.0"
  },
  "orig_nbformat": 4,
  "vscode": {
   "interpreter": {
    "hash": "8d8353be1dd092e57b3f2779bafc40fd4a1c87861698b48ff47a5f1df7325f59"
   }
  }
 },
 "nbformat": 4,
 "nbformat_minor": 2
}
